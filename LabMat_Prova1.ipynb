{
  "nbformat": 4,
  "nbformat_minor": 5,
  "metadata": {
    "kernelspec": {
      "display_name": "Python 3",
      "language": "python",
      "name": "python3"
    },
    "language_info": {
      "codemirror_mode": {
        "name": "ipython",
        "version": 3
      },
      "file_extension": ".py",
      "mimetype": "text/x-python",
      "name": "python",
      "nbconvert_exporter": "python",
      "pygments_lexer": "ipython3",
      "version": "3.7.6"
    },
    "colab": {
      "name": "Prova_1.ipynb",
      "provenance": []
    }
  },
  "cells": [
    {
      "cell_type": "code",
      "metadata": {
        "id": "aToc6q3qZWLt"
      },
      "source": [
        "#Aluno: Paulo Francisco da Silva Junior"
      ],
      "id": "aToc6q3qZWLt",
      "execution_count": null,
      "outputs": []
    },
    {
      "cell_type": "code",
      "metadata": {
        "id": "eoFpA0QEZWL0"
      },
      "source": [
        "import numpy as np\n",
        "from scipy.integrate import odeint\n",
        "import scipy.optimize as sc\n",
        "import matplotlib.pyplot as plt\n",
        "import requests as rq\n",
        "from bs4 import BeautifulSoup\n",
        "import pandas as pd"
      ],
      "id": "eoFpA0QEZWL0",
      "execution_count": null,
      "outputs": []
    },
    {
      "cell_type": "markdown",
      "metadata": {
        "id": "cE1kntUMZWL0"
      },
      "source": [
        "Questão 1.\n",
        "\n",
        "Considere o seguinte problema e seu valor inicial $ y^{'} = t^{2} + cos(y) $, $ y(0) = 0 $. Plote a solução para $ 0 \\leq t \\leq 1 $, e encontre o valor aproximado de $ y(1) $."
      ],
      "id": "cE1kntUMZWL0"
    },
    {
      "cell_type": "code",
      "metadata": {
        "id": "UwFjRDchZWL1",
        "outputId": "d5db2f51-c0ac-4d24-ccfe-280a6de9abfe"
      },
      "source": [
        "def modelo(y,t):\n",
        "    #dy/dt=t**2+np.cos(y)\n",
        "    dydt = t**2+np.cos(y)\n",
        "    return dydt\n",
        "y0 = 0\n",
        "t = np.linspace(0,1)\n",
        "y = odeint(modelo, y0, t)\n",
        "\n",
        "plt.plot(t,y);\n",
        "plt.xlabel(\"t\")\n",
        "plt.ylabel(\"y'\")\n",
        "plt.show()"
      ],
      "id": "UwFjRDchZWL1",
      "execution_count": null,
      "outputs": [
        {
          "data": {
            "image/png": "[encoded data removed]",
            "text/plain": [
              "<Figure size 432x288 with 1 Axes>"
            ]
          },
          "metadata": {
            "needs_background": "light"
          },
          "output_type": "display_data"
        }
      ]
    },
    {
      "cell_type": "code",
      "metadata": {
        "id": "oUWj3XvpZWL2",
        "outputId": "e2567a4d-41d0-4ea0-c117-4acf2510305f"
      },
      "source": [
        "modelo(y,1)"
      ],
      "id": "oUWj3XvpZWL2",
      "execution_count": null,
      "outputs": [
        {
          "data": {
            "text/plain": [
              "array([[2.        ],\n",
              "       [1.99979173],\n",
              "       [1.99916667],\n",
              "       [1.99812403],\n",
              "       [1.99666252],\n",
              "       [1.99478033],\n",
              "       [1.99247515],\n",
              "       [1.98974418],\n",
              "       [1.98658412],\n",
              "       [1.98299121],\n",
              "       [1.97896123],\n",
              "       [1.97448952],\n",
              "       [1.96957098],\n",
              "       [1.96420013],\n",
              "       [1.95837111],\n",
              "       [1.95207769],\n",
              "       [1.94531332],\n",
              "       [1.93807115],\n",
              "       [1.93034405],\n",
              "       [1.92212465],\n",
              "       [1.91340539],\n",
              "       [1.90417853],\n",
              "       [1.89443617],\n",
              "       [1.88417035],\n",
              "       [1.87337303],\n",
              "       [1.86203616],\n",
              "       [1.85015173],\n",
              "       [1.83771176],\n",
              "       [1.82470841],\n",
              "       [1.81113401],\n",
              "       [1.79698108],\n",
              "       [1.78224237],\n",
              "       [1.76691098],\n",
              "       [1.7509803 ],\n",
              "       [1.73444415],\n",
              "       [1.7172968 ],\n",
              "       [1.69953297],\n",
              "       [1.68114797],\n",
              "       [1.66213765],\n",
              "       [1.64249855],\n",
              "       [1.62222784],\n",
              "       [1.60132346],\n",
              "       [1.5797841 ],\n",
              "       [1.55760927],\n",
              "       [1.53479938],\n",
              "       [1.51135571],\n",
              "       [1.48728055],\n",
              "       [1.46257713],\n",
              "       [1.43724977],\n",
              "       [1.41130388]])"
            ]
          },
          "execution_count": 168,
          "metadata": {},
          "output_type": "execute_result"
        }
      ]
    },
    {
      "cell_type": "code",
      "metadata": {
        "id": "KfT_0VGbZWL3"
      },
      "source": [
        ""
      ],
      "id": "KfT_0VGbZWL3",
      "execution_count": null,
      "outputs": []
    },
    {
      "cell_type": "markdown",
      "metadata": {
        "id": "yPlh4PcmZWL3"
      },
      "source": [
        "Questão 2.\n",
        "\n",
        "Resolva o seguinte sistema linear:\n",
        "\n",
        "\\begin{eqnarray}\n",
        "x + 4y = 34 \\\\\n",
        "-3x +y = 2\n",
        "\\end{eqnarray}"
      ],
      "id": "yPlh4PcmZWL3"
    },
    {
      "cell_type": "code",
      "metadata": {
        "id": "xBW9xh_MZWL3",
        "outputId": "da8888ec-06a3-48e6-f0a4-22c6798c5f37"
      },
      "source": [
        "#Sistema de equações\n",
        "sistema=np.matrix([[1,4],[-3,1]])\n",
        "\n",
        "#Igualdade\n",
        "equal=np.matrix([[34],[2]])\n",
        "resultado = np.linalg.solve(sistema,equal)\n",
        "print(\"O resultado para o sistema de equação é: \"+str(resultado))"
      ],
      "id": "xBW9xh_MZWL3",
      "execution_count": null,
      "outputs": [
        {
          "name": "stdout",
          "output_type": "stream",
          "text": [
            "O resultado para o sistema de equação é: [[2.]\n",
            " [8.]]\n"
          ]
        }
      ]
    },
    {
      "cell_type": "code",
      "metadata": {
        "id": "bye_WycSZWL3"
      },
      "source": [
        ""
      ],
      "id": "bye_WycSZWL3",
      "execution_count": null,
      "outputs": []
    },
    {
      "cell_type": "code",
      "metadata": {
        "id": "0YIGoz1oZWL4"
      },
      "source": [
        ""
      ],
      "id": "0YIGoz1oZWL4",
      "execution_count": null,
      "outputs": []
    },
    {
      "cell_type": "markdown",
      "metadata": {
        "id": "PWEsle3vZWL4"
      },
      "source": [
        "Questão 3.\n",
        "\n",
        "Ache o mínimo da função $ f(x) = cos(4x) * sen(10x) * e^{-|x|} $ no domínio que vai\n",
        "de $-\\pi$ a $\\pi$. Use o comando *fminbound*. Em seguida faça o gráfico da função sobre o domínio\n",
        "dado para verificar se realmente o valor encontrado corresponde a o mínimo. OBS.: o comando *np.abs(x)* fornece o valor absoluto do número x e *np.pi* o número $\\pi$. *np.cos()* e *np.sin()* calcula o cosseno e o seno se um valor, respectivamente."
      ],
      "id": "PWEsle3vZWL4"
    },
    {
      "cell_type": "code",
      "metadata": {
        "id": "fnRGfx_nZWL4",
        "outputId": "0207d8bc-18d4-4e2a-b33b-16c0f8186009"
      },
      "source": [
        "#f(x) = np.cos(4*x)*sen(10*x)*numpy.exp(-np.abs(x))\n",
        "def funcao3(x):\n",
        "    return np.cos(4*x)*np.sin(10*x)*np.exp(-np.abs(x))\n",
        "dom=np.linspace(-np.pi,np.pi)\n",
        "ponto_minimo=sc.fminbound(funcao3,-np.pi,np.pi,full_output=True, disp=3)\n",
        "print(\"Ponto minimo:\"+str(ponto_minimo))\n",
        "\n",
        "plt.plot(dom,funcao3(dom))\n",
        "plt.scatter(0.7767962505527384, -0.4579054636878386)\n",
        "plt.show()\n",
        "print(\"Não corresponde ao minimo\")"
      ],
      "id": "fnRGfx_nZWL4",
      "execution_count": null,
      "outputs": [
        {
          "name": "stdout",
          "output_type": "stream",
          "text": [
            " \n",
            " Func-count     x          f(x)          Procedure\n",
            "    1      -0.741629      0.42484        initial\n",
            "    2       0.741629     -0.42484        golden\n",
            "    3        1.65833    -0.137356        golden\n",
            "    4       0.775457    -0.457857        parabolic\n",
            "    5        1.09264     0.112139        parabolic\n",
            "    6       0.896609    -0.163049        golden\n",
            "    7       0.780727    -0.457493        parabolic\n",
            "    8         0.7768    -0.457905        parabolic\n",
            "    9       0.776796    -0.457905        parabolic\n",
            "   10       0.776793    -0.457905        parabolic\n",
            "\n",
            "Optimization terminated successfully;\n",
            "The returned value satisfies the termination criteria\n",
            "(using xtol =  1e-05 )\n",
            "Ponto minimo:(0.7767962505527384, -0.4579054636878386, 0, 10)\n"
          ]
        },
        {
          "data": {
            "image/png": "[encoded data removed]",
            "text/plain": [
              "<Figure size 432x288 with 1 Axes>"
            ]
          },
          "metadata": {
            "needs_background": "light"
          },
          "output_type": "display_data"
        },
        {
          "name": "stdout",
          "output_type": "stream",
          "text": [
            "Não corresponde ao minimo\n"
          ]
        }
      ]
    },
    {
      "cell_type": "code",
      "metadata": {
        "id": "atRyBk3jZWL4"
      },
      "source": [
        ""
      ],
      "id": "atRyBk3jZWL4",
      "execution_count": null,
      "outputs": []
    },
    {
      "cell_type": "code",
      "metadata": {
        "id": "fXfJPpIBZWL5"
      },
      "source": [
        ""
      ],
      "id": "fXfJPpIBZWL5",
      "execution_count": null,
      "outputs": []
    },
    {
      "cell_type": "markdown",
      "metadata": {
        "id": "ewnf8kxfZWL5"
      },
      "source": [
        "Questão 4.\n",
        "\n",
        "Resolva o seguinte problema de maximização:\n",
        "\n",
        "\\begin{eqnarray}\n",
        "\\max_{x_{1},x_{2}} 2x_{1} - x_{2} \\ \\ s.a. \\ \\  x_{1} + 3x_{2} \\geq 8 \\ , \\ x_{1} + x_{2} \\geq 4 \\ , \\ x_{1} - x_{2} \\leq 2 \\ , \\ x_{1}, x_{2} > 0\n",
        "\\end{eqnarray}"
      ],
      "id": "ewnf8kxfZWL5"
    },
    {
      "cell_type": "code",
      "metadata": {
        "id": "2CGup2uXZWL5",
        "outputId": "93fffde7-60b6-44cf-95f6-b26fe4d94036"
      },
      "source": [
        "def maxfuncao(parametros):\n",
        "    x1,x2 = parametros\n",
        "    return 2*x1-x2\n",
        "\n",
        "def retricaoFuncao1(parametros):\n",
        "    x1,x2 = parametros\n",
        "    return x1+3*x2-8\n",
        "\n",
        "def retricaoFuncao2(parametros):\n",
        "    x1,x2 = parametros\n",
        "    return x1+x2-4\n",
        "\n",
        "def retricaoFuncao3(parametros):\n",
        "    x1,x2 = parametros\n",
        "    return -x1+x2+2\n",
        "\n",
        "restricoes = [{'type':'ineq', 'fun': retricaoFuncao1},\n",
        "        {'type':'ineq', 'fun': retricaoFuncao2},\n",
        "        {'type':'ineq', 'fun': retricaoFuncao3}]\n",
        "\n",
        "positivo = ((0, None), (0, None))\n",
        "sc.minimize(maxfuncao, [0, 0], method='SLSQP', bounds=positivo,constraints=restricoes)\n",
        "#multiplicar por -1 para maximizar"
      ],
      "id": "2CGup2uXZWL5",
      "execution_count": null,
      "outputs": [
        {
          "data": {
            "text/plain": [
              "     fun: -2136230471.75928\n",
              "     jac: array([0., 0.])\n",
              " message: 'Optimization terminated successfully.'\n",
              "    nfev: 60\n",
              "     nit: 15\n",
              "    njev: 15\n",
              "  status: 0\n",
              " success: True\n",
              "       x: array([1.63150145e-13, 2.13623047e+09])"
            ]
          },
          "execution_count": 162,
          "metadata": {},
          "output_type": "execute_result"
        }
      ]
    },
    {
      "cell_type": "code",
      "metadata": {
        "id": "iNgZyrcMZWL5"
      },
      "source": [
        ""
      ],
      "id": "iNgZyrcMZWL5",
      "execution_count": null,
      "outputs": []
    },
    {
      "cell_type": "code",
      "metadata": {
        "id": "TepyvrSdZWL6"
      },
      "source": [
        ""
      ],
      "id": "TepyvrSdZWL6",
      "execution_count": null,
      "outputs": []
    },
    {
      "cell_type": "markdown",
      "metadata": {
        "id": "6YfSA71sZWL6"
      },
      "source": [
        "Questão 5.\n",
        "\n",
        "Parabéns! Você foi contratado para uma posição em uma empresa que paga\n",
        "muito bem assim que terminou a faculdade. A sua companhia produz cadeiras (cada uma requer\n",
        "2 blocos quadrados e 1 bloco retangular) e mesas (cada uma requer 2 blocos quadrados e 2 blocos\n",
        "retangulares) e possui estoque de 8 blocos retangulares e 6 blocos quadrados. Assuma que\n",
        "cada cadeira e mesa sejam vendidas pelos seguintes preços, respectivamente, $\\$5$ e $\\$7$ e que a sua\n",
        "companhia vende tudo que produz. Resolva o problema de maximização de receita da sua empresa."
      ],
      "id": "6YfSA71sZWL6"
    },
    {
      "cell_type": "code",
      "metadata": {
        "id": "eF1PiLKSZWL6"
      },
      "source": [
        "#Não finalizada\n",
        "def cadeiras(parametros):\n",
        "    q,r=parametros\n",
        "    return 2*q+1*r\n",
        "\n",
        "def mesas(parametros):\n",
        "    q,r=parametros\n",
        "    return 2*q+2*r\n",
        "\n",
        "def producao(parametros):\n",
        "    q,r=parametros\n",
        "    5*cadeiras([q,r])-7*mesas([q,r])\n"
      ],
      "id": "eF1PiLKSZWL6",
      "execution_count": null,
      "outputs": []
    },
    {
      "cell_type": "code",
      "metadata": {
        "id": "nXD8vZjvZWL6"
      },
      "source": [
        ""
      ],
      "id": "nXD8vZjvZWL6",
      "execution_count": null,
      "outputs": []
    },
    {
      "cell_type": "code",
      "metadata": {
        "id": "uk9QFAt0ZWL6"
      },
      "source": [
        ""
      ],
      "id": "uk9QFAt0ZWL6",
      "execution_count": null,
      "outputs": []
    },
    {
      "cell_type": "markdown",
      "metadata": {
        "id": "AByCSzxDZWL6"
      },
      "source": [
        "# Questão 6.\n",
        "\n",
        "Você deve realizar a coleta de todos os Pokemóns listados no website abaixo. Em seguida deve extrair as informações de cada um deles e colocar em um Dataframe do Pandas. Utilize o comando *describe* para obter uma informação das estatísticas da tabela. Em seguioda, obtenha o/os pokemón(s) com a(s) maior(es) velocidade(s) e o/os pokemón(s) com a(s) menor(es) velocidade(s).\n",
        "\n",
        "`url = \"http://pokemondb.net/pokedex/all\"`"
      ],
      "id": "AByCSzxDZWL6"
    },
    {
      "cell_type": "code",
      "metadata": {
        "id": "PWE4EAfcZWL7",
        "outputId": "d9f55aa8-7eb0-4d20-9d0d-7dd56a3a8579"
      },
      "source": [
        "url = \"http://pokemondb.net/pokedex/all\"\n",
        "requisicao= rq.get(url)\n",
        "requisicao=requisicao.text\n",
        "soup_data = BeautifulSoup(requisicao, 'lxml')\n",
        "tp = soup_data.find_all(\"table\",attrs={\"id\":\"pokedex\"})\n",
        "pokemonsPesquisa = tp[0].find_all(\"tr\")\n",
        "\n",
        "pokemons=[]\n",
        "\n",
        "for i in range(1,len(pokemonsPesquisa)):\n",
        "    try:\n",
        "        nome=pokemonsPesquisa[i].find_all(\"a\",attrs={\"class\":\"ent-name\"})[0]\n",
        "        total=pokemonsPesquisa[i].find_all(\"td\",attrs={\"class\":\"cell-total\"})[0]\n",
        "        hp=pokemonsPesquisa[i].find_all(\"td\",attrs={\"class\":\"cell-total\"})[0]\n",
        "        ataque=pokemonsPesquisa[i].find_all(\"td\",attrs={\"class\":\"cell-num\"})[1]\n",
        "        defesa=pokemonsPesquisa[i].find_all(\"td\",attrs={\"class\":\"cell-num\"})[2]\n",
        "        velocidade_ataque=pokemonsPesquisa[i].find_all(\"td\",attrs={\"class\":\"cell-num\"})[3]\n",
        "        velocidade_defesa=pokemonsPesquisa[i].find_all(\"td\",attrs={\"class\":\"cell-num\"})[4]\n",
        "        velocidade=pokemonsPesquisa[i].find_all(\"td\",attrs={\"class\":\"cell-num\"})[5]\n",
        "        pokemons.append({\"Name\":nome.text,\n",
        "                         \"Total\":int(total.text),\n",
        "                         \"HP\":int(hp.text),\n",
        "                         \"Attack\":int(ataque.text),\n",
        "                         \"Defense\":int(defesa.text),\n",
        "                         \"Sp.Attack\":int(velocidade_ataque.text),\n",
        "                         \"Sp.Defense\":int(velocidade_defesa.text),\n",
        "                         \"Speed\":int(velocidade.text)})\n",
        "    except:\n",
        "        print(\"Erro\")\n",
        "\n",
        "pokemonsData=pd.DataFrame(pokemons)\n",
        "print(pokemonsData.describe())\n",
        "\n",
        "print(\"Pokemon(s) com maior velocidade: \")\n",
        "print(pokemonsData[pokemonsData[\"Speed\"]==pokemonsData[\"Speed\"].max()])\n",
        "\n",
        "print(\"Pokemon(s) com menor velocidade: \")\n",
        "print(pokemonsData[pokemonsData[\"Speed\"]==pokemonsData[\"Speed\"].min()])"
      ],
      "id": "PWE4EAfcZWL7",
      "execution_count": null,
      "outputs": [
        {
          "name": "stdout",
          "output_type": "stream",
          "text": [
            "             Total           HP       Attack      Defense    Sp.Attack  \\\n",
            "count  1045.000000  1045.000000  1045.000000  1045.000000  1045.000000   \n",
            "mean    439.314833   439.314833    70.067943    80.466986    74.661244   \n",
            "std     121.970701   121.970701    26.671411    32.413665    31.237903   \n",
            "min     175.000000   175.000000     1.000000     5.000000     5.000000   \n",
            "25%     330.000000   330.000000    50.000000    55.000000    50.000000   \n",
            "50%     458.000000   458.000000    68.000000    77.000000    70.000000   \n",
            "75%     515.000000   515.000000    82.000000   100.000000    90.000000   \n",
            "max    1125.000000  1125.000000   255.000000   190.000000   250.000000   \n",
            "\n",
            "        Sp.Defense        Speed  \n",
            "count  1045.000000  1045.000000  \n",
            "mean     73.022010    72.288995  \n",
            "std      32.724797    28.074148  \n",
            "min      10.000000    20.000000  \n",
            "25%      50.000000    50.000000  \n",
            "50%      65.000000    70.000000  \n",
            "75%      95.000000    90.000000  \n",
            "max     194.000000   250.000000  \n",
            "Pokemon(s) com maior velocidade: \n",
            "           Name  Total    HP  Attack  Defense  Sp.Attack  Sp.Defense  Speed\n",
            "1033  Eternatus   1125  1125     255      115        250         125    250\n",
            "Pokemon(s) com menor velocidade: \n",
            "             Name  Total   HP  Attack  Defense  Sp.Attack  Sp.Defense  Speed\n",
            "13       Caterpie    195  195      45       30         35          20     20\n",
            "16         Weedle    195  195      40       35         30          20     20\n",
            "166      Magikarp    200  200      20       10         55          15     20\n",
            "219     Igglybuff    210  210      90       30         15          40     20\n",
            "382      Carvanha    305  305      45       90         20          65     20\n",
            "467        Deoxys    600  600      50      180         20         180     20\n",
            "1011  Stonjourner    470  470     100      125        135          20     20\n"
          ]
        }
      ]
    },
    {
      "cell_type": "code",
      "metadata": {
        "id": "pLw6674DZWL7"
      },
      "source": [
        ""
      ],
      "id": "pLw6674DZWL7",
      "execution_count": null,
      "outputs": []
    },
    {
      "cell_type": "code",
      "metadata": {
        "id": "7hnCDZA1ZWL7"
      },
      "source": [
        ""
      ],
      "id": "7hnCDZA1ZWL7",
      "execution_count": null,
      "outputs": []
    }
  ]
}
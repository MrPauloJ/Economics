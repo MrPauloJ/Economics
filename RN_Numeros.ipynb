{
  "nbformat": 4,
  "nbformat_minor": 0,
  "metadata": {
    "colab": {
      "name": "RN_Numeros.ipynb",
      "provenance": [],
      "collapsed_sections": []
    },
    "kernelspec": {
      "name": "python3",
      "display_name": "Python 3"
    },
    "language_info": {
      "name": "python"
    }
  },
  "cells": [
    {
      "cell_type": "code",
      "metadata": {
        "id": "gfZ6BiVrYrek"
      },
      "source": [
        "#Universidade Federal de Pernambuco\n",
        "#Disciplina: EC239 - Laboratorio de Matemática\n",
        "#Professor: Gustavo Sampaio\n",
        "#Alunos: Paulo Francisco da Silva Junior e Thiago H. B. França"
      ],
      "execution_count": null,
      "outputs": []
    },
    {
      "cell_type": "markdown",
      "metadata": {
        "id": "1SDlR8tQZNr-"
      },
      "source": [
        "Rede Neural Convolucional (CNN) para classificar números escritos à mão\n",
        "A base de dados e composta por imagens de digitos que vão de \"0\" a \"9' escritos à mão de forma a permitir treinar um modelo para aprender a classificar-las.\n",
        "As imagens estão padronizadas para um tamanho de 28 x 28 pixels. \n",
        "\n",
        "Elas se encontram numa pasta chamada \"mnist\" e vocês devem distribui-las nas pastas de treinamento e de validação (/train e /test), observando as 10 categorias do nosso problema. Observem que a categoria da imagem, ou seja, o dígito à que a imagem se refere está descrito como o primeiro nome da imagem. Por exemplo, a imagem com o nome \"9.65805.jpg\" se refere ao número \"9'.\n",
        "\n",
        "Para este problema testem o modelo utilizando o: kernel_initializer='normal'\n",
        "Na última camada utilizem: activation='softmax', já que temos um problema de multicategorias.\n",
        "\n",
        "Na hora de compilar o modelo utilizem: loss='categorical_crossentropy', já que temos um problema de multicategorias. Testem, também o otimizador: optimizer='adam'.\n",
        "\n",
        "No meu modelo mais simples obtive uma taxa de acerto de: 93.737% (Serve como guia para vocês)"
      ]
    },
    {
      "cell_type": "code",
      "metadata": {
        "id": "LVPgSZsBY-Kd"
      },
      "source": [
        "#Importações\n",
        "from keras.models import Sequential\n",
        "from keras.layers import Dense\n",
        "from keras.wrappers.scikit_learn import KerasClassifier\n",
        "from keras import optimizers\n",
        "from keras.optimizers import Adam\n",
        "from os import listdir\n",
        "from os import mkdir\n",
        "from shutil import move\n",
        "from keras.preprocessing.image import load_img\n",
        "from keras.preprocessing.image import img_to_array\n",
        "from keras.layers import Conv2D\n",
        "from keras.layers import MaxPooling2D\n",
        "from keras.layers import Flatten\n",
        "from keras.preprocessing.image import ImageDataGenerator\n",
        "from matplotlib import pyplot\n",
        "from random import seed\n",
        "from keras.models import Model\n",
        "import pickle\n",
        "import os\n",
        "from shutil import move\n",
        "from random import random"
      ],
      "execution_count": null,
      "outputs": []
    },
    {
      "cell_type": "code",
      "metadata": {
        "id": "LnKZL_R-ZmN6"
      },
      "source": [
        "#Modificar para o local dos dados\n",
        "pastaRaiz=\"*/Desktop/mnist/\"\n",
        "\n",
        "#Criando e organizando dados\n",
        "try:\n",
        "    os.mkdir(pastaRaiz+\"train\")\n",
        "    os.mkdir(pastaRaiz+\"test\")\n",
        "    for i in range(0,10):\n",
        "        os.mkdir(pastaRaiz+\"test/\"+str(i))\n",
        "        os.mkdir(pastaRaiz+\"train/\"+str(i))\n",
        "    \n",
        "    for file in os.listdir(pastaRaiz):\n",
        "        src = pastaRaiz + file\n",
        "        dst_dir = 'train/'\n",
        "        if random.random() < 0.5:\n",
        "            dst_dir = 'test/'  \n",
        "        if file.startswith('0'):\n",
        "            dst = pastaRaiz + dst_dir + '0/'  + file\n",
        "            shutil.move(src, dst)\n",
        "        elif file.startswith('1'):\n",
        "            dst = pastaRaiz + dst_dir + '1/'  + file\n",
        "            shutil.move(src, dst)\n",
        "        elif file.startswith('2'):\n",
        "            dst = pastaRaiz + dst_dir + '2/'  + file\n",
        "            shutil.move(src, dst)    \n",
        "        elif file.startswith('3'):\n",
        "            dst = pastaRaiz + dst_dir + '3/'  + file\n",
        "            shutil.move(src, dst)    \n",
        "        elif file.startswith('4'):\n",
        "            dst = pastaRaiz + dst_dir + '4/'  + file\n",
        "            shutil.move(src, dst)    \n",
        "        elif file.startswith('5'):\n",
        "            dst = pastaRaiz + dst_dir + '5/'  + file\n",
        "            shutil.move(src, dst)    \n",
        "        elif file.startswith('6'):\n",
        "            dst = pastaRaiz + dst_dir + '6/'  + file\n",
        "            shutil.move(src, dst)    \n",
        "        elif file.startswith('7'):\n",
        "            dst = pastaRaiz + dst_dir + '7/'  + file\n",
        "            shutil.move(src, dst)    \n",
        "        elif file.startswith('8'):\n",
        "            dst = pastaRaiz + dst_dir + '8/'  + file\n",
        "            shutil.move(src, dst)    \n",
        "        elif file.startswith('9'):\n",
        "            dst = pastaRaiz + dst_dir + '9/'  + file\n",
        "            shutil.move(src, dst)\n",
        "        elif file.startswith('1',1,31):\n",
        "            dst = pastaRaiz + dst_dir + '0/'  + file\n",
        "            shutil.move(src, dst)\n",
        "        elif file.startswith('1',4,31):\n",
        "            dst = pastaRaiz + dst_dir + '1/'  + file\n",
        "            shutil.move(src, dst)\n",
        "        elif file.startswith('1',7,31):\n",
        "            dst = pastaRaiz + dst_dir + '2/'  + file\n",
        "            shutil.move(src, dst)\n",
        "        elif file.startswith('1',10,31):\n",
        "            dst = pastaRaiz + dst_dir + '3/'  + file\n",
        "            shutil.move(src, dst)    \n",
        "        elif file.startswith('1',13,31):\n",
        "            dst = pastaRaiz + dst_dir + '4/'  + file\n",
        "            shutil.move(src, dst)      \n",
        "        elif file.startswith('1',16,31):\n",
        "            dst = pastaRaiz + dst_dir + '5/'  + file\n",
        "            shutil.move(src, dst)    \n",
        "        elif file.startswith('1',19,31):\n",
        "            dst = pastaRaiz + dst_dir + '6/'  + file\n",
        "            shutil.move(src, dst) \n",
        "        elif file.startswith('1',22,31):\n",
        "            dst = pastaRaiz + dst_dir + '7/'  + file\n",
        "            shutil.move(src, dst)    \n",
        "        elif file.startswith('1',25,31):\n",
        "            dst = pastaRaiz + dst_dir + '8/'  + file\n",
        "            shutil.move(src, dst)\n",
        "        elif file.startswith('1',28,31):\n",
        "            dst = pastaRaiz + dst_dir + '9/'  + file\n",
        "            shutil.move(src, dst)\n",
        "        else:\n",
        "            print(\"erro\")\n",
        "except:\n",
        "    print(\"Ja criado e organizado!\")\n",
        "finally:\n",
        "    pastaTrain=\"*/Desktop/mnist/train/\"\n",
        "    pastaTest=\"*/Desktop/mnist/test/\""
      ],
      "execution_count": null,
      "outputs": []
    },
    {
      "cell_type": "code",
      "metadata": {
        "id": "O3cGecTuZsId"
      },
      "source": [
        "#Criando Modelo\n",
        "def modeloNumero():\n",
        "    model = Sequential()\n",
        "    model.add(Conv2D(32, (3, 3), activation='relu', kernel_initializer='normal', padding='same', input_shape=(28, 28, 3)))\n",
        "    model.add(MaxPooling2D((2, 2)))\n",
        "    model.add(Flatten())\n",
        "    model.add(Dense(200, activation='relu', kernel_initializer='normal'))\n",
        "    model.add(Dense(10, activation='softmax'))\n",
        "    model.compile(optimizer='Adam', loss='categorical_crossentropy', metrics=['accuracy'])\n",
        "    return model  "
      ],
      "execution_count": null,
      "outputs": []
    },
    {
      "cell_type": "code",
      "metadata": {
        "id": "26pYRYF9ZyH9"
      },
      "source": [
        "#Rodando modelo\n",
        "def runModel():\n",
        "    model = modeloNumero()\n",
        "    datagen = ImageDataGenerator(rescale=1.0/255.0)\n",
        "    traine = datagen.flow_from_directory(pastaTrain, class_mode='categorical', batch_size=20, target_size=(28, 28))\n",
        "    teste = datagen.flow_from_directory(pastaTest, class_mode='categorical', batch_size=20, target_size=(28, 28))\n",
        "    historico = model.fit(traine, steps_per_epoch=len(traine), validation_data=teste, validation_steps=len(teste), epochs=2, verbose=2)\n",
        "    model.save(pastaRaiz+'modeloNumero.pkl')\n",
        "runModel()"
      ],
      "execution_count": null,
      "outputs": []
    },
    {
      "cell_type": "code",
      "metadata": {
        "id": "e53hhHA0Z0zu"
      },
      "source": [
        "#Carregando imagem, transformando em 28x28\n",
        "def load_image(filename,folder):\n",
        "    img = load_img(folder+filename, target_size=(28, 28))\n",
        "    img = img_to_array(img)\n",
        "    # redimensionar imagem\n",
        "    img = img.reshape(1, 28, 28, 3)\n",
        "    img = img.astype('float32')\n",
        "    return img"
      ],
      "execution_count": null,
      "outputs": []
    },
    {
      "cell_type": "code",
      "metadata": {
        "id": "-duoi3A9Z3lZ"
      },
      "source": [
        "#Prevendo uma imagem especifica\n",
        "def prever(img,pasta):\n",
        "  #Modelo\n",
        "  modelo=modeloNumero()\n",
        "  #Adaptando imagem\n",
        "  img=load_image(img,pasta)\n",
        "  #Adaptando resultado\n",
        "  resultado = modelo.predict(img)\n",
        "  return resultado"
      ],
      "execution_count": null,
      "outputs": []
    },
    {
      "cell_type": "code",
      "metadata": {
        "id": "jGN02zKgZ6CR"
      },
      "source": [
        "#Prever para cada arquivo dentro da pasta train\n",
        "for pastaFile in os.listdir(pastaTrain):\n",
        "    for arquivo in os.listdir(pastaTrain+pastaFile):\n",
        "        prever(arquivo,pastaTrain+pastaFile+'/')"
      ],
      "execution_count": null,
      "outputs": []
    }
  ]
}
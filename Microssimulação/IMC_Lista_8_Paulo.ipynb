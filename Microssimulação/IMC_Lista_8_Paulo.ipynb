{
  "nbformat": 4,
  "nbformat_minor": 0,
  "metadata": {
    "colab": {
      "name": "IMC_Lista_8_Paulo.ipynb",
      "provenance": [],
      "collapsed_sections": []
    },
    "kernelspec": {
      "name": "python3",
      "display_name": "Python 3"
    },
    "language_info": {
      "name": "python"
    }
  },
  "cells": [
    {
      "cell_type": "code",
      "metadata": {
        "id": "48lT5Ml9LYGL"
      },
      "source": [
        "#Universidade Federal de Pernambuco\n",
        "#Disciplina: Introdução a microssimulação\n",
        "#Professor: Jose Ricardo Nogueira\n",
        "#Aluno: Paulo Francisco da Silva Junior"
      ],
      "execution_count": null,
      "outputs": []
    },
    {
      "cell_type": "code",
      "metadata": {
        "id": "uPl1v4UtLj6n"
      },
      "source": [
        "#importações\n",
        "import pandas as pd\n",
        "import matplotlib.pyplot as plt"
      ],
      "execution_count": null,
      "outputs": []
    },
    {
      "cell_type": "markdown",
      "metadata": {
        "id": "9ktW0O1jMm3D"
      },
      "source": [
        "Breve analise de indicadores de pobreza e desigualdade no Brasil utilizando a pnadc 2017"
      ]
    },
    {
      "cell_type": "markdown",
      "metadata": {
        "id": "-S0X8_-25aLS"
      },
      "source": [
        "Utilizando o banco de microdados “PNADC_2017” e a sintaxe de\n",
        "indicadores de pobreza, calcule o número de pobres para o Brasil, antes e\n",
        "depois das transferências governamentais."
      ]
    },
    {
      "cell_type": "code",
      "metadata": {
        "id": "heASp5hpMl8_"
      },
      "source": [
        "#Lendo banco e ajustando missings\n",
        "pnadc = pd.read_csv(\"/content/drive/MyDrive/Microsimulação/PNADC_2017.csv\", sep=\";\", decimal=\",\", dtype=float, na_values=\" \")\n",
        "pnadc.fillna(0,inplace=True)"
      ],
      "execution_count": null,
      "outputs": []
    },
    {
      "cell_type": "code",
      "metadata": {
        "id": "Hl2rAqxWLnJY"
      },
      "source": [
        "# INDICADORES DE POBREZA\n",
        "# LINHA DE POBREZA = 406,00/mês (correspondente a US$5,50/dia (BANCO MUNDIAL))\n",
        "# POBRES (estemos utilizando a Renda Domiciliar Bruta Per Capita (RDBPC))"
      ],
      "execution_count": null,
      "outputs": []
    },
    {
      "cell_type": "code",
      "metadata": {
        "id": "V5PEfch0NlKm"
      },
      "source": [
        "#Filtrando pobres (ANTERIOMENTE A TRANSFERENCIAS GOVERNAMENTAIS)\n",
        "pnadc.loc[pnadc[\"RDIPC\"]<=406, \"POBRE_ATG\"] = 1\n",
        "pnadc.fillna(value={\"POBRE_ATG\":0},inplace=True)"
      ],
      "execution_count": null,
      "outputs": []
    },
    {
      "cell_type": "code",
      "metadata": {
        "colab": {
          "base_uri": "https://localhost:8080/"
        },
        "id": "V34OScl-ZL3t",
        "outputId": "50996149-97a6-4f88-dcc1-9973df88a937"
      },
      "source": [
        "# CÁLCULO DO NÚMERO DE POBRES (ANTERIOMENTE A TRANSFERENCIAS GOVERNAMENTAIS)\n",
        "(pnadc[\"POBRE_ATG\"]*pnadc[\"PESO\"]).sum()"
      ],
      "execution_count": null,
      "outputs": [
        {
          "output_type": "execute_result",
          "data": {
            "text/plain": [
              "83272953.0"
            ]
          },
          "metadata": {},
          "execution_count": 70
        }
      ]
    },
    {
      "cell_type": "code",
      "metadata": {
        "id": "t2IUqxgRY6oD"
      },
      "source": [
        "#Filtrando pobres (POSTERIOMENTE A TRANSFERENCIAS GOVERNAMENTAIS)\n",
        "pnadc.loc[pnadc[\"RDBPC\"]<=406, \"POBRE_PTG\"] = 1\n",
        "pnadc.fillna(value={\"POBRE_PTG\":0},inplace=True)"
      ],
      "execution_count": null,
      "outputs": []
    },
    {
      "cell_type": "code",
      "metadata": {
        "colab": {
          "base_uri": "https://localhost:8080/"
        },
        "id": "H_gV8tlPZPOj",
        "outputId": "cfa49ccd-70a8-4af7-c145-93bdecb794af"
      },
      "source": [
        "# CÁLCULO DO NÚMERO DE POBRES (POSTERIOMENTE A TRANSFERENCIAS GOVERNAMENTAIS) - Antes de impostos diretos e indiretos\n",
        "(pnadc[\"POBRE_PTG\"]*pnadc[\"PESO\"]).sum()"
      ],
      "execution_count": null,
      "outputs": [
        {
          "output_type": "execute_result",
          "data": {
            "text/plain": [
              "45759984.0"
            ]
          },
          "metadata": {},
          "execution_count": 72
        }
      ]
    },
    {
      "cell_type": "markdown",
      "metadata": {
        "id": "R2VNGKeq8sgb"
      },
      "source": [
        "Utilizando o banco de microdados “PNADC_2017” e a sintaxe de\n",
        "indicadores de desigualdade, calcule o coeficiente de Gini para o Brasil,\n",
        "antes e depois das transferências governamentais."
      ]
    },
    {
      "cell_type": "code",
      "metadata": {
        "id": "NjIqmP2YY9yn"
      },
      "source": [
        "pnadc[\"incomeIni\"] = pnadc[\"RDIPC\"]*pnadc[\"PESO\"]"
      ],
      "execution_count": null,
      "outputs": []
    },
    {
      "cell_type": "code",
      "metadata": {
        "id": "YYrC3h6G5xOc"
      },
      "source": [
        "pnadc.sort_values(by=\"incomeIni\",inplace=True)\n",
        "pnadc.reset_index(drop=True,inplace=True)"
      ],
      "execution_count": null,
      "outputs": []
    },
    {
      "cell_type": "code",
      "metadata": {
        "id": "whbh-sOAsVBZ"
      },
      "source": [
        "pnadc[\"incomeIniProp\"] = pnadc[\"incomeIni\"]/pnadc[\"incomeIni\"].sum()"
      ],
      "execution_count": null,
      "outputs": []
    },
    {
      "cell_type": "code",
      "metadata": {
        "id": "Y5_jfEG7svtw"
      },
      "source": [
        "pnadc[\"incomeIniCum\"] = pnadc[\"incomeIni\"]"
      ],
      "execution_count": null,
      "outputs": []
    },
    {
      "cell_type": "code",
      "metadata": {
        "id": "mcIkTsu7pbGY"
      },
      "source": [
        "for i in range(1,len(pnadc),1):\n",
        "  pnadc[\"incomeIniCum\"][i] = pnadc[\"incomeIniCum\"][i-1]+pnadc[\"incomeIni\"][i]"
      ],
      "execution_count": null,
      "outputs": []
    },
    {
      "cell_type": "code",
      "metadata": {
        "id": "ErKv5awYtJeu"
      },
      "source": [
        "pnadc[\"incomeIniCumProp\"] = pnadc[\"incomeIniCum\"]/pnadc[\"incomeIni\"].sum()"
      ],
      "execution_count": null,
      "outputs": []
    },
    {
      "cell_type": "code",
      "metadata": {
        "id": "m8Fcf6ePxf0I"
      },
      "source": [
        "pnadc[\"pessoasCum\"] = pnadc[\"PESO\"]"
      ],
      "execution_count": null,
      "outputs": []
    },
    {
      "cell_type": "code",
      "metadata": {
        "id": "AAFA8K_Rxn8A"
      },
      "source": [
        "for i in range(1,len(pnadc),1):\n",
        "  pnadc[\"pessoasCum\"][i] = pnadc[\"pessoasCum\"][i-1]+pnadc[\"PESO\"][i]"
      ],
      "execution_count": null,
      "outputs": []
    },
    {
      "cell_type": "code",
      "metadata": {
        "id": "_KBXIC8gxvL0"
      },
      "source": [
        "pnadc[\"pessoasCumProp\"] = pnadc[\"pessoasCum\"]/pnadc[\"PESO\"].sum()"
      ],
      "execution_count": null,
      "outputs": []
    },
    {
      "cell_type": "code",
      "metadata": {
        "id": "De-RLI8hD03g"
      },
      "source": [
        "pnadc[\"pessoasProp\"] = pnadc[\"PESO\"]/pnadc[\"PESO\"].sum()"
      ],
      "execution_count": null,
      "outputs": []
    },
    {
      "cell_type": "code",
      "metadata": {
        "colab": {
          "base_uri": "https://localhost:8080/",
          "height": 265
        },
        "id": "9s1EX6dvu4JX",
        "outputId": "d03ae444-f67d-44e6-e2f7-7832422520c1"
      },
      "source": [
        "plt.plot([0,0.5,1],[0,0.5,1],label=\"45\")\n",
        "plt.plot(pnadc[\"pessoasCumProp\"],pnadc[\"incomeIniCumProp\"],label=\"Curva de Lorenz\")\n",
        "plt.legend()\n",
        "plt.show()"
      ],
      "execution_count": null,
      "outputs": [
        {
          "output_type": "display_data",
          "data": {
            "image/png": "[encoded data removed]",
            "text/plain": [
              "<Figure size 432x288 with 1 Axes>"
            ]
          },
          "metadata": {
            "needs_background": "light"
          }
        }
      ]
    },
    {
      "cell_type": "code",
      "metadata": {
        "id": "L0YiYWoEtG2b"
      },
      "source": [
        "########################################################\n",
        "# Tentativa de calcular o coeficiente de gini\n",
        "# Há algum erro"
      ],
      "execution_count": null,
      "outputs": []
    },
    {
      "cell_type": "code",
      "metadata": {
        "id": "5RmDxrR1Fepr"
      },
      "source": [
        "pnadc[\"B\"] = pnadc[\"incomeIniCumProp\"][0]*pnadc[\"pessoasProp\"][0]/2"
      ],
      "execution_count": null,
      "outputs": []
    },
    {
      "cell_type": "code",
      "metadata": {
        "id": "PL-iSymnD_sx"
      },
      "source": [
        "for i in range(1,len(pnadc),1):\n",
        "  pnadc[\"B\"][i] = (pnadc[\"incomeIniCumProp\"][i] + pnadc[\"incomeIniCumProp\"][i-1])*pnadc[\"pessoasProp\"][i]/2"
      ],
      "execution_count": null,
      "outputs": []
    },
    {
      "cell_type": "code",
      "metadata": {
        "id": "Yrv6jiIcFzlj"
      },
      "source": [
        "pnadc[\"A\"]=0.5-pnadc[\"B\"]"
      ],
      "execution_count": null,
      "outputs": []
    },
    {
      "cell_type": "code",
      "metadata": {
        "id": "vOqdGIL4HXzu"
      },
      "source": [
        "pnadc[\"GINI\"]=pnadc[\"A\"]/0.5"
      ],
      "execution_count": null,
      "outputs": []
    },
    {
      "cell_type": "code",
      "metadata": {
        "id": "JEeigmZfy2VE"
      },
      "source": [
        "pnadc[\"GINI\"].max()"
      ],
      "execution_count": null,
      "outputs": []
    },
    {
      "cell_type": "code",
      "metadata": {
        "id": "pI--EqOdy2RW"
      },
      "source": [
        ""
      ],
      "execution_count": null,
      "outputs": []
    },
    {
      "cell_type": "code",
      "metadata": {
        "id": "ewx1RnoHy2Qj"
      },
      "source": [
        ""
      ],
      "execution_count": null,
      "outputs": []
    },
    {
      "cell_type": "markdown",
      "metadata": {
        "id": "h1eBmdN5cdb2"
      },
      "source": [
        "Calculos adicionais"
      ]
    },
    {
      "cell_type": "code",
      "metadata": {
        "colab": {
          "base_uri": "https://localhost:8080/"
        },
        "id": "iA2OUofzPUSv",
        "outputId": "5caa766f-d229-438a-c01f-caa81c99a160"
      },
      "source": [
        "# HIATO DE POBREZA - Renda Domiciliar Bruta Per Capita\n",
        "pnadc.loc[pnadc[\"RDBPC\"]<=406.00,\"Hiato_Pobreza\"]= 406.00 - pnadc[\"RDBPC\"]\n",
        "pnadc.fillna(value={\"Hiato_Pobreza\":0},inplace=True)\n",
        "\n",
        "# CÁLCULO DO VALOR DO HIATO AGREGADO DE POBREZA\n",
        "(pnadc[\"Hiato_Pobreza\"]*pnadc[\"PESO\"]).sum()"
      ],
      "execution_count": null,
      "outputs": [
        {
          "output_type": "execute_result",
          "data": {
            "text/plain": [
              "7848699361.270001"
            ]
          },
          "metadata": {},
          "execution_count": 14
        }
      ]
    },
    {
      "cell_type": "code",
      "metadata": {
        "id": "F7VYMy07cgLK"
      },
      "source": [
        ""
      ],
      "execution_count": null,
      "outputs": []
    }
  ]
}
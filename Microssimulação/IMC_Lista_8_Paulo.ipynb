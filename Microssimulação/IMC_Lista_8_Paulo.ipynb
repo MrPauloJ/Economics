{
  "nbformat": 4,
  "nbformat_minor": 0,
  "metadata": {
    "colab": {
      "name": "IMC_Lista_8_Paulo.ipynb",
      "provenance": [],
      "collapsed_sections": []
    },
    "kernelspec": {
      "name": "python3",
      "display_name": "Python 3"
    },
    "language_info": {
      "name": "python"
    }
  },
  "cells": [
    {
      "cell_type": "code",
      "metadata": {
        "id": "48lT5Ml9LYGL"
      },
      "source": [
        "#Universidade Federal de Pernambuco\n",
        "#Disciplina: Introdução a microssimulação\n",
        "#Professor: Jose Ricardo Nogueira\n",
        "#Aluno: Paulo Francisco da Silva Junior"
      ],
      "execution_count": 1,
      "outputs": []
    },
    {
      "cell_type": "code",
      "metadata": {
        "id": "uPl1v4UtLj6n"
      },
      "source": [
        "#importações\n",
        "import pandas as pd\n",
        "import matplotlib.pyplot as plt\n",
        "import numpy as np"
      ],
      "execution_count": 2,
      "outputs": []
    },
    {
      "cell_type": "markdown",
      "metadata": {
        "id": "9ktW0O1jMm3D"
      },
      "source": [
        "Breve analise de indicadores de pobreza e desigualdade no Brasil utilizando a pnadc 2017"
      ]
    },
    {
      "cell_type": "markdown",
      "metadata": {
        "id": "-S0X8_-25aLS"
      },
      "source": [
        "Utilizando o banco de microdados “PNADC_2017” e a sintaxe de\n",
        "indicadores de pobreza, calcule o número de pobres para o Brasil, antes e\n",
        "depois das transferências governamentais."
      ]
    },
    {
      "cell_type": "code",
      "metadata": {
        "id": "heASp5hpMl8_"
      },
      "source": [
        "#Lendo banco e ajustando missings\n",
        "pnadc = pd.read_csv(\"/content/drive/MyDrive/Microsimulação/PNADC_2017.csv\", sep=\";\", decimal=\",\", dtype=float, na_values=\" \")\n",
        "pnadc.fillna(0,inplace=True)"
      ],
      "execution_count": 3,
      "outputs": []
    },
    {
      "cell_type": "code",
      "metadata": {
        "id": "Hl2rAqxWLnJY"
      },
      "source": [
        "# INDICADORES DE POBREZA\n",
        "# LINHA DE POBREZA = 406,00/mês (correspondente a US$5,50/dia (BANCO MUNDIAL))\n",
        "# POBRES (estemos utilizando a Renda Domiciliar Bruta Per Capita (RDBPC))"
      ],
      "execution_count": 4,
      "outputs": []
    },
    {
      "cell_type": "code",
      "metadata": {
        "id": "V5PEfch0NlKm"
      },
      "source": [
        "#Filtrando pobres (ANTERIOMENTE A TRANSFERENCIAS GOVERNAMENTAIS)\n",
        "pnadc.loc[pnadc[\"RDIPC\"]<=406, \"POBRE_ATG\"] = 1\n",
        "pnadc.fillna(value={\"POBRE_ATG\":0},inplace=True)"
      ],
      "execution_count": 5,
      "outputs": []
    },
    {
      "cell_type": "code",
      "metadata": {
        "colab": {
          "base_uri": "https://localhost:8080/"
        },
        "id": "V34OScl-ZL3t",
        "outputId": "ddde3790-a31d-4070-a7b1-0ea9f8eea0b2"
      },
      "source": [
        "# CÁLCULO DO NÚMERO DE POBRES (ANTERIOMENTE A TRANSFERENCIAS GOVERNAMENTAIS)\n",
        "(pnadc[\"POBRE_ATG\"]*pnadc[\"PESO\"]).sum()"
      ],
      "execution_count": 6,
      "outputs": [
        {
          "output_type": "execute_result",
          "data": {
            "text/plain": [
              "83272953.0"
            ]
          },
          "metadata": {},
          "execution_count": 6
        }
      ]
    },
    {
      "cell_type": "code",
      "metadata": {
        "id": "t2IUqxgRY6oD"
      },
      "source": [
        "#Filtrando pobres (POSTERIOMENTE A TRANSFERENCIAS GOVERNAMENTAIS)\n",
        "pnadc.loc[pnadc[\"RDBPC\"]<=406, \"POBRE_PTG\"] = 1\n",
        "pnadc.fillna(value={\"POBRE_PTG\":0},inplace=True)"
      ],
      "execution_count": 7,
      "outputs": []
    },
    {
      "cell_type": "code",
      "metadata": {
        "colab": {
          "base_uri": "https://localhost:8080/"
        },
        "id": "H_gV8tlPZPOj",
        "outputId": "7f7d0d8a-cdf9-4c54-e64d-82c07ca3cde1"
      },
      "source": [
        "# CÁLCULO DO NÚMERO DE POBRES (POSTERIOMENTE A TRANSFERENCIAS GOVERNAMENTAIS) - Antes de impostos diretos e indiretos\n",
        "(pnadc[\"POBRE_PTG\"]*pnadc[\"PESO\"]).sum()"
      ],
      "execution_count": 8,
      "outputs": [
        {
          "output_type": "execute_result",
          "data": {
            "text/plain": [
              "45759984.0"
            ]
          },
          "metadata": {},
          "execution_count": 8
        }
      ]
    },
    {
      "cell_type": "markdown",
      "metadata": {
        "id": "R2VNGKeq8sgb"
      },
      "source": [
        "Utilizando o banco de microdados “PNADC_2017” e a sintaxe de\n",
        "indicadores de desigualdade, calcule o coeficiente de Gini para o Brasil,\n",
        "antes e depois das transferências governamentais."
      ]
    },
    {
      "cell_type": "code",
      "source": [
        "# Calculando renda inicial de acordo com os pesos\n",
        "pnadc[\"incomeIni\"] = (pnadc[\"RDIPC\"])*pnadc[\"PESO\"]"
      ],
      "metadata": {
        "id": "peMbDWuQDcIo"
      },
      "execution_count": 9,
      "outputs": []
    },
    {
      "cell_type": "code",
      "source": [
        "# Ordenando valores e rearranjando index \n",
        "pnadc.sort_values(by=\"incomeIni\",ascending=True,inplace=True)\n",
        "pnadc.reset_index(drop=True,inplace=True)"
      ],
      "metadata": {
        "id": "NpeAmww8DcEc"
      },
      "execution_count": 10,
      "outputs": []
    },
    {
      "cell_type": "code",
      "source": [
        "# Proporção acumulada da renda\n",
        "pnadc[\"incomeIniCumProp\"] = pnadc[\"incomeIni\"].cumsum()/pnadc[\"incomeIni\"].sum()"
      ],
      "metadata": {
        "id": "9outkEayDcDK"
      },
      "execution_count": 11,
      "outputs": []
    },
    {
      "cell_type": "code",
      "source": [
        "# Proporção acumulada das pessoas\n",
        "pnadc[\"pessoasCumProp\"] = pnadc[\"PESO\"].cumsum()/pnadc[\"PESO\"].sum()"
      ],
      "metadata": {
        "id": "BPUMomn8FajK"
      },
      "execution_count": 12,
      "outputs": []
    },
    {
      "cell_type": "code",
      "source": [
        "# Plotando gráfico\n",
        "plt.plot(pnadc[\"pessoasCumProp\"],pnadc[\"pessoasCumProp\"], label=\"Curva 45 graus\")\n",
        "plt.plot(pnadc[\"pessoasCumProp\"],pnadc[\"incomeIniCumProp\"], label = \"Curva de Lorenz\")\n",
        "plt.xlabel=\"Proporção da População Acumulada\"\n",
        "plt.ylabel=\"Proporção da Renda Acumulada\"\n",
        "plt.legend()\n",
        "plt.show()"
      ],
      "metadata": {
        "colab": {
          "base_uri": "https://localhost:8080/",
          "height": 265
        },
        "id": "WCUgZ5D_F-ez",
        "outputId": "5de1d2f6-400e-4d0a-ec60-506aee4911d8"
      },
      "execution_count": 13,
      "outputs": [
        {
          "output_type": "display_data",
          "data": {
            "image/png": "[encoded data removed]",
            "text/plain": [
              "<Figure size 432x288 with 1 Axes>"
            ]
          },
          "metadata": {
            "needs_background": "light"
          }
        }
      ]
    },
    {
      "cell_type": "code",
      "source": [
        "# Calculando Gini (A/(A+B))\n",
        "# A + B = 0.5\n",
        "# A = 0.5 - B"
      ],
      "metadata": {
        "id": "zPXBUZY4xTfJ"
      },
      "execution_count": 14,
      "outputs": []
    },
    {
      "cell_type": "code",
      "source": [
        "# np.trapz calcula área abaixo da curva\n",
        "(0.5 - np.trapz(pnadc[\"incomeIniCumProp\"],pnadc[\"pessoasCumProp\"]))/0.5"
      ],
      "metadata": {
        "colab": {
          "base_uri": "https://localhost:8080/"
        },
        "id": "stuu-FAvcPbR",
        "outputId": "97fbbcc7-1af9-4ae5-a031-68a76dcabda5"
      },
      "execution_count": 15,
      "outputs": [
        {
          "output_type": "execute_result",
          "data": {
            "text/plain": [
              "0.5569351616849154"
            ]
          },
          "metadata": {},
          "execution_count": 15
        }
      ]
    },
    {
      "cell_type": "markdown",
      "metadata": {
        "id": "h1eBmdN5cdb2"
      },
      "source": [
        "Calculos adicionais"
      ]
    },
    {
      "cell_type": "code",
      "metadata": {
        "colab": {
          "base_uri": "https://localhost:8080/"
        },
        "id": "iA2OUofzPUSv",
        "outputId": "3481b8e3-516c-4db9-831f-0a6a5c253e33"
      },
      "source": [
        "# HIATO DE POBREZA - Renda Domiciliar Bruta Per Capita\n",
        "pnadc.loc[pnadc[\"RDBPC\"]<=406.00,\"Hiato_Pobreza\"]= 406.00 - pnadc[\"RDBPC\"]\n",
        "pnadc.fillna(value={\"Hiato_Pobreza\":0},inplace=True)\n",
        "\n",
        "# CÁLCULO DO VALOR DO HIATO AGREGADO DE POBREZA\n",
        "(pnadc[\"Hiato_Pobreza\"]*pnadc[\"PESO\"]).sum()"
      ],
      "execution_count": 16,
      "outputs": [
        {
          "output_type": "execute_result",
          "data": {
            "text/plain": [
              "7848699361.27"
            ]
          },
          "metadata": {},
          "execution_count": 16
        }
      ]
    }
  ]
}
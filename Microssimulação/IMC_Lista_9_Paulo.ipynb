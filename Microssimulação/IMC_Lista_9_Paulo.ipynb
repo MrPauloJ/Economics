{
  "nbformat": 4,
  "nbformat_minor": 0,
  "metadata": {
    "colab": {
      "name": "IMC_Lista_9_Paulo.ipynb",
      "provenance": [],
      "collapsed_sections": []
    },
    "kernelspec": {
      "name": "python3",
      "display_name": "Python 3"
    },
    "language_info": {
      "name": "python"
    }
  },
  "cells": [
    {
      "cell_type": "code",
      "metadata": {
        "id": "48lT5Ml9LYGL"
      },
      "source": [
        "#Universidade Federal de Pernambuco\n",
        "#Disciplina: Introdução a microssimulação\n",
        "#Professor: Jose Ricardo Nogueira\n",
        "#Aluno: Paulo Francisco da Silva Junior"
      ],
      "execution_count": 1,
      "outputs": []
    },
    {
      "cell_type": "code",
      "metadata": {
        "id": "uPl1v4UtLj6n"
      },
      "source": [
        "#importações\n",
        "import pandas as pd"
      ],
      "execution_count": 2,
      "outputs": []
    },
    {
      "cell_type": "markdown",
      "metadata": {
        "id": "-S0X8_-25aLS"
      },
      "source": [
        "Utilizando o banco de microdados “PNAD_COVID-19”, determine o\n",
        "número de pessoas que testaram positivo para a Covid-19."
      ]
    },
    {
      "cell_type": "code",
      "metadata": {
        "id": "heASp5hpMl8_"
      },
      "source": [
        "#Lendo banco e ajustando missings\n",
        "pnadc = pd.read_csv(\"/content/drive/MyDrive/Microsimulação/PNAD_COVID_112020.csv\", sep=\",\", decimal=\".\", na_values=\" \")\n",
        "pnadc.fillna(0,inplace=True)"
      ],
      "execution_count": 3,
      "outputs": []
    },
    {
      "cell_type": "code",
      "metadata": {
        "id": "hFEe8Nyjph1m"
      },
      "source": [
        "# CRIAÇÃO DAS CHAVES DE IDENTIFICAÇÃO *\n",
        "# OBS: ANTES DE RODAR ESSA SINTAXE, RECODIFICAR AS VARIÁVEIS UPA, V1008, A001 PARA STRING (SEQUÊNCIA) *\n",
        "\n",
        "# Chave para Domicílio\n",
        "pnadc[\"CHAVE.D\"] = pnadc[\"UPA\"].astype(str) + pnadc[\"V1008\"].astype(str)\n",
        "\n",
        "# Chave para Indivíduo\n",
        "pnadc[\"CHAVE.I\"] = pnadc[\"UPA\"].astype(str) + pnadc[\"V1008\"].astype(str)+pnadc[\"A001\"].astype(str)"
      ],
      "execution_count": 4,
      "outputs": []
    },
    {
      "cell_type": "code",
      "metadata": {
        "id": "WyN8O7Mxt-TV"
      },
      "source": [
        "# Calculando pessoas que testaram positivo pra covid\n",
        "# Considerando negativo, inconclusivo, ainda não recebeu o resultado, e ignorado como 0\n",
        "pnadc.loc[(pnadc[\"B009B\"]==1) | (pnadc[\"B009D\"]==1) | (pnadc[\"B009F\"]==1),\"covidPositivo\"] = 1\n",
        "pnadc.fillna(value={\"covidPositivo\":0},inplace=True)"
      ],
      "execution_count": 5,
      "outputs": []
    },
    {
      "cell_type": "code",
      "metadata": {
        "colab": {
          "base_uri": "https://localhost:8080/"
        },
        "id": "cE-OW63jyFt3",
        "outputId": "d8c488af-d0ad-49c7-ff37-78927c78f058"
      },
      "source": [
        "# Número total de pessoas que testaram positivo para covid\n",
        "(pnadc[\"covidPositivo\"]*pnadc[\"V1032\"]).sum()"
      ],
      "execution_count": 6,
      "outputs": [
        {
          "output_type": "execute_result",
          "data": {
            "text/plain": [
              "6497552.812247155"
            ]
          },
          "metadata": {},
          "execution_count": 6
        }
      ]
    },
    {
      "cell_type": "markdown",
      "metadata": {
        "id": "AmWhvMMOpiM6"
      },
      "source": [
        "Suponha que você queira analisar a população testada positivo para a\n",
        "Covid-19 em termos de sua distribuição por Grandes Regiões (Norte,\n",
        "Nordeste, Centro-Oeste, Sudeste, Sul). Utilizando o banco de microdados\n",
        "“PNAD_COVID-19”, crie uma variável que identifique essas Grandes\n",
        "Regiões e calcule o número de pessoas testas positivas para cada região."
      ]
    },
    {
      "cell_type": "code",
      "metadata": {
        "colab": {
          "base_uri": "https://localhost:8080/",
          "height": 98
        },
        "id": "9PuUcCIxqIp2",
        "outputId": "0b64fbad-9bcb-4cb3-fcf9-d73bb0b492c5"
      },
      "source": [
        "# Não há missings em UF logo podemos agergar de acordo com os estados\n",
        "pnadc.loc[pnadc[\"UF\"]==0]"
      ],
      "execution_count": 7,
      "outputs": [
        {
          "output_type": "execute_result",
          "data": {
            "text/html": [
              "<div>\n",
              "<style scoped>\n",
              "    .dataframe tbody tr th:only-of-type {\n",
              "        vertical-align: middle;\n",
              "    }\n",
              "\n",
              "    .dataframe tbody tr th {\n",
              "        vertical-align: top;\n",
              "    }\n",
              "\n",
              "    .dataframe thead th {\n",
              "        text-align: right;\n",
              "    }\n",
              "</style>\n",
              "<table border=\"1\" class=\"dataframe\">\n",
              "  <thead>\n",
              "    <tr style=\"text-align: right;\">\n",
              "      <th></th>\n",
              "      <th>Ano</th>\n",
              "      <th>UF</th>\n",
              "      <th>CAPITAL</th>\n",
              "      <th>RM_RIDE</th>\n",
              "      <th>V1008</th>\n",
              "      <th>V1012</th>\n",
              "      <th>V1013</th>\n",
              "      <th>V1016</th>\n",
              "      <th>Estrato</th>\n",
              "      <th>UPA</th>\n",
              "      <th>V1022</th>\n",
              "      <th>V1023</th>\n",
              "      <th>V1030</th>\n",
              "      <th>V1031</th>\n",
              "      <th>V1032</th>\n",
              "      <th>posest</th>\n",
              "      <th>A001</th>\n",
              "      <th>A001A</th>\n",
              "      <th>A001B1</th>\n",
              "      <th>A001B2</th>\n",
              "      <th>A001B3</th>\n",
              "      <th>A002</th>\n",
              "      <th>A003</th>\n",
              "      <th>A004</th>\n",
              "      <th>A005</th>\n",
              "      <th>A006</th>\n",
              "      <th>A006A</th>\n",
              "      <th>A006B</th>\n",
              "      <th>A007</th>\n",
              "      <th>A007A</th>\n",
              "      <th>A008</th>\n",
              "      <th>A009</th>\n",
              "      <th>B0011</th>\n",
              "      <th>B0012</th>\n",
              "      <th>B0013</th>\n",
              "      <th>B0014</th>\n",
              "      <th>B0015</th>\n",
              "      <th>B0016</th>\n",
              "      <th>B0017</th>\n",
              "      <th>B0018</th>\n",
              "      <th>...</th>\n",
              "      <th>C011A21</th>\n",
              "      <th>C011A22</th>\n",
              "      <th>C012</th>\n",
              "      <th>C013</th>\n",
              "      <th>C014</th>\n",
              "      <th>C015</th>\n",
              "      <th>C016</th>\n",
              "      <th>C017A</th>\n",
              "      <th>D0011</th>\n",
              "      <th>D0013</th>\n",
              "      <th>D0021</th>\n",
              "      <th>D0023</th>\n",
              "      <th>D0031</th>\n",
              "      <th>D0033</th>\n",
              "      <th>D0041</th>\n",
              "      <th>D0043</th>\n",
              "      <th>D0051</th>\n",
              "      <th>D0053</th>\n",
              "      <th>D0061</th>\n",
              "      <th>D0063</th>\n",
              "      <th>D0071</th>\n",
              "      <th>D0073</th>\n",
              "      <th>E001</th>\n",
              "      <th>E0021</th>\n",
              "      <th>E0022</th>\n",
              "      <th>E0023</th>\n",
              "      <th>E0024</th>\n",
              "      <th>F001</th>\n",
              "      <th>F0021</th>\n",
              "      <th>F0022</th>\n",
              "      <th>F002A1</th>\n",
              "      <th>F002A2</th>\n",
              "      <th>F002A3</th>\n",
              "      <th>F002A4</th>\n",
              "      <th>F002A5</th>\n",
              "      <th>F0061</th>\n",
              "      <th>F006</th>\n",
              "      <th>CHAVE.D</th>\n",
              "      <th>CHAVE.I</th>\n",
              "      <th>covidPositivo</th>\n",
              "    </tr>\n",
              "  </thead>\n",
              "  <tbody>\n",
              "  </tbody>\n",
              "</table>\n",
              "<p>0 rows × 151 columns</p>\n",
              "</div>"
            ],
            "text/plain": [
              "Empty DataFrame\n",
              "Columns: [Ano, UF, CAPITAL, RM_RIDE, V1008, V1012, V1013, V1016, Estrato, UPA, V1022, V1023, V1030, V1031, V1032, posest, A001, A001A, A001B1, A001B2, A001B3, A002, A003, A004, A005, A006, A006A, A006B, A007, A007A, A008, A009, B0011, B0012, B0013, B0014, B0015, B0016, B0017, B0018, B0019, B00110, B00111, B00112, B00113, B002, B0031, B0032, B0033, B0034, B0035, B0036, B0037, B0041, B0042, B0043, B0044, B0045, B0046, B005, B006, B007, B008, B009A, B009B, B009C, B009D, B009E, B009F, B0101, B0102, B0103, B0104, B0105, B0106, B011, C001, C002, C003, C004, C005, C0051, C0052, C0053, C006, C007, C007A, C007B, C007C, C007D, C007E, C007E1, C007E2, C007F, C008, C009, C009A, C010, C0101, C01011, ...]\n",
              "Index: []\n",
              "\n",
              "[0 rows x 151 columns]"
            ]
          },
          "metadata": {},
          "execution_count": 7
        }
      ]
    },
    {
      "cell_type": "code",
      "metadata": {
        "id": "gd9EIy9JBOiH"
      },
      "source": [
        "# Poderia inserir a condição para checar os casos positivos e fazer direto\n",
        "# Mas, decidi separar regiões pra caso haja simulações futuras."
      ],
      "execution_count": 8,
      "outputs": []
    },
    {
      "cell_type": "code",
      "metadata": {
        "id": "bxyHOtw8pl7r"
      },
      "source": [
        "# Região Norte\n",
        "# 13 Amazonas (AM), 14 Roraima (RR), 16 Amapá (AP), 15 Pará (PA), 17 Tocantins (TO), 11 Rondônia (RO), 12 Acre (AC)\n",
        "\n",
        "pnadc.loc[(pnadc[\"UF\"]==11) | \\\n",
        "          (pnadc[\"UF\"]==12) | \\\n",
        "          (pnadc[\"UF\"]==13) | \\\n",
        "          (pnadc[\"UF\"]==14) | \\\n",
        "          (pnadc[\"UF\"]==15) | \\\n",
        "          (pnadc[\"UF\"]==16) | \\\n",
        "          (pnadc[\"UF\"]==17), \"RN\"] = 1\n",
        "pnadc.fillna(value={\"RN\":0},inplace=True)"
      ],
      "execution_count": 9,
      "outputs": []
    },
    {
      "cell_type": "code",
      "metadata": {
        "id": "tiNsA2uF9E1f"
      },
      "source": [
        "# Região Nordeste\n",
        "# 21 Maranhão (MA), 22 Piauí (PI), 23 Ceará (CE), 24 Rio Grande do Norte (RN), 25 Paraíba (PB), 26 Pernambuco (PE), 27 Alagoas (AL), 28 Sergipe (SE), 29 Bahia (BA)\n",
        "\n",
        "pnadc.loc[(pnadc[\"UF\"]==21) | \\\n",
        "          (pnadc[\"UF\"]==22) | \\\n",
        "          (pnadc[\"UF\"]==23) | \\\n",
        "          (pnadc[\"UF\"]==24) | \\\n",
        "          (pnadc[\"UF\"]==25) | \\\n",
        "          (pnadc[\"UF\"]==26) | \\\n",
        "          (pnadc[\"UF\"]==27) | \\\n",
        "          (pnadc[\"UF\"]==28) | \\\n",
        "          (pnadc[\"UF\"]==29), \"RNE\"] = 1\n",
        "pnadc.fillna(value={\"RNE\":0},inplace=True)"
      ],
      "execution_count": 10,
      "outputs": []
    },
    {
      "cell_type": "code",
      "metadata": {
        "id": "mcRHTW40qVyd"
      },
      "source": [
        "# Região Centro-Oeste\n",
        "# 51 Mato Grosso (MT), 50 Mato Grosso do Sul (MS), 52 Goiás (GO), 53 Distrito federal (Brasilia)\n",
        "\n",
        "pnadc.loc[(pnadc[\"UF\"]==50) | \\\n",
        "          (pnadc[\"UF\"]==51) | \\\n",
        "          (pnadc[\"UF\"]==52) | \\\n",
        "          (pnadc[\"UF\"]==53), \"RCO\"] = 1\n",
        "pnadc.fillna(value={\"RCO\":0},inplace=True)"
      ],
      "execution_count": 11,
      "outputs": []
    },
    {
      "cell_type": "code",
      "metadata": {
        "id": "8T4_jzie-6pq"
      },
      "source": [
        "# Região Sudeste\n",
        "# 35 São Paulo (SP), 33 Rio de Janeiro (RJ), 32 Espírito Santo (ES), 31 Minas Gerais (MG)\n",
        "\n",
        "pnadc.loc[(pnadc[\"UF\"]==31) | \\\n",
        "          (pnadc[\"UF\"]==32) | \\\n",
        "          (pnadc[\"UF\"]==33) | \\\n",
        "          (pnadc[\"UF\"]==34), \"RSE\"] = 1\n",
        "pnadc.fillna(value={\"RSE\":0},inplace=True)"
      ],
      "execution_count": 12,
      "outputs": []
    },
    {
      "cell_type": "code",
      "metadata": {
        "id": "kGEw0qI16426"
      },
      "source": [
        "# Região Sul\n",
        "# 41 Paraná (PR), 43 Rio Grande do Sul (RS), 42 Santa Catarina (SC)\n",
        "\n",
        "pnadc.loc[(pnadc[\"UF\"]==31) | \\\n",
        "          (pnadc[\"UF\"]==32) | \\\n",
        "          (pnadc[\"UF\"]==33) | \\\n",
        "          (pnadc[\"UF\"]==34), \"RS\"] = 1\n",
        "pnadc.fillna(value={\"RS\":0},inplace=True)"
      ],
      "execution_count": 13,
      "outputs": []
    },
    {
      "cell_type": "code",
      "metadata": {
        "id": "7tQfYW7PAUs9"
      },
      "source": [
        "# Calculando covid por regiões"
      ],
      "execution_count": 14,
      "outputs": []
    },
    {
      "cell_type": "code",
      "metadata": {
        "colab": {
          "base_uri": "https://localhost:8080/"
        },
        "id": "k1jxQNfxB2w0",
        "outputId": "bb0e1ed0-e3a0-41d2-a1ee-8681c4192b7c"
      },
      "source": [
        "# Região Norte\n",
        "(pnadc.loc[pnadc[\"RN\"]==1, \"covidPositivo\"]*pnadc[\"V1032\"]).sum()"
      ],
      "execution_count": 15,
      "outputs": [
        {
          "output_type": "execute_result",
          "data": {
            "text/plain": [
              "775906.033876297"
            ]
          },
          "metadata": {},
          "execution_count": 15
        }
      ]
    },
    {
      "cell_type": "code",
      "metadata": {
        "colab": {
          "base_uri": "https://localhost:8080/"
        },
        "id": "b8RlhbBWCCx3",
        "outputId": "d66f175c-c495-4c4b-b8c6-7a1cf660c485"
      },
      "source": [
        "# Região Nordeste\n",
        "(pnadc.loc[pnadc[\"RNE\"]==1, \"covidPositivo\"]*pnadc[\"V1032\"]).sum()"
      ],
      "execution_count": 16,
      "outputs": [
        {
          "output_type": "execute_result",
          "data": {
            "text/plain": [
              "1800273.729142756"
            ]
          },
          "metadata": {},
          "execution_count": 16
        }
      ]
    },
    {
      "cell_type": "code",
      "metadata": {
        "colab": {
          "base_uri": "https://localhost:8080/"
        },
        "id": "9XKlifCeCFfg",
        "outputId": "ea87e580-d34e-4d9a-a86c-d09a54ca502f"
      },
      "source": [
        "# Região Centro-Oeste\n",
        "(pnadc.loc[pnadc[\"RCO\"]==1, \"covidPositivo\"]*pnadc[\"V1032\"]).sum()"
      ],
      "execution_count": 17,
      "outputs": [
        {
          "output_type": "execute_result",
          "data": {
            "text/plain": [
              "822186.0985951249"
            ]
          },
          "metadata": {},
          "execution_count": 17
        }
      ]
    },
    {
      "cell_type": "code",
      "metadata": {
        "colab": {
          "base_uri": "https://localhost:8080/"
        },
        "id": "gTZPbp93CIgr",
        "outputId": "b755d2cb-90d9-4ed9-c8c9-6e5f5cb3f300"
      },
      "source": [
        "# Região Sul\n",
        "(pnadc.loc[pnadc[\"RS\"]==1, \"covidPositivo\"]*pnadc[\"V1032\"]).sum()"
      ],
      "execution_count": 18,
      "outputs": [
        {
          "output_type": "execute_result",
          "data": {
            "text/plain": [
              "1034971.524730048"
            ]
          },
          "metadata": {},
          "execution_count": 18
        }
      ]
    },
    {
      "cell_type": "code",
      "metadata": {
        "colab": {
          "base_uri": "https://localhost:8080/"
        },
        "id": "9SWtc9HBCKbu",
        "outputId": "a4a37fe4-a14c-42c0-f3e3-2d5045ea4ffd"
      },
      "source": [
        "# Região Sudeste\n",
        "(pnadc.loc[pnadc[\"RN\"]==1, \"covidPositivo\"]*pnadc[\"V1032\"]).sum()"
      ],
      "execution_count": 19,
      "outputs": [
        {
          "output_type": "execute_result",
          "data": {
            "text/plain": [
              "775906.033876297"
            ]
          },
          "metadata": {},
          "execution_count": 19
        }
      ]
    },
    {
      "cell_type": "code",
      "metadata": {
        "id": "4bQi0F_rXRpQ"
      },
      "source": [
        ""
      ],
      "execution_count": null,
      "outputs": []
    }
  ]
}
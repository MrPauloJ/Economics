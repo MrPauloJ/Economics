{
  "nbformat": 4,
  "nbformat_minor": 0,
  "metadata": {
    "colab": {
      "name": "IMC - Lista 6 - Paulo Francisco.ipynb",
      "provenance": [],
      "collapsed_sections": []
    },
    "kernelspec": {
      "name": "python3",
      "display_name": "Python 3"
    },
    "language_info": {
      "name": "python"
    }
  },
  "cells": [
    {
      "cell_type": "code",
      "metadata": {
        "id": "1QyNEOmEoF1p"
      },
      "source": [
        "#Universidade Federal de Pernambuco\n",
        "#Disciplina: Introdução a Microssimulação\n",
        "#Professor: Jose Ricardo Nogueira\n",
        "#Aluno: Paulo Francisco da Silva Junior"
      ],
      "execution_count": 1,
      "outputs": []
    },
    {
      "cell_type": "code",
      "metadata": {
        "id": "hIjv-T4EoY-l"
      },
      "source": [
        "#importações\n",
        "import pandas as pd\n",
        "from numpy import nan"
      ],
      "execution_count": 2,
      "outputs": []
    },
    {
      "cell_type": "markdown",
      "metadata": {
        "id": "hIjv-T4EoY-l"
      },
      "source": [
       "Calculdo da contribuição à previdência com base nas regras legais de 2019"
      ],
      "execution_count": 2,
      "outputs": []
    },
    {
      "cell_type": "code",
      "metadata": {
        "id": "KvXMKSUUojOZ"
      },
      "source": [
        "#Importando banco\n",
        "pnadc = pd.read_csv(\"/content/drive/MyDrive/Microsimulação/PNADC_2019_mine.csv\",sep=\",\",decimal=\".\",dtype=float,na_values=\" \")"
      ],
      "execution_count": 3,
      "outputs": []
    },
    {
      "cell_type": "code",
      "metadata": {
        "id": "QGiacBtpf1iL"
      },
      "source": [
        "#Corrigindo missings pra 0\n",
        "pnadc.fillna(0,inplace=True)"
      ],
      "execution_count": 4,
      "outputs": []
    },
    {
      "cell_type": "markdown",
      "metadata": {
        "id": "eVJJD712g0io"
      },
      "source": [
        "Considerando que os valores dos salários primários e secundários presentes na PNADC estão mensalizados, ",
        "o 13 salário e o adicional de férias serão divididos por caso a análise seja anualizada (o correto a se fazer)."
      ],
      "execution_count": 5,
      "outputs": []
    },
    {
      "cell_type": "code",
      "metadata": {
        "id": "RD6tmaz4adkR"
      },
      "source": [
        "#13 salário - trabalho principal\n",
        "pnadc[\"SAL13_1\"]=pnadc[\"V403312\"]/12"
      ],
      "execution_count": 6,
      "outputs": []
    },
    {
      "cell_type": "code",
      "metadata": {
        "id": "mUd4cKPxbBay"
      },
      "source": [
        "#13 salário - trabalho secundário\n",
        "pnadc[\"SAL13_2\"]=pnadc[\"V405012\"]/12"
      ],
      "execution_count": 7,
      "outputs": []
    },
    {
      "cell_type": "code",
      "metadata": {
        "id": "avyIrjUYbCBr"
      },
      "source": [
        "#Adicional de férias - trabalho principal\n",
        "pnadc[\"AFERIAS1\"]=(pnadc[\"V403312\"]/3)"
      ],
      "execution_count": 8,
      "outputs": []
    },
    {
      "cell_type": "code",
      "metadata": {
        "id": "QSLGPYGLc136"
      },
      "source": [
        "#Adicional de férias - trabalho secundário\n",
        "pnadc[\"AFERIAS2\"]=(pnadc[\"V405012\"]/3)"
      ],
      "execution_count": 9,
      "outputs": []
    },
    {
      "cell_type": "code",
      "metadata": {
        "id": "18F6hDNOpw_m"
      },
      "source": [
        "#SIMULACAO DAS CONTRIBUICOES SOCIAIS (PNADC 2019)"
      ],
      "execution_count": 10,
      "outputs": []
    },
    {
      "cell_type": "code",
      "metadata": {
        "id": "Ld5ZOD94qCuv"
      },
      "source": [
        "#1. EMPREGADO E TRABALHADOR AVULSO "
      ],
      "execution_count": 11,
      "outputs": []
    },
    {
      "cell_type": "code",
      "metadata": {
        "id": "zmpc48FrqHg1"
      },
      "source": [
        "#1.1 EMPREGADO E TRABALHADOR AVULSO (TRABALHO PRINCIPAL)\n",
        "pnadc.loc[(pnadc[\"VD4009\"]==1) & \\\n",
        "          ((pnadc[\"V403312\"] - pnadc[\"SALFAM1\"] + pnadc[\"AFERIAS1\"] + pnadc[\"SAL13_1\"]) <=1751.81),\\\n",
        "          \"CONTE1\"] = 0.08 * (pnadc[\"V403312\"] - pnadc[\"SALFAM1\"] + pnadc[\"AFERIAS1\"] + pnadc[\"SAL13_1\"])\n",
        "\n",
        "pnadc.loc[(pnadc[\"VD4009\"]==1) & \\\n",
        "          ((pnadc[\"V403312\"] - pnadc[\"SALFAM1\"] + pnadc[\"AFERIAS1\"] + pnadc[\"SAL13_1\"])> 1751.81) & \\\n",
        "          ((pnadc[\"V403312\"] - pnadc[\"SALFAM1\"] + pnadc[\"AFERIAS1\"] + pnadc[\"SAL13_1\"])<=2919.72), \\\n",
        "          \"CONTE1\"] = 0.09 * (pnadc[\"V403312\"] - pnadc[\"SALFAM1\"] + pnadc[\"AFERIAS1\"] + pnadc[\"SAL13_1\"])\n",
        "\n",
        "pnadc.loc[(pnadc[\"VD4009\"]==1) & \\\n",
        "          ((pnadc[\"V403312\"] - pnadc[\"SALFAM1\"] + pnadc[\"AFERIAS1\"] + pnadc[\"SAL13_1\"])> 2919.72) & \\\n",
        "          ((pnadc[\"V403312\"] - pnadc[\"SALFAM1\"] + pnadc[\"AFERIAS1\"] + pnadc[\"SAL13_1\"])<=5839.45), \\\n",
        "          \"CONTE1\"] = 0.11 * (pnadc[\"V403312\"] - pnadc[\"SALFAM1\"] + pnadc[\"AFERIAS1\"] + pnadc[\"SAL13_1\"])\n",
        "\n",
        "pnadc.loc[(pnadc[\"VD4009\"]==1) & \\\n",
        "          ((pnadc[\"V403312\"] - pnadc[\"SALFAM1\"] + pnadc[\"AFERIAS1\"] + pnadc[\"SAL13_1\"])> 5839.45), \\\n",
        "          \"CONTE1\"] = 0.11 * 5839.45\n",
        "\n",
        "\n",
        "pnadc.fillna(value={\"CONTE1\":0},inplace=True)"
      ],
      "execution_count": 12,
      "outputs": []
    },
    {
      "cell_type": "code",
      "metadata": {
        "id": "ypa05tjEqc3J"
      },
      "source": [
        "#1.2 EMPREGADO E TRABALHADOR AVULSO (TRABALHO SECUNDARIO)\n",
        "pnadc.loc[((pnadc[\"V4043\"]==3) & (pnadc[\"V4048\"]==1)) & \\\n",
        "          ((pnadc[\"V405012\"] - pnadc[\"SALFAM2\"] + pnadc[\"AFERIAS2\"] + pnadc[\"SAL13_2\"])<=1751.81),\n",
        "          \"CONTE2\"] = 0.08 * (pnadc[\"V405012\"] - pnadc[\"SALFAM2\"] + pnadc[\"AFERIAS2\"] + pnadc[\"SAL13_2\"])\n",
        "\n",
        "pnadc.loc[((pnadc[\"V4043\"]==3) & (pnadc[\"V4048\"]==1)) & \\\n",
        "          ((pnadc[\"V405012\"] - pnadc[\"SALFAM2\"] + pnadc[\"AFERIAS2\"] + pnadc[\"SAL13_2\"])> 1751.81) & \\\n",
        "          ((pnadc[\"V405012\"] - pnadc[\"SALFAM2\"] + pnadc[\"AFERIAS2\"] + pnadc[\"SAL13_2\"])<=2919.72), \\\n",
        "          \"CONTE2\"] = 0.09 * (pnadc[\"V405012\"] - pnadc[\"SALFAM2\"] + pnadc[\"AFERIAS2\"] + pnadc[\"SAL13_2\"])\n",
        "\n",
        "pnadc.loc[((pnadc[\"V4043\"]==3) & (pnadc[\"V4048\"]==1)) & \\\n",
        "          ((pnadc[\"V405012\"] - pnadc[\"SALFAM2\"] + pnadc[\"AFERIAS2\"] + pnadc[\"SAL13_2\"])> 2919.72) & \\\n",
        "          ((pnadc[\"V405012\"] - pnadc[\"SALFAM2\"] + pnadc[\"AFERIAS2\"] + pnadc[\"SAL13_2\"])<=5839.45), \\\n",
        "          \"CONTE2\"] = 0.11 * (pnadc[\"V405012\"] - pnadc[\"SALFAM2\"] + pnadc[\"AFERIAS2\"] + pnadc[\"SAL13_2\"])\n",
        "\n",
        "pnadc.loc[((pnadc[\"V4043\"]==3) & (pnadc[\"V4048\"]==1)) & \\\n",
        "          ((pnadc[\"V405012\"] - pnadc[\"SALFAM2\"] + pnadc[\"AFERIAS2\"] + pnadc[\"SAL13_2\"])> 5839.45), \\\n",
        "          \"CONTE2\"] = 0.11 * 5839.45\n",
        "\n",
        "pnadc.fillna(value={\"CONTE2\":0},inplace=True)"
      ],
      "execution_count": 13,
      "outputs": []
    },
    {
      "cell_type": "code",
      "metadata": {
        "id": "5eVFNiWjx71H"
      },
      "source": [
        "#1.3 EMPREGADO E TRABALHADOR AVULSO (TRABALHO PRINCIPAL + SECUNDARIO)\n",
        "pnadc[\"CONTE\"]= pnadc[\"CONTE1\"]+pnadc[\"CONTE2\"]\n",
        "pnadc.fillna(value={\"CONTE\":0},inplace=True)\n",
        "#RECODE CONTE  (Lowest thru 0=0) "
      ],
      "execution_count": 14,
      "outputs": []
    },
    {
      "cell_type": "code",
      "metadata": {
        "id": "QHPeXJKqzE03"
      },
      "source": [
        "#2. EMPREGADO DOMESTICO"
      ],
      "execution_count": 15,
      "outputs": []
    },
    {
      "cell_type": "code",
      "metadata": {
        "id": "ENXNMXpWzGMN"
      },
      "source": [
        "#2.1 EMPREGADO DOMESTICO (TRABALHO PRINCIPAL)\n",
        "pnadc.loc[(pnadc[\"VD4009\"]==3) & ((pnadc[\"V403312\"] + pnadc[\"AFERIAS1\"] + pnadc[\"SAL13_1\"])<=1751.81), \\\n",
        "          \"CONTED1\"] = 0.08 * (pnadc[\"V403312\"] + pnadc[\"AFERIAS1\"] + pnadc[\"SAL13_1\"])\n",
        "\n",
        "pnadc.loc[(pnadc[\"VD4009\"]==3) & ((pnadc[\"V403312\"] + pnadc[\"AFERIAS1\"] + pnadc[\"SAL13_1\"])>1751.81) & \\\n",
        "          ((pnadc[\"V403312\"] + pnadc[\"AFERIAS1\"] + pnadc[\"SAL13_1\"])<=2919.72), \\\n",
        "          \"CONTED1\"] = 0.09 * (pnadc[\"V403312\"] + pnadc[\"AFERIAS1\"] + pnadc[\"SAL13_1\"])\n",
        "\n",
        "pnadc.loc[(pnadc[\"VD4009\"]==3) & ((pnadc[\"V403312\"] + pnadc[\"AFERIAS1\"] + pnadc[\"SAL13_1\"])>2919.72) & \\\n",
        "          ((pnadc[\"V403312\"] + pnadc[\"AFERIAS1\"] + pnadc[\"SAL13_1\"])<=5839.45), \\\n",
        "          \"CONTED1\"] = 0.11 *  (pnadc[\"V403312\"] + pnadc[\"AFERIAS1\"] + pnadc[\"SAL13_1\"])\n",
        "\n",
        "pnadc.loc[(pnadc[\"VD4009\"]==3) & ((pnadc[\"V403312\"] + pnadc[\"AFERIAS1\"] + pnadc[\"SAL13_1\"])>5839.45), \\\n",
        "          \"CONTED1\"] = 0.11 * 5839.45 \n",
        "\n",
        "pnadc.fillna(value={\"CONTED1\":0},inplace=True)"
      ],
      "execution_count": 16,
      "outputs": []
    },
    {
      "cell_type": "code",
      "metadata": {
        "id": "7Ee-4Jip1Pek"
      },
      "source": [
        "#2.2 EMPREGADO DOMESTICO (TRABALHO SECUNDARIO)\n",
        "pnadc.loc[((pnadc[\"V4043\"]==1) & (pnadc[\"V4048\"]==1)) & \\\n",
        "          ((pnadc[\"V405012\"] + pnadc[\"AFERIAS2\"] + pnadc[\"SAL13_2\"])<=1751.81), \\\n",
        "          \"CONTED2\"] = 0.08 * (pnadc[\"V405012\"] + pnadc[\"AFERIAS2\"] + pnadc[\"SAL13_2\"])\n",
        "\n",
        "pnadc.loc[((pnadc[\"V4043\"]==1) & (pnadc[\"V4048\"]==1)) & \\\n",
        "          ((pnadc[\"V405012\"] + pnadc[\"AFERIAS2\"] + pnadc[\"SAL13_2\"])>1751.81) & \\\n",
        "          ((pnadc[\"V405012\"] + pnadc[\"AFERIAS2\"])<=2919.72), \\\n",
        "          \"CONTED2\"] = 0.09 * (pnadc[\"V405012\"] + pnadc[\"AFERIAS2\"] + pnadc[\"SAL13_2\"])\n",
        "\n",
        "pnadc.loc[((pnadc[\"V4043\"]==1) & (pnadc[\"V4048\"]==1)) & \\\n",
        "          ((pnadc[\"V405012\"] + pnadc[\"AFERIAS2\"] + pnadc[\"SAL13_2\"])>2919.72) & \\\n",
        "          ((pnadc[\"V405012\"] + pnadc[\"AFERIAS2\"])<=5839.45), \\\n",
        "          \"CONTED2\"] = 0.11 * (pnadc[\"V405012\"] + pnadc[\"AFERIAS2\"] + pnadc[\"SAL13_2\"])\n",
        "\n",
        "pnadc.loc[((pnadc[\"V4043\"]==1) & (pnadc[\"V4048\"]==1)) & \\\n",
        "          ((pnadc[\"V405012\"] + pnadc[\"AFERIAS2\"] + pnadc[\"SAL13_2\"])>5839.45), \\\n",
        "          \"CONTED2\"] = 0.11 * 5839.45\n",
        "\n",
        "pnadc.fillna(value={\"CONTED2\":0},inplace=True)"
      ],
      "execution_count": 17,
      "outputs": []
    },
    {
      "cell_type": "code",
      "metadata": {
        "id": "gXWXXoYa1nmJ"
      },
      "source": [
        "#2.3 EMPREGADO DOMESTICO (TRABALHO PRINCIPAL + SECUNDARIO)\n",
        "pnadc[\"CONTED\"]= pnadc[\"CONTED1\"]+pnadc[\"CONTED2\"]\n",
        "pnadc.fillna(value={\"CONTED\":0},inplace=True)"
      ],
      "execution_count": 18,
      "outputs": []
    },
    {
      "cell_type": "code",
      "metadata": {
        "id": "pa1Vvg3a3Z32"
      },
      "source": [
        "#4. SERVIDOR PUBLICO ESTATUTARIO FEDERAL"
      ],
      "execution_count": 19,
      "outputs": []
    },
    {
      "cell_type": "code",
      "metadata": {
        "id": "NaUO7NxB3dAA"
      },
      "source": [
        "#4.1 SERVIDOR PUBLICO ESTATUTARIO FEDERAL (TRABALHO PRINCIPAL)\n",
        "pnadc.loc[(pnadc[\"V4012\"]==4) & (pnadc[\"V4028\"]==1) & (pnadc[\"V4014\"]==1), \\\n",
        "          \"CONTFED1\"] = 0.11 * (pnadc[\"V403312\"] + pnadc[\"AFERIAS1\"] + pnadc[\"SAL13_1\"])\n",
        "          \n",
        "pnadc.fillna(value={\"CONTFED1\":0},inplace=True)"
      ],
      "execution_count": 20,
      "outputs": []
    },
    {
      "cell_type": "code",
      "metadata": {
        "id": "ZWZ92fA8389o"
      },
      "source": [
        "#4.2 SERVIDOR PUBLICO ESTATUTARIO FEDERAL (TRABALHO SECUNDARIO)\n",
        "pnadc.loc[(pnadc[\"V4043\"]==4) & (pnadc[\"V4047\"]==1) & (pnadc[\"V4045\"]==1), \\\n",
        "          \"CONTFED2\"] = 0.11 * (pnadc[\"V405012\"] + pnadc[\"AFERIAS2\"] + pnadc[\"SAL13_2\"])\n",
        "\n",
        "pnadc.fillna(value={\"CONTFED2\":0},inplace=True)"
      ],
      "execution_count": 21,
      "outputs": []
    },
    {
      "cell_type": "code",
      "metadata": {
        "id": "HMCtWpp_4e0b"
      },
      "source": [
        "#4.3 SERVIDOR PÚBLICO ESTATUTARIO FEDERAL (TRABALHO PRINCIPAL + SECUNDARIO)\n",
        "pnadc[\"CONTFED\"]= pnadc[\"CONTFED1\"] + pnadc[\"CONTFED2\"]\n",
        "pnadc.fillna(value={\"CONTFED\":0},inplace=True)"
      ],
      "execution_count": 22,
      "outputs": []
    },
    {
      "cell_type": "code",
      "metadata": {
        "id": "B0Y_dxJaiQ7N"
      },
      "source": [
        "#Utilizando os pesos, calculamos a contribuição total de cada grupo"
      ],
      "execution_count": 23,
      "outputs": []
    },
    {
      "cell_type": "code",
      "metadata": {
        "colab": {
          "base_uri": "https://localhost:8080/"
        },
        "id": "6DMN9QxcgU9n",
        "outputId": "445872d0-0d14-4789-86f0-907b83143665"
      },
      "source": [
        "#Valor total de contribuição - EMPREGADO E TRABALHADOR AVULSO (TRABALHO PRINCIPAL)\n",
        "(pnadc[\"CONTE1\"]*pnadc[\"V1032\"]).sum()"
      ],
      "execution_count": 24,
      "outputs": [
        {
          "output_type": "execute_result",
          "data": {
            "text/plain": [
              "13289773107.913937"
            ]
          },
          "metadata": {},
          "execution_count": 24
        }
      ]
    },
    {
      "cell_type": "code",
      "metadata": {
        "colab": {
          "base_uri": "https://localhost:8080/"
        },
        "id": "x3wCnZCTh4tS",
        "outputId": "47b49ad1-5728-4bc8-8347-6214a3ad92a8"
      },
      "source": [
        "#Valor total de contribuição - EMPREGADO E TRABALHADOR AVULSO (TRABALHO SECUNDARIO)\n",
        "(pnadc[\"CONTE2\"]*pnadc[\"V1032\"]).sum()"
      ],
      "execution_count": 25,
      "outputs": [
        {
          "output_type": "execute_result",
          "data": {
            "text/plain": [
              "64477134.11172675"
            ]
          },
          "metadata": {},
          "execution_count": 25
        }
      ]
    },
    {
      "cell_type": "code",
      "metadata": {
        "colab": {
          "base_uri": "https://localhost:8080/"
        },
        "id": "NvvEVOO5iA15",
        "outputId": "58dfccf7-59b1-4dc1-a132-dde7c2e2b63a"
      },
      "source": [
        "#Valor total de contribuição - EMPREGADO DOMESTICO (TRABALHO PRINCIPAL)\n",
        "(pnadc[\"CONTED1\"]*pnadc[\"V1032\"]).sum()"
      ],
      "execution_count": 26,
      "outputs": [
        {
          "output_type": "execute_result",
          "data": {
            "text/plain": [
              "518110891.628599"
            ]
          },
          "metadata": {},
          "execution_count": 26
        }
      ]
    },
    {
      "cell_type": "code",
      "metadata": {
        "colab": {
          "base_uri": "https://localhost:8080/"
        },
        "id": "UM5pNEbgiJ4v",
        "outputId": "e615e634-0fe1-47ca-df38-9054ce28b8a4"
      },
      "source": [
        "#Valor total de contribuição - EMPREGADO DOMESTICO (TRABALHO SECUNDARIO)\n",
        "(pnadc[\"CONTED2\"]*pnadc[\"V1032\"]).sum()"
      ],
      "execution_count": 27,
      "outputs": [
        {
          "output_type": "execute_result",
          "data": {
            "text/plain": [
              "3363818.737039572"
            ]
          },
          "metadata": {},
          "execution_count": 27
        }
      ]
    },
    {
      "cell_type": "code",
      "metadata": {
        "colab": {
          "base_uri": "https://localhost:8080/"
        },
        "id": "exNd32xIiMKQ",
        "outputId": "0461532c-7605-4ab2-a96f-9115a69b5b3b"
      },
      "source": [
        "#Valor total de contribuição - SERVIDOR PUBLICO ESTATUTARIO FEDERAL (TRABALHO PRINCIPAL)\n",
        "(pnadc[\"CONTFED1\"]*pnadc[\"V1032\"]).sum()"
      ],
      "execution_count": 28,
      "outputs": [
        {
          "output_type": "execute_result",
          "data": {
            "text/plain": [
              "1863482249.7010322"
            ]
          },
          "metadata": {},
          "execution_count": 28
        }
      ]
    },
    {
      "cell_type": "code",
      "metadata": {
        "colab": {
          "base_uri": "https://localhost:8080/"
        },
        "id": "iUvYf0TFjIgi",
        "outputId": "36ce140b-8295-4a42-e26e-e874013335db"
      },
      "source": [
        "#Valor total de contribuição - SERVIDOR PUBLICO ESTATUTARIO FEDERAL (TRABALHO SECUNDARIO)\n",
        "(pnadc[\"CONTFED2\"]*pnadc[\"V1032\"]).sum()"
      ],
      "execution_count": 29,
      "outputs": [
        {
          "output_type": "execute_result",
          "data": {
            "text/plain": [
              "2406514.148698481"
            ]
          },
          "metadata": {},
          "execution_count": 29
        }
      ]
    },
    {
      "cell_type": "code",
      "metadata": {
        "id": "pzU-J1RplQoO"
      },
      "source": [
        ""
      ],
      "execution_count": 30,
      "outputs": []
    }
  ]
}

{
  "nbformat": 4,
  "nbformat_minor": 0,
  "metadata": {
    "colab": {
      "name": "IMC_Lista_6_Paulo.ipynb",
      "provenance": [],
      "collapsed_sections": []
    },
    "kernelspec": {
      "name": "python3",
      "display_name": "Python 3"
    },
    "language_info": {
      "name": "python"
    }
  },
  "cells": [
    {
      "cell_type": "code",
      "metadata": {
        "id": "1QyNEOmEoF1p"
      },
      "source": [
        "#Universidade Federal de Pernambuco\n",
        "#Disciplina: Introdução a Microssimulação\n",
        "#Professor: Jose Ricardo Nogueira\n",
        "#Aluno: Paulo Francisco da Silva Junior"
      ],
      "execution_count": 40,
      "outputs": []
    },
    {
      "cell_type": "code",
      "metadata": {
        "id": "hIjv-T4EoY-l"
      },
      "source": [
        "#importações\n",
        "import pandas as pd\n",
        "from numpy import nan"
      ],
      "execution_count": 41,
      "outputs": []
    },
    {
      "cell_type": "markdown",
      "metadata": {
        "id": "PjnyZGfRkh2W"
      },
      "source": [
        "Calculdo da contribuição à previdência com base nas regras legais de 2019"
      ]
    },
    {
      "cell_type": "code",
      "metadata": {
        "id": "KvXMKSUUojOZ"
      },
      "source": [
        "#Importando banco\n",
        "pnadc = pd.read_csv(\"/content/drive/MyDrive/Microsimulação/PNADC_2019_mine.csv\",sep=\",\",decimal=\".\",dtype=float,na_values=\" \")"
      ],
      "execution_count": 42,
      "outputs": []
    },
    {
      "cell_type": "code",
      "metadata": {
        "id": "QGiacBtpf1iL"
      },
      "source": [
        "#Corrigindo missings pra 0\n",
        "pnadc.fillna(0,inplace=True)"
      ],
      "execution_count": 43,
      "outputs": []
    },
    {
      "cell_type": "markdown",
      "metadata": {
        "id": "eVJJD712g0io"
      },
      "source": [
        "Considerando que os valores dos salários primários e secundários presentes na PNADC estão mensalizados, o 13 salário e o adicional de férias serão divididos por caso a análise seja anualizada (o correto a se fazer)."
      ]
    },
    {
      "cell_type": "code",
      "metadata": {
        "id": "woJIv5KOiHsb"
      },
      "source": [
        "# ABONO SALARIAL\n",
        "# OBS: A simulacao e realizada sem utilizacao da restricao de tempo de trabalho.\n",
        "# OBS: Em substituicao  a restricao de tempo, usa-se uma restricao de idade (>=23 anos), \n",
        "# de forma a excluir os possiveis \"aprendizes\" (idade entre 16-18 anos), os quais nao tem direito ao beneficio.\n",
        "# OBS: A diferenca entre 23 anos e 18 anos seria equivalente ao requisito de 5 anos de inscricao no PIS/PASEP."
      ],
      "execution_count": 44,
      "outputs": []
    },
    {
      "cell_type": "code",
      "metadata": {
        "id": "8u5W-eZsjFFg"
      },
      "source": [
        "# ABONO SALARIAL (TRABALHO PRINCIPAL)\n",
        "pnadc.loc[((pnadc[\"V2009\"]>=23) & (pnadc[\"VD4009\"] == 1) | (pnadc[\"VD4009\"] == 5) | (pnadc[\"VD4009\"] == 7)) &  \\\n",
        "          ((pnadc[\"V403312\"]>=0) & (pnadc[\"V403312\"])<=2*998), \n",
        "          \"ABOSAL1\"] = 998.00 / 12\n",
        "pnadc.fillna(value={\"ABOSAL1\":0},inplace=True)"
      ],
      "execution_count": 45,
      "outputs": []
    },
    {
      "cell_type": "code",
      "metadata": {
        "id": "QA6H1_Mjl8MT"
      },
      "source": [
        "# ABONO SALARIAL (TRABALHO SECUNDARIO)\n",
        "pnadc.loc[(pnadc[\"V2009\"]>=23) & \\\n",
        "          (((pnadc[\"V4043\"]==4) & (pnadc[\"V4047\"]==1)) | \\\n",
        "           ((pnadc[\"V4043\"]==4) & (pnadc[\"V4048\"]==1)) | \\\n",
        "           (pnadc[\"V4043\"]==2) | \\\n",
        "           ((pnadc[\"V4043\"]==3) & (pnadc[\"V4048\"]==1))) & \\\n",
        "           ((pnadc[\"V405012\"]>=0) & (pnadc[\"V405012\"]<=2*998.00)),\n",
        "          \"ABOSAL2\"] = 998.00 / 12\n",
        "pnadc.fillna(value={\"ABOSAL2\":0},inplace=True)"
      ],
      "execution_count": 46,
      "outputs": []
    },
    {
      "cell_type": "code",
      "metadata": {
        "id": "foxxVWiGoJ0V"
      },
      "source": [
        "# ABONO SALARIAL (TRABALHO PRINCIPAL + SECUNDARIO)\n",
        "pnadc[\"ABOSAL\"] = pnadc[\"ABOSAL1\"]+pnadc[\"ABOSAL2\"]"
      ],
      "execution_count": 47,
      "outputs": []
    },
    {
      "cell_type": "code",
      "metadata": {
        "id": "oJ9qFAG9oedJ"
      },
      "source": [
        "# ABONO ANUAL (DECIMO TERCEIRO SALARIO DO APOSENTADO E DO PENSIONISTA)"
      ],
      "execution_count": 48,
      "outputs": []
    },
    {
      "cell_type": "code",
      "metadata": {
        "id": "LAUXXrmooh2u"
      },
      "source": [
        "# APOSENTADORIA E PENSAO\n",
        "pnadc.loc[pnadc[\"V5004A2\"]>0, \"ABONOA\"] = pnadc[\"V5004A2\"] / 12\n",
        "pnadc.fillna(value={\"ABONOA\":0},inplace=True)"
      ],
      "execution_count": 49,
      "outputs": []
    },
    {
      "cell_type": "code",
      "metadata": {
        "id": "_pLerILEo0-3"
      },
      "source": [
        "# DECIMO TERCEIRO SALARIO"
      ],
      "execution_count": 50,
      "outputs": []
    },
    {
      "cell_type": "code",
      "metadata": {
        "id": "_tNO3G9kpFZg"
      },
      "source": [
        "# DECIMO TERCEIRO SALARIO (TRABALHO PRINCIPAL)\n",
        "pnadc.loc[(pnadc[\"VD4009\"]==1) | (pnadc[\"VD4009\"]==3) | (pnadc[\"VD4009\"]==5) | (pnadc[\"VD4009\"]==7), \n",
        "          \"SAL13_1\"] = (pnadc[\"V403312\"]-pnadc[\"SALFAM1\"]) / 12\n",
        "pnadc.loc[pnadc[\"SAL13_1\"]<0,\"SAL13_1\"]=0\n",
        "pnadc.fillna(value={\"SAL13_1\":0},inplace=True)"
      ],
      "execution_count": 51,
      "outputs": []
    },
    {
      "cell_type": "code",
      "metadata": {
        "id": "9iisQBDmp6sB"
      },
      "source": [
        "# DECIMO TERCEIRO SALARIO (TRABALHO SECUNDARIO)\n",
        "pnadc.loc[((pnadc[\"V4043\"]==4) & (pnadc[\"V4047\"]==1)) | \\\n",
        "          ((pnadc[\"V4043\"]==4) & (pnadc[\"V4048\"]==1)) | \\\n",
        "          (pnadc[\"V4043\"]==2) | \\\n",
        "          ((pnadc[\"V4043\"]==3) & (pnadc[\"V4048\"]==1)) | \\\n",
        "          ((pnadc[\"V4043\"]==1) & (pnadc[\"V4048\"]==1)),\n",
        "          \"SAL13_2\"] = (pnadc[\"V405012\"]-pnadc[\"SALFAM2\"]) / 12\n",
        "\n",
        "pnadc.loc[pnadc[\"SAL13_2\"]<0,\"SAL13_2\"]=0\n",
        "pnadc.fillna(value={\"SAL13_2\":0},inplace=True)"
      ],
      "execution_count": 52,
      "outputs": []
    },
    {
      "cell_type": "code",
      "metadata": {
        "id": "F26KqpLvq6Sx"
      },
      "source": [
        "# DECIMO TERCEIRO SALARIO (TRABALHO PRINCIPAL + SECUNDARIO)\n",
        "pnadc[\"SAL13\"]=pnadc[\"SAL13_1\"]+pnadc[\"SAL13_2\"]"
      ],
      "execution_count": 53,
      "outputs": []
    },
    {
      "cell_type": "code",
      "metadata": {
        "id": "COKUZNP-rMrG"
      },
      "source": [
        "# ADICIONAL DE FERIAS"
      ],
      "execution_count": 54,
      "outputs": []
    },
    {
      "cell_type": "code",
      "metadata": {
        "id": "Yhd58hmSrTHB"
      },
      "source": [
        "# ADICIONAL DE FERIAS (TRABALHO PRINCIPAL)\n",
        "pnadc.loc[(pnadc[\"VD4009\"]==1) | (pnadc[\"VD4009\"]==3) | (pnadc[\"VD4009\"]==5) | (pnadc[\"VD4009\"]==7),\n",
        "          \"AFERIAS1\"] = (1/3) * (pnadc[\"V403312\"] - pnadc[\"SALFAM1\"]) / 12\n",
        "pnadc.loc[pnadc[\"AFERIAS1\"]<0,\"AFERIAS1\"]=0\n",
        "pnadc.fillna(value={\"AFERIAS1\":0},inplace=True)"
      ],
      "execution_count": 55,
      "outputs": []
    },
    {
      "cell_type": "code",
      "metadata": {
        "id": "RhgaRlWOtoy7"
      },
      "source": [
        "# ADICIONAL DE FERIAS (TRABALHO SECUNDARIO)\n",
        "pnadc.loc[((pnadc[\"V4043\"]==4) & (pnadc[\"V4047\"]==1)) | \\\n",
        "          ((pnadc[\"V4043\"]==4) & (pnadc[\"V4048\"]==1)) | \\\n",
        "          (pnadc[\"V4043\"]==2) | \\\n",
        "          ((pnadc[\"V4043\"]==3) & (pnadc[\"V4048\"]==1)) | \\\n",
        "          ((pnadc[\"V4043\"]==1) & (pnadc[\"V4048\"]==1)),\n",
        "          \"AFERIAS2\"] = (1/3) * (pnadc[\"V405012\"] - pnadc[\"SALFAM2\"]) / 12\n",
        "pnadc.loc[pnadc[\"AFERIAS2\"]<0,\"AFERIAS2\"]=0\n",
        "pnadc.fillna(value={\"AFERIAS2\":0},inplace=True)"
      ],
      "execution_count": 56,
      "outputs": []
    },
    {
      "cell_type": "code",
      "metadata": {
        "id": "HCd7-DHLAHVO"
      },
      "source": [
        "# ADICIONAL DE FERIAS (TRABALHO PRINCIPAL E SECUNDARIO)\n",
        "pnadc[\"AFERIAS\"]=pnadc[\"AFERIAS1\"]+pnadc[\"AFERIAS2\"]"
      ],
      "execution_count": 57,
      "outputs": []
    },
    {
      "cell_type": "code",
      "metadata": {
        "id": "18F6hDNOpw_m"
      },
      "source": [
        "#SIMULACAO DAS CONTRIBUICOES SOCIAIS (PNADC 2019)"
      ],
      "execution_count": 58,
      "outputs": []
    },
    {
      "cell_type": "code",
      "metadata": {
        "id": "Ld5ZOD94qCuv"
      },
      "source": [
        "#1. EMPREGADO E TRABALHADOR AVULSO "
      ],
      "execution_count": 59,
      "outputs": []
    },
    {
      "cell_type": "code",
      "metadata": {
        "id": "zmpc48FrqHg1"
      },
      "source": [
        "#1.1 EMPREGADO E TRABALHADOR AVULSO (TRABALHO PRINCIPAL)\n",
        "pnadc.loc[(pnadc[\"VD4009\"]==1) & \\\n",
        "          ((pnadc[\"V403312\"] - pnadc[\"SALFAM1\"] + pnadc[\"AFERIAS1\"] + pnadc[\"SAL13_1\"]) <=1751.81),\\\n",
        "          \"CONTE1\"] = 0.08 * (pnadc[\"V403312\"] - pnadc[\"SALFAM1\"] + pnadc[\"AFERIAS1\"] + pnadc[\"SAL13_1\"])\n",
        "\n",
        "pnadc.loc[(pnadc[\"VD4009\"]==1) & \\\n",
        "          ((pnadc[\"V403312\"] - pnadc[\"SALFAM1\"] + pnadc[\"AFERIAS1\"] + pnadc[\"SAL13_1\"])> 1751.81) & \\\n",
        "          ((pnadc[\"V403312\"] - pnadc[\"SALFAM1\"] + pnadc[\"AFERIAS1\"] + pnadc[\"SAL13_1\"])<=2919.72), \\\n",
        "          \"CONTE1\"] = 0.09 * (pnadc[\"V403312\"] - pnadc[\"SALFAM1\"] + pnadc[\"AFERIAS1\"] + pnadc[\"SAL13_1\"])\n",
        "\n",
        "pnadc.loc[(pnadc[\"VD4009\"]==1) & \\\n",
        "          ((pnadc[\"V403312\"] - pnadc[\"SALFAM1\"] + pnadc[\"AFERIAS1\"] + pnadc[\"SAL13_1\"])> 2919.72) & \\\n",
        "          ((pnadc[\"V403312\"] - pnadc[\"SALFAM1\"] + pnadc[\"AFERIAS1\"] + pnadc[\"SAL13_1\"])<=5839.45), \\\n",
        "          \"CONTE1\"] = 0.11 * (pnadc[\"V403312\"] - pnadc[\"SALFAM1\"] + pnadc[\"AFERIAS1\"] + pnadc[\"SAL13_1\"])\n",
        "\n",
        "pnadc.loc[(pnadc[\"VD4009\"]==1) & \\\n",
        "          ((pnadc[\"V403312\"] - pnadc[\"SALFAM1\"] + pnadc[\"AFERIAS1\"] + pnadc[\"SAL13_1\"])> 5839.45), \\\n",
        "          \"CONTE1\"] = 0.11 * 5839.45\n",
        "\n",
        "\n",
        "pnadc.fillna(value={\"CONTE1\":0},inplace=True)"
      ],
      "execution_count": 60,
      "outputs": []
    },
    {
      "cell_type": "code",
      "metadata": {
        "id": "ypa05tjEqc3J"
      },
      "source": [
        "#1.2 EMPREGADO E TRABALHADOR AVULSO (TRABALHO SECUNDARIO)\n",
        "pnadc.loc[((pnadc[\"V4043\"]==3) & (pnadc[\"V4048\"]==1)) & \\\n",
        "          ((pnadc[\"V405012\"] - pnadc[\"SALFAM2\"] + pnadc[\"AFERIAS2\"] + pnadc[\"SAL13_2\"])<=1751.81),\n",
        "          \"CONTE2\"] = 0.08 * (pnadc[\"V405012\"] - pnadc[\"SALFAM2\"] + pnadc[\"AFERIAS2\"] + pnadc[\"SAL13_2\"])\n",
        "\n",
        "pnadc.loc[((pnadc[\"V4043\"]==3) & (pnadc[\"V4048\"]==1)) & \\\n",
        "          ((pnadc[\"V405012\"] - pnadc[\"SALFAM2\"] + pnadc[\"AFERIAS2\"] + pnadc[\"SAL13_2\"])> 1751.81) & \\\n",
        "          ((pnadc[\"V405012\"] - pnadc[\"SALFAM2\"] + pnadc[\"AFERIAS2\"] + pnadc[\"SAL13_2\"])<=2919.72), \\\n",
        "          \"CONTE2\"] = 0.09 * (pnadc[\"V405012\"] - pnadc[\"SALFAM2\"] + pnadc[\"AFERIAS2\"] + pnadc[\"SAL13_2\"])\n",
        "\n",
        "pnadc.loc[((pnadc[\"V4043\"]==3) & (pnadc[\"V4048\"]==1)) & \\\n",
        "          ((pnadc[\"V405012\"] - pnadc[\"SALFAM2\"] + pnadc[\"AFERIAS2\"] + pnadc[\"SAL13_2\"])> 2919.72) & \\\n",
        "          ((pnadc[\"V405012\"] - pnadc[\"SALFAM2\"] + pnadc[\"AFERIAS2\"] + pnadc[\"SAL13_2\"])<=5839.45), \\\n",
        "          \"CONTE2\"] = 0.11 * (pnadc[\"V405012\"] - pnadc[\"SALFAM2\"] + pnadc[\"AFERIAS2\"] + pnadc[\"SAL13_2\"])\n",
        "\n",
        "pnadc.loc[((pnadc[\"V4043\"]==3) & (pnadc[\"V4048\"]==1)) & \\\n",
        "          ((pnadc[\"V405012\"] - pnadc[\"SALFAM2\"] + pnadc[\"AFERIAS2\"] + pnadc[\"SAL13_2\"])> 5839.45), \\\n",
        "          \"CONTE2\"] = 0.11 * 5839.45\n",
        "\n",
        "pnadc.fillna(value={\"CONTE2\":0},inplace=True)"
      ],
      "execution_count": 61,
      "outputs": []
    },
    {
      "cell_type": "code",
      "metadata": {
        "id": "5eVFNiWjx71H"
      },
      "source": [
        "#1.3 EMPREGADO E TRABALHADOR AVULSO (TRABALHO PRINCIPAL + SECUNDARIO)\n",
        "pnadc[\"CONTE\"]= pnadc[\"CONTE1\"]+pnadc[\"CONTE2\"]\n",
        "pnadc.fillna(value={\"CONTE\":0},inplace=True)"
      ],
      "execution_count": 62,
      "outputs": []
    },
    {
      "cell_type": "code",
      "metadata": {
        "id": "QHPeXJKqzE03"
      },
      "source": [
        "#2. EMPREGADO DOMESTICO"
      ],
      "execution_count": 63,
      "outputs": []
    },
    {
      "cell_type": "code",
      "metadata": {
        "id": "ENXNMXpWzGMN"
      },
      "source": [
        "#2.1 EMPREGADO DOMESTICO (TRABALHO PRINCIPAL)\n",
        "pnadc.loc[(pnadc[\"VD4009\"]==3) & ((pnadc[\"V403312\"] + pnadc[\"AFERIAS1\"] + pnadc[\"SAL13_1\"])<=1751.81), \\\n",
        "          \"CONTED1\"] = 0.08 * (pnadc[\"V403312\"] + pnadc[\"AFERIAS1\"] + pnadc[\"SAL13_1\"])\n",
        "\n",
        "pnadc.loc[(pnadc[\"VD4009\"]==3) & ((pnadc[\"V403312\"] + pnadc[\"AFERIAS1\"] + pnadc[\"SAL13_1\"])>1751.81) & \\\n",
        "          ((pnadc[\"V403312\"] + pnadc[\"AFERIAS1\"] + pnadc[\"SAL13_1\"])<=2919.72), \\\n",
        "          \"CONTED1\"] = 0.09 * (pnadc[\"V403312\"] + pnadc[\"AFERIAS1\"] + pnadc[\"SAL13_1\"])\n",
        "\n",
        "pnadc.loc[(pnadc[\"VD4009\"]==3) & ((pnadc[\"V403312\"] + pnadc[\"AFERIAS1\"] + pnadc[\"SAL13_1\"])>2919.72) & \\\n",
        "          ((pnadc[\"V403312\"] + pnadc[\"AFERIAS1\"] + pnadc[\"SAL13_1\"])<=5839.45), \\\n",
        "          \"CONTED1\"] = 0.11 *  (pnadc[\"V403312\"] + pnadc[\"AFERIAS1\"] + pnadc[\"SAL13_1\"])\n",
        "\n",
        "pnadc.loc[(pnadc[\"VD4009\"]==3) & ((pnadc[\"V403312\"] + pnadc[\"AFERIAS1\"] + pnadc[\"SAL13_1\"])>5839.45), \\\n",
        "          \"CONTED1\"] = 0.11 * 5839.45 \n",
        "\n",
        "pnadc.fillna(value={\"CONTED1\":0},inplace=True)"
      ],
      "execution_count": 64,
      "outputs": []
    },
    {
      "cell_type": "code",
      "metadata": {
        "id": "7Ee-4Jip1Pek"
      },
      "source": [
        "#2.2 EMPREGADO DOMESTICO (TRABALHO SECUNDARIO)\n",
        "pnadc.loc[((pnadc[\"V4043\"]==1) & (pnadc[\"V4048\"]==1)) & \\\n",
        "          ((pnadc[\"V405012\"] + pnadc[\"AFERIAS2\"] + pnadc[\"SAL13_2\"])<=1751.81), \\\n",
        "          \"CONTED2\"] = 0.08 * (pnadc[\"V405012\"] + pnadc[\"AFERIAS2\"] + pnadc[\"SAL13_2\"])\n",
        "\n",
        "pnadc.loc[((pnadc[\"V4043\"]==1) & (pnadc[\"V4048\"]==1)) & \\\n",
        "          ((pnadc[\"V405012\"] + pnadc[\"AFERIAS2\"] + pnadc[\"SAL13_2\"])>1751.81) & \\\n",
        "          ((pnadc[\"V405012\"] + pnadc[\"AFERIAS2\"])<=2919.72), \\\n",
        "          \"CONTED2\"] = 0.09 * (pnadc[\"V405012\"] + pnadc[\"AFERIAS2\"] + pnadc[\"SAL13_2\"])\n",
        "\n",
        "pnadc.loc[((pnadc[\"V4043\"]==1) & (pnadc[\"V4048\"]==1)) & \\\n",
        "          ((pnadc[\"V405012\"] + pnadc[\"AFERIAS2\"] + pnadc[\"SAL13_2\"])>2919.72) & \\\n",
        "          ((pnadc[\"V405012\"] + pnadc[\"AFERIAS2\"])<=5839.45), \\\n",
        "          \"CONTED2\"] = 0.11 * (pnadc[\"V405012\"] + pnadc[\"AFERIAS2\"] + pnadc[\"SAL13_2\"])\n",
        "\n",
        "pnadc.loc[((pnadc[\"V4043\"]==1) & (pnadc[\"V4048\"]==1)) & \\\n",
        "          ((pnadc[\"V405012\"] + pnadc[\"AFERIAS2\"] + pnadc[\"SAL13_2\"])>5839.45), \\\n",
        "          \"CONTED2\"] = 0.11 * 5839.45\n",
        "\n",
        "pnadc.fillna(value={\"CONTED2\":0},inplace=True)"
      ],
      "execution_count": 65,
      "outputs": []
    },
    {
      "cell_type": "code",
      "metadata": {
        "id": "gXWXXoYa1nmJ"
      },
      "source": [
        "#2.3 EMPREGADO DOMESTICO (TRABALHO PRINCIPAL + SECUNDARIO)\n",
        "pnadc[\"CONTED\"]= pnadc[\"CONTED1\"]+pnadc[\"CONTED2\"]\n",
        "pnadc.fillna(value={\"CONTED\":0},inplace=True)"
      ],
      "execution_count": 66,
      "outputs": []
    },
    {
      "cell_type": "code",
      "metadata": {
        "id": "pa1Vvg3a3Z32"
      },
      "source": [
        "#4. SERVIDOR PUBLICO ESTATUTARIO FEDERAL"
      ],
      "execution_count": 67,
      "outputs": []
    },
    {
      "cell_type": "code",
      "metadata": {
        "id": "NaUO7NxB3dAA"
      },
      "source": [
        "#4.1 SERVIDOR PUBLICO ESTATUTARIO FEDERAL (TRABALHO PRINCIPAL)\n",
        "pnadc.loc[(pnadc[\"V4012\"]==4) & (pnadc[\"V4028\"]==1) & (pnadc[\"V4014\"]==1), \\\n",
        "          \"CONTFED1\"] = 0.11 * (pnadc[\"V403312\"] + pnadc[\"AFERIAS1\"] + pnadc[\"SAL13_1\"])\n",
        "          \n",
        "pnadc.fillna(value={\"CONTFED1\":0},inplace=True)"
      ],
      "execution_count": 68,
      "outputs": []
    },
    {
      "cell_type": "code",
      "metadata": {
        "id": "ZWZ92fA8389o"
      },
      "source": [
        "#4.2 SERVIDOR PUBLICO ESTATUTARIO FEDERAL (TRABALHO SECUNDARIO)\n",
        "pnadc.loc[(pnadc[\"V4043\"]==4) & (pnadc[\"V4047\"]==1) & (pnadc[\"V4045\"]==1), \\\n",
        "          \"CONTFED2\"] = 0.11 * (pnadc[\"V405012\"] + pnadc[\"AFERIAS2\"] + pnadc[\"SAL13_2\"])\n",
        "\n",
        "pnadc.fillna(value={\"CONTFED2\":0},inplace=True)"
      ],
      "execution_count": 69,
      "outputs": []
    },
    {
      "cell_type": "code",
      "metadata": {
        "id": "HMCtWpp_4e0b"
      },
      "source": [
        "#4.3 SERVIDOR PÚBLICO ESTATUTARIO FEDERAL (TRABALHO PRINCIPAL + SECUNDARIO)\n",
        "pnadc[\"CONTFED\"]= pnadc[\"CONTFED1\"] + pnadc[\"CONTFED2\"]\n",
        "pnadc.fillna(value={\"CONTFED\":0},inplace=True)"
      ],
      "execution_count": 70,
      "outputs": []
    },
    {
      "cell_type": "code",
      "metadata": {
        "id": "B0Y_dxJaiQ7N"
      },
      "source": [
        "#Utilizando os pesos, calculamos a contribuição total de cada grupo"
      ],
      "execution_count": 71,
      "outputs": []
    },
    {
      "cell_type": "code",
      "metadata": {
        "colab": {
          "base_uri": "https://localhost:8080/"
        },
        "id": "6DMN9QxcgU9n",
        "outputId": "3e78dcec-8bab-4d61-b3f0-d1e659fffc43"
      },
      "source": [
        "#Valor total de contribuição - EMPREGADO E TRABALHADOR AVULSO (TRABALHO PRINCIPAL)\n",
        "(pnadc[\"CONTE1\"]*pnadc[\"V1032\"]).sum()"
      ],
      "execution_count": 72,
      "outputs": [
        {
          "output_type": "execute_result",
          "data": {
            "text/plain": [
              "6551350224.778093"
            ]
          },
          "metadata": {},
          "execution_count": 72
        }
      ]
    },
    {
      "cell_type": "code",
      "metadata": {
        "colab": {
          "base_uri": "https://localhost:8080/"
        },
        "id": "x3wCnZCTh4tS",
        "outputId": "e2912b84-b362-4308-f2ff-12a1f0de6102"
      },
      "source": [
        "#Valor total de contribuição - EMPREGADO E TRABALHADOR AVULSO (TRABALHO SECUNDARIO)\n",
        "(pnadc[\"CONTE2\"]*pnadc[\"V1032\"]).sum()"
      ],
      "execution_count": 73,
      "outputs": [
        {
          "output_type": "execute_result",
          "data": {
            "text/plain": [
              "27107325.367364153"
            ]
          },
          "metadata": {},
          "execution_count": 73
        }
      ]
    },
    {
      "cell_type": "code",
      "metadata": {
        "colab": {
          "base_uri": "https://localhost:8080/"
        },
        "id": "NvvEVOO5iA15",
        "outputId": "94430531-9953-4515-fd3d-a819382d23c0"
      },
      "source": [
        "#Valor total de contribuição - EMPREGADO DOMESTICO (TRABALHO PRINCIPAL)\n",
        "(pnadc[\"CONTED1\"]*pnadc[\"V1032\"]).sum()"
      ],
      "execution_count": 74,
      "outputs": [
        {
          "output_type": "execute_result",
          "data": {
            "text/plain": [
              "209835406.64377117"
            ]
          },
          "metadata": {},
          "execution_count": 74
        }
      ]
    },
    {
      "cell_type": "code",
      "metadata": {
        "colab": {
          "base_uri": "https://localhost:8080/"
        },
        "id": "UM5pNEbgiJ4v",
        "outputId": "6898f931-f4e0-46bb-cde1-d28f7d9b2dad"
      },
      "source": [
        "#Valor total de contribuição - EMPREGADO DOMESTICO (TRABALHO SECUNDARIO)\n",
        "(pnadc[\"CONTED2\"]*pnadc[\"V1032\"]).sum()"
      ],
      "execution_count": 75,
      "outputs": [
        {
          "output_type": "execute_result",
          "data": {
            "text/plain": [
              "1414086.7316205062"
            ]
          },
          "metadata": {},
          "execution_count": 75
        }
      ]
    },
    {
      "cell_type": "code",
      "metadata": {
        "colab": {
          "base_uri": "https://localhost:8080/"
        },
        "id": "exNd32xIiMKQ",
        "outputId": "d067e117-2314-4295-dfcf-10418ae9be16"
      },
      "source": [
        "#Valor total de contribuição - SERVIDOR PUBLICO ESTATUTARIO FEDERAL (TRABALHO PRINCIPAL)\n",
        "(pnadc[\"CONTFED1\"]*pnadc[\"V1032\"]).sum()"
      ],
      "execution_count": 76,
      "outputs": [
        {
          "output_type": "execute_result",
          "data": {
            "text/plain": [
              "887372499.8576343"
            ]
          },
          "metadata": {},
          "execution_count": 76
        }
      ]
    },
    {
      "cell_type": "code",
      "metadata": {
        "colab": {
          "base_uri": "https://localhost:8080/"
        },
        "id": "iUvYf0TFjIgi",
        "outputId": "1d621960-3f5b-4e77-f9e7-294b59cfca5f"
      },
      "source": [
        "#Valor total de contribuição - SERVIDOR PUBLICO ESTATUTARIO FEDERAL (TRABALHO SECUNDARIO)\n",
        "(pnadc[\"CONTFED2\"]*pnadc[\"V1032\"]).sum()"
      ],
      "execution_count": 77,
      "outputs": [
        {
          "output_type": "execute_result",
          "data": {
            "text/plain": [
              "1145959.1184278475"
            ]
          },
          "metadata": {},
          "execution_count": 77
        }
      ]
    },
    {
      "cell_type": "code",
      "metadata": {
        "id": "pzU-J1RplQoO"
      },
      "source": [
        "pnadc.to_csv(\"/content/drive/MyDrive/Microsimulação/PNADC_2019_S_C.csv\",sep=\";\",date_format=float,decimal=\".\")"
      ],
      "execution_count": 78,
      "outputs": []
    },
    {
      "cell_type": "code",
      "metadata": {
        "id": "G0rVcHnElYn-"
      },
      "source": [
        ""
      ],
      "execution_count": null,
      "outputs": []
    }
  ]
}
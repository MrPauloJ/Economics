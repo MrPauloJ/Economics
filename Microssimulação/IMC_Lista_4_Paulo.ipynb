{
  "nbformat": 4,
  "nbformat_minor": 0,
  "metadata": {
    "colab": {
      "name": "Lista4_IMC.ipynb",
      "provenance": [],
      "collapsed_sections": []
    },
    "kernelspec": {
      "name": "python3",
      "display_name": "Python 3"
    },
    "language_info": {
      "name": "python"
    }
  },
  "cells": [
    {
      "cell_type": "code",
      "metadata": {
        "id": "j39LqaKJKm3i"
      },
      "source": [
        "#Universidade Federal de Pernambuco\n",
        "#Disciplina: Introdução a Microssimulação\n",
        "#Professor: Jose Ricardo Nogueira\n",
        "#Aluno: Paulo Francisco da Silva Junior"
      ],
      "execution_count": null,
      "outputs": []
    },
    {
      "cell_type": "code",
      "metadata": {
        "id": "np3RKMTXVAF9"
      },
      "source": [
        "#Importando biblioteca\n",
        "import pandas as pd"
      ],
      "execution_count": null,
      "outputs": []
    },
    {
      "cell_type": "markdown",
      "metadata": {
        "id": "np3RKMTXVAF9"
      },
      "source": [
        "Calculo da renda individual e domiciliar com base nas regras legais de 2019"
      ],
      "execution_count": null,
      "outputs": []
    },
    {
      "cell_type": "code",
      "metadata": {
        "id": "ZhjOt8TPyRnd"
      },
      "source": [
        "#Caso queira substituir\n",
        "\n",
        "#Organizando dataframe\n",
        "pnad[\"UF\"]=pnad[\"UF\"].replace({\n",
        "    11:\"Rondônia\",\n",
        "    12:\"Acre\",\n",
        "    13:\"Amazonas\",\n",
        "    14:\"Roraima\",\n",
        "    15:\"Pará\",\n",
        "    16:\"Amapá\",\n",
        "    17:\"Tocantins\",\n",
        "    21:\"Maranhão\",\n",
        "    22:\"Piauí\",\n",
        "    23:\"Ceará\",\n",
        "    24:\"Rio Grande do Norte\",\n",
        "    25:\"Paraíba\",\n",
        "    26:\"Pernambuco\",\n",
        "    27:\"Alagoas\",\n",
        "    28:\"Sergipe\",\n",
        "    29:\"Bahia\",\n",
        "    31:\"Minas Gerais\",\n",
        "    32:\"Espírito Santo\",\n",
        "    33:\"Rio de Janeiro\",\n",
        "    35:\"São Paulo\",\n",
        "    41:\"Paraná\",\n",
        "    42:\"Santa Catarina\",\n",
        "    43:\"Rio Grande do Sul\",\n",
        "    50:\"Mato Grosso do Sul\",\n",
        "    51:\"Mato Grosso\",\n",
        "    52:\"Goiás\",\n",
        "    53:\"Distrito Federal\"})\n",
        "\n",
        "pnad[\"V1022\"]=pnad[\"V1022\"].replace({1:\"Urbana\",2:\"Rural\"})\n",
        "\n",
        "pnad[\"V2007\"]=pnad[\"V2007\"].replace({1:\"Homem\",2:\"Mulher\"})\n",
        "\n",
        "pnad[\"V3002\"]=pnad[\"V3002\"].replace({1:\"Sim\", 2:\"Não\"})\n",
        "pnad[\"V3002A\"]=pnad[\"V3002A\"].replace({1:\"Rede privada\", 2:\"Rede pública\"})\n",
        "\n",
        "pnad[\"V3003A\"]=pnad[\"V3003A\"].replace({\n",
        "2:\"Pré-escola\",\n",
        "3:\"Alfabetização de jovens e adultos\",\n",
        "4:\"Regular do ensino fundamental \",\n",
        "5:\"Educação de jovens e adultos (EJA) do ensino fundamental\",\n",
        "6:\"Regular do ensino médio \",\n",
        "7:\"Educação de jovens e adultos (EJA) do ensino médio\",\n",
        "8:\"Superior - graduação\",\n",
        "9:\"Especialização de nível superior\",\n",
        "10:\"Mestrado\",\n",
        "11:\"Doutorado\"\n",
        "})\n",
        "\n",
        "pnad[\"V3009A\"]=pnad[\"V3009A\"].replace({\n",
        "2:\"Pré-escola\",\n",
        "3:\"Classe de alfabetização - CA\",\n",
        "4:\"Alfabetização de jovens e adultos\",\n",
        "5:\"Antigo primário (elementar)\",\n",
        "6:\"Antigo ginásio (médio 1º ciclo)\",\n",
        "7:\"Regular do ensino fundamental ou do 1º grau\",\n",
        "8:\"Educação de jovens e adultos (EJA) ou supletivo do 1º grau\",\n",
        "9:\"Antigo científico, clássico, etc. (médio 2º ciclo)\",\n",
        "10:\"Regular do ensino médio ou do 2º grau\",\n",
        "11:\"Educação de jovens e adultos (EJA) ou supletivo do 2º grau\",\n",
        "12:\"Superior - graduação\",\n",
        "13:\"Especialização de nível superior\",\n",
        "14:\"Mestrado\",\n",
        "15:\"Doutorado\"\n",
        "})\n",
        "\n",
        "pnad[\"V3014\"]=pnad[\"V3014\"].replace({\n",
        "1:\"Sim\",\n",
        "2:\"Não \"\n",
        "})\n",
        "\n",
        "pnad[\"V4009\"]=pnad[\"V4009\"].replace({\n",
        "1:\"Um \",\n",
        "2:\"Dois\",\n",
        "3:\"Três ou mais\",\n",
        "})\n",
        "\n",
        "pnad[\"V4012\"]=pnad[\"V4012\"].replace({\n",
        "1:\"Trabalhador doméstico\",\n",
        "2:\"Militar do exército, da marinha, da aeronáutica, da polícia militar ou do corpo de bombeiros militar\",\n",
        "3:\"Empregado do setor privado\",\n",
        "4:\"Empregado do setor público (inclusive empresas de economia mista)\",\n",
        "5:\"Empregador\",\n",
        "6:\"Conta própria\",\n",
        "7:\"Trabalhador familiar não remunerado\"\n",
        "})\n",
        "\n",
        "pnad[\"V4014\"]=pnad[\"V4014\"].replace({\n",
        "1:\"Federal\",\n",
        "2:\"Estadual\",\n",
        "3:\"Municipal\"\n",
        "})\n",
        "\n",
        "pnad[\"V4028\"]=pnad[\"V4028\"].replace({\n",
        "1:\"Sim\",\n",
        "2:\"Não\"})\n",
        "\n",
        "pnad[\"V4032\"]=pnad[\"V4032\"].replace({\n",
        "1:\"Sim\",\n",
        "2:\"Não\"})\n",
        "\n",
        "pnad[\"V4043\"]=pnad[\"V4043\"].replace({\n",
        "1:\"Trabalhador doméstico\",\n",
        "2:\"Militar do exército, da marinha, da aeronáutica, da polícia militar ou do corpo de bombeiros militar\",\n",
        "3:\"Empregado do setor privado\",\n",
        "4:\"Empregado do setor público (inclusive empresas de economia mista)\",\n",
        "5:\"Empregador\",\n",
        "6:\"Conta própria\",\n",
        "7:\"Trabalhador não remunerado em ajuda a membro do domicílio ou parente\"})\n",
        "\n",
        "pnad[\"V4045\"]=pnad[\"V4045\"].replace({\n",
        "1:\"Federal\",\n",
        "2:\"Estadual\",\n",
        "3:\"Municipal\"\n",
        "})\n",
        "\n",
        "pnad[\"V4047\"]=pnad[\"V4047\"].replace({\n",
        "1:\"Sim\",\n",
        "2:\"Não\"\n",
        "})\n",
        "\n",
        "pnad[\"V4048\"]=pnad[\"V4048\"].replace({\n",
        "1:\"Sim\",\n",
        "2:\"Não\"\n",
        "})\n",
        "\n",
        "pnad[\"V4049\"]=pnad[\"V4049\"].replace({\n",
        "1:\"Sim\",\n",
        "2:\"Não\"\n",
        "})\n",
        "\n",
        "pnad[\"V4057\"]=pnad[\"V4057\"].replace({\n",
        "1:\"Sim\",\n",
        "2:\"Não\"\n",
        "})\n",
        "\n",
        "pnad[\"V4076\"]=pnad[\"V4076\"].replace({\n",
        "1:\"Menos de 1 mês \",\n",
        "2:\"De 1 mês a menos de 1 ano\",\n",
        "3:\"De 1 ano a menos de 2 anos\",\n",
        "4:\"2 anos ou mais\"\n",
        "})\n",
        "\n",
        "pnad[\"VD4002\"]=pnad[\"VD4002\"].replace({\n",
        "1:\"Pessoas ocupadas\",\n",
        "2:\"Pessoas desocupadas\"\n",
        "})\n",
        "\n",
        "pnad[\"VD4009\"]=pnad[\"VD4009\"].replace({\n",
        "1:\"Empregado no setor privado com carteira de trabalho assinada\",\n",
        "2:\"Empregado no setor privado sem carteira de trabalho assinada\",\n",
        "3:\"Trabalhador doméstico com carteira de trabalho assinada\",\n",
        "4:\"Trabalhador doméstico sem carteira de trabalho assinada\",\n",
        "5:\"Empregado no setor público com carteira de trabalho assinada\",\n",
        "6:\"Empregado no setor público sem carteira de trabalho assinada\",\n",
        "7:\"Militar e servidor estatutário\",\n",
        "8:\"Empregador\",\n",
        "9:\"Conta-própria\",\n",
        "10:\"Trabalhador familiar auxiliar\"})"
      ],
      "execution_count": null,
      "outputs": []
    },
    {
      "cell_type": "code",
      "metadata": {
        "id": "295s6MW-9fr_"
      },
      "source": [
        "#Importando banco\n",
        "pnad=pd.read_csv(\"/content/drive/MyDrive/Microsimulação/Listas/PNADC_2019_visita 5.csv\",sep=\";\",decimal=\",\",na_values=\" \",dtype=float)"
      ],
      "execution_count": null,
      "outputs": []
    },
    {
      "cell_type": "code",
      "metadata": {
        "id": "EPMxxzfyKJQZ"
      },
      "source": [
        "#Alterando missings (na) para 0\n",
        "pnad.fillna(0,inplace=True)"
      ],
      "execution_count": null,
      "outputs": []
    },
    {
      "cell_type": "code",
      "metadata": {
        "id": "ipUz0-i0H1I3"
      },
      "source": [
        "#Criando Chave para Domicílio\n",
        "pnad[\"Chave_D\"]=pnad[\"UPA\"].asType(str)+pnad[\"V1008\"].asType(str)+pnad[\"V1014\"].asType(str)\n",
        "\n",
        "#Criando Chave para Indivíduo\n",
        "pnad[\"Chave_I\"]=pnad[\"UPA\"].asType(str)+pnad[\"V1008\"].asType(str)+pnad[\"V1014\"].asType(str)+pnad[\"V2003\"].asType(str)"
      ],
      "execution_count": null,
      "outputs": []
    },
    {
      "cell_type": "code",
      "metadata": {
        "id": "fomB3t9FFIkr"
      },
      "source": [
        "#AJUSTANDO AS RENDAS\n",
        "#Salário Mínimo(2019)= 998,00\n",
        "pnad.loc[pnad[\"V5004A2\"]<998,\"V5004A2\"] = 998\n",
        "pnad.loc[pnad[\"V403312\"]<998 & ((\"VD4009\"==1) | (\"VD4009\"==3) | (\"VD4009\"==5) | (\"VD4009\"==7)),\"V403312\"]=998\n",
        "pnad.loc[pnad[\"V405012\"]<998 & ((\"V4043\"==1) & (\"V4048\"==1)) \\\n",
        "         | (\"V4043\"==2) \\\n",
        "         | ((\"V4043\"==3) & (\"V4048\"==1)) \\\n",
        "         | ((\"V4043\"==4) & ((\"V4047\"==1) \\\n",
        "         | (\"V4048\"==1))),\"V405012\"]=998"
      ],
      "execution_count": null,
      "outputs": []
    },
    {
      "cell_type": "code",
      "metadata": {
        "id": "ne_5AQVSTTAz"
      },
      "source": [
        "#RENDAS DIVERSAS (EXCLUSIVE RENDA MENSAL EM PRODUTOS E MERCADORIAS)\n",
        "pnad[\"RDIV\"] = pnad[\"VD4047\"]-pnad[\"V5001A2\"]-pnad[\"V5002A2\"]-pnad[\"V5003A2\"]"
      ],
      "execution_count": null,
      "outputs": []
    },
    {
      "cell_type": "code",
      "metadata": {
        "id": "ErIr-QNo9whs"
      },
      "source": [
        "#RENDA INDIVIDUAL (EXCLUSIVE RENDA MENSAL EM PRODUTOS E MERCADORIAS)\n",
        "pnad[\"RI\"] = pnad[\"V403312\"]+\\\n",
        "             pnad[\"V405012\"]+\\\n",
        "             pnad[\"V405812\"]+\\\n",
        "             pnad[\"V5001A2\"]+\\\n",
        "             pnad[\"V5002A2\"]+\\\n",
        "             pnad[\"V5003A2\"]+\\\n",
        "             pnad[\"V5004A2\"]+\\\n",
        "             pnad[\"V5006A2\"]+\\\n",
        "             pnad[\"V5007A2\"]+\\\n",
        "             pnad[\"VD4047\"]"
      ],
      "execution_count": null,
      "outputs": []
    },
    {
      "cell_type": "code",
      "metadata": {
        "id": "nJRMqlM_L9yC"
      },
      "source": [
        "#Realocando Quantidade de pessoas escolhidas do dimicilio\n",
        "pnad.loc[pnad[\"V2005\"]>=17,\"V2005_B\"]=0\n",
        "pnad.loc[pnad[\"V2005\"]<17,\"V2005_B\"]=1"
      ],
      "execution_count": null,
      "outputs": []
    },
    {
      "cell_type": "code",
      "metadata": {
        "colab": {
          "base_uri": "https://localhost:8080/"
        },
        "id": "gfIFs-Blbwa8",
        "outputId": "c8f4606b-47c7-40ae-caac-251e408a5be6"
      },
      "source": [
        "#Juntando e renomeando tabelas\n",
        "pnad=pnad.join(pnad.groupby('CHAVE.D')[\"RI\",\"V2005_B\"].sum(), on='CHAVE.D',rsuffix=\"_post\")\n",
        "pnad.rename(columns={\"RI_post\":\"RD\", \"V2005_B_post\":\"NUM_DOM\"},inplace=True)"
      ],
      "execution_count": null,
      "outputs": [
        {
          "output_type": "stream",
          "name": "stderr",
          "text": [
            "/usr/local/lib/python3.7/dist-packages/ipykernel_launcher.py:2: FutureWarning: Indexing with multiple keys (implicitly converted to a tuple of keys) will be deprecated, use a list instead.\n",
            "  \n"
          ]
        }
      ]
    },
    {
      "cell_type": "code",
      "metadata": {
        "colab": {
          "base_uri": "https://localhost:8080/",
          "height": 417
        },
        "id": "M6PTSlm-M2GR",
        "outputId": "02aab0a4-d03f-47b4-cca8-b2d3f2d0dbd7"
      },
      "source": [
        "#Printando todas as pessoas do domicilio e sua renda\n",
        "pnad[[\"CHAVE.D\",\"RI\",\"RD\",\"NUM_DOM\"]]"
      ],
      "execution_count": null,
      "outputs": [
        {
          "output_type": "execute_result",
          "data": {
            "text/html": [
              "<div>\n",
              "<style scoped>\n",
              "    .dataframe tbody tr th:only-of-type {\n",
              "        vertical-align: middle;\n",
              "    }\n",
              "\n",
              "    .dataframe tbody tr th {\n",
              "        vertical-align: top;\n",
              "    }\n",
              "\n",
              "    .dataframe thead th {\n",
              "        text-align: right;\n",
              "    }\n",
              "</style>\n",
              "<table border=\"1\" class=\"dataframe\">\n",
              "  <thead>\n",
              "    <tr style=\"text-align: right;\">\n",
              "      <th></th>\n",
              "      <th>CHAVE.D</th>\n",
              "      <th>RI</th>\n",
              "      <th>RD</th>\n",
              "      <th>NUM_DOM</th>\n",
              "    </tr>\n",
              "  </thead>\n",
              "  <tbody>\n",
              "    <tr>\n",
              "      <th>0</th>\n",
              "      <td>1100000340107</td>\n",
              "      <td>998</td>\n",
              "      <td>4974</td>\n",
              "      <td>3.0</td>\n",
              "    </tr>\n",
              "    <tr>\n",
              "      <th>1</th>\n",
              "      <td>1100000340107</td>\n",
              "      <td>2978</td>\n",
              "      <td>4974</td>\n",
              "      <td>3.0</td>\n",
              "    </tr>\n",
              "    <tr>\n",
              "      <th>2</th>\n",
              "      <td>1100000340107</td>\n",
              "      <td>998</td>\n",
              "      <td>4974</td>\n",
              "      <td>3.0</td>\n",
              "    </tr>\n",
              "    <tr>\n",
              "      <th>3</th>\n",
              "      <td>1100000340207</td>\n",
              "      <td>2498</td>\n",
              "      <td>7496</td>\n",
              "      <td>2.0</td>\n",
              "    </tr>\n",
              "    <tr>\n",
              "      <th>4</th>\n",
              "      <td>1100000340207</td>\n",
              "      <td>4998</td>\n",
              "      <td>7496</td>\n",
              "      <td>2.0</td>\n",
              "    </tr>\n",
              "    <tr>\n",
              "      <th>...</th>\n",
              "      <td>...</td>\n",
              "      <td>...</td>\n",
              "      <td>...</td>\n",
              "      <td>...</td>\n",
              "    </tr>\n",
              "    <tr>\n",
              "      <th>433530</th>\n",
              "      <td>5300501501207</td>\n",
              "      <td>10998</td>\n",
              "      <td>10998</td>\n",
              "      <td>1.0</td>\n",
              "    </tr>\n",
              "    <tr>\n",
              "      <th>433531</th>\n",
              "      <td>5300501501307</td>\n",
              "      <td>7998</td>\n",
              "      <td>7998</td>\n",
              "      <td>1.0</td>\n",
              "    </tr>\n",
              "    <tr>\n",
              "      <th>433532</th>\n",
              "      <td>5300501501407</td>\n",
              "      <td>26998</td>\n",
              "      <td>53994</td>\n",
              "      <td>3.0</td>\n",
              "    </tr>\n",
              "    <tr>\n",
              "      <th>433533</th>\n",
              "      <td>5300501501407</td>\n",
              "      <td>25998</td>\n",
              "      <td>53994</td>\n",
              "      <td>3.0</td>\n",
              "    </tr>\n",
              "    <tr>\n",
              "      <th>433534</th>\n",
              "      <td>5300501501407</td>\n",
              "      <td>998</td>\n",
              "      <td>53994</td>\n",
              "      <td>3.0</td>\n",
              "    </tr>\n",
              "  </tbody>\n",
              "</table>\n",
              "<p>433535 rows × 4 columns</p>\n",
              "</div>"
            ],
            "text/plain": [
              "              CHAVE.D     RI     RD  NUM_DOM\n",
              "0       1100000340107    998   4974      3.0\n",
              "1       1100000340107   2978   4974      3.0\n",
              "2       1100000340107    998   4974      3.0\n",
              "3       1100000340207   2498   7496      2.0\n",
              "4       1100000340207   4998   7496      2.0\n",
              "...               ...    ...    ...      ...\n",
              "433530  5300501501207  10998  10998      1.0\n",
              "433531  5300501501307   7998   7998      1.0\n",
              "433532  5300501501407  26998  53994      3.0\n",
              "433533  5300501501407  25998  53994      3.0\n",
              "433534  5300501501407    998  53994      3.0\n",
              "\n",
              "[433535 rows x 4 columns]"
            ]
          },
          "metadata": {},
          "execution_count": 44
        }
      ]
    },
    {
      "cell_type": "code",
      "metadata": {
        "colab": {
          "base_uri": "https://localhost:8080/",
          "height": 417
        },
        "id": "gS9mcmD2EVYJ",
        "outputId": "4951bcb9-eb13-439e-c1d1-93957abd2c8d"
      },
      "source": [
        "#Printando apenas o responsavel do domicilio\n",
        "pnad.drop(pnad.loc[(pnad[\"V2005\"]!=1)].index)[[\"CHAVE.D\",\"RI\",\"RD\",\"NUM_DOM\"]]"
      ],
      "execution_count": null,
      "outputs": [
        {
          "output_type": "execute_result",
          "data": {
            "text/html": [
              "<div>\n",
              "<style scoped>\n",
              "    .dataframe tbody tr th:only-of-type {\n",
              "        vertical-align: middle;\n",
              "    }\n",
              "\n",
              "    .dataframe tbody tr th {\n",
              "        vertical-align: top;\n",
              "    }\n",
              "\n",
              "    .dataframe thead th {\n",
              "        text-align: right;\n",
              "    }\n",
              "</style>\n",
              "<table border=\"1\" class=\"dataframe\">\n",
              "  <thead>\n",
              "    <tr style=\"text-align: right;\">\n",
              "      <th></th>\n",
              "      <th>CHAVE.D</th>\n",
              "      <th>RI</th>\n",
              "      <th>RD</th>\n",
              "      <th>NUM_DOM</th>\n",
              "    </tr>\n",
              "  </thead>\n",
              "  <tbody>\n",
              "    <tr>\n",
              "      <th>0</th>\n",
              "      <td>1100000340107</td>\n",
              "      <td>998</td>\n",
              "      <td>4974</td>\n",
              "      <td>3.0</td>\n",
              "    </tr>\n",
              "    <tr>\n",
              "      <th>3</th>\n",
              "      <td>1100000340207</td>\n",
              "      <td>2498</td>\n",
              "      <td>7496</td>\n",
              "      <td>2.0</td>\n",
              "    </tr>\n",
              "    <tr>\n",
              "      <th>5</th>\n",
              "      <td>1100000340407</td>\n",
              "      <td>8198</td>\n",
              "      <td>8198</td>\n",
              "      <td>1.0</td>\n",
              "    </tr>\n",
              "    <tr>\n",
              "      <th>6</th>\n",
              "      <td>1100000340507</td>\n",
              "      <td>17000</td>\n",
              "      <td>19994</td>\n",
              "      <td>4.0</td>\n",
              "    </tr>\n",
              "    <tr>\n",
              "      <th>10</th>\n",
              "      <td>1100000340707</td>\n",
              "      <td>4998</td>\n",
              "      <td>4998</td>\n",
              "      <td>1.0</td>\n",
              "    </tr>\n",
              "    <tr>\n",
              "      <th>...</th>\n",
              "      <td>...</td>\n",
              "      <td>...</td>\n",
              "      <td>...</td>\n",
              "      <td>...</td>\n",
              "    </tr>\n",
              "    <tr>\n",
              "      <th>433524</th>\n",
              "      <td>5300501501007</td>\n",
              "      <td>37998</td>\n",
              "      <td>44992</td>\n",
              "      <td>4.0</td>\n",
              "    </tr>\n",
              "    <tr>\n",
              "      <th>433528</th>\n",
              "      <td>5300501501107</td>\n",
              "      <td>6998</td>\n",
              "      <td>10496</td>\n",
              "      <td>2.0</td>\n",
              "    </tr>\n",
              "    <tr>\n",
              "      <th>433530</th>\n",
              "      <td>5300501501207</td>\n",
              "      <td>10998</td>\n",
              "      <td>10998</td>\n",
              "      <td>1.0</td>\n",
              "    </tr>\n",
              "    <tr>\n",
              "      <th>433531</th>\n",
              "      <td>5300501501307</td>\n",
              "      <td>7998</td>\n",
              "      <td>7998</td>\n",
              "      <td>1.0</td>\n",
              "    </tr>\n",
              "    <tr>\n",
              "      <th>433532</th>\n",
              "      <td>5300501501407</td>\n",
              "      <td>26998</td>\n",
              "      <td>53994</td>\n",
              "      <td>3.0</td>\n",
              "    </tr>\n",
              "  </tbody>\n",
              "</table>\n",
              "<p>147861 rows × 4 columns</p>\n",
              "</div>"
            ],
            "text/plain": [
              "              CHAVE.D     RI     RD  NUM_DOM\n",
              "0       1100000340107    998   4974      3.0\n",
              "3       1100000340207   2498   7496      2.0\n",
              "5       1100000340407   8198   8198      1.0\n",
              "6       1100000340507  17000  19994      4.0\n",
              "10      1100000340707   4998   4998      1.0\n",
              "...               ...    ...    ...      ...\n",
              "433524  5300501501007  37998  44992      4.0\n",
              "433528  5300501501107   6998  10496      2.0\n",
              "433530  5300501501207  10998  10998      1.0\n",
              "433531  5300501501307   7998   7998      1.0\n",
              "433532  5300501501407  26998  53994      3.0\n",
              "\n",
              "[147861 rows x 4 columns]"
            ]
          },
          "metadata": {},
          "execution_count": 48
        }
      ]
    },
    {
      "cell_type": "code",
      "metadata": {
        "id": "0PtdMgNBJnpI"
      },
      "source": [
        ""
      ],
      "execution_count": null,
      "outputs": []
    }
  ]
}

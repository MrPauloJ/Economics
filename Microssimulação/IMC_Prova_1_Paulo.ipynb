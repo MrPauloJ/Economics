{
  "nbformat": 4,
  "nbformat_minor": 0,
  "metadata": {
    "colab": {
      "name": "IMC - Prova 1 - Paulo Franscisco.ipynb",
      "provenance": [],
      "collapsed_sections": []
    },
    "kernelspec": {
      "name": "python3",
      "display_name": "Python 3"
    },
    "language_info": {
      "name": "python"
    }
  },
  "cells": [
    {
      "cell_type": "code",
      "metadata": {
        "id": "j2C12eWL4ug8"
      },
      "source": [
        "#Universidade Federal de Pernambuco\n",
        "#Disciplina: Introdução a Microssimulação\n",
        "#Professor: José Ricardo Nogueira\n",
        "#Aluno: Paulo Francisco da Silva Junior"
      ],
      "execution_count": null,
      "outputs": []
    },
    {
      "cell_type": "code",
      "metadata": {
        "id": "KsEIIIaoVA4C"
      },
      "source": [
        "#Importações\n",
        "import pandas as pd"
      ],
      "execution_count": null,
      "outputs": []
    },
    {
      "cell_type": "code",
      "metadata": {
        "colab": {
          "base_uri": "https://localhost:8080/"
        },
        "id": "AoK40YaOVNdF",
        "outputId": "bf10a328-39a8-4adf-a94b-2b117aff738f"
      },
      "source": [
        "#Importando banco e corrigindo missings para 0\n",
        "pnadc = pd.read_csv(\"/content/drive/MyDrive/Microsimulação/PNADC_2019_visita 5 (CSV).csv\", sep=\";\", decimal=\",\", na_values=\" \", dtype=float)\n",
        "pnadc.fillna(0,inplace=True)"
      ],
      "execution_count": null,
      "outputs": [
        {
          "output_type": "stream",
          "name": "stderr",
          "text": [
            "/usr/local/lib/python3.7/dist-packages/IPython/core/interactiveshell.py:2718: DtypeWarning: Columns (63) have mixed types.Specify dtype option on import or set low_memory=False.\n",
            "  interactivity=interactivity, compiler=compiler, result=result)\n"
          ]
        }
      ]
    },
    {
      "cell_type": "code",
      "metadata": {
        "id": "oeTctF3oU22o"
      },
      "source": [
        "#SALARIO FAMILIA (TRABALHO PRINCIPAL)"
      ],
      "execution_count": null,
      "outputs": []
    },
    {
      "cell_type": "code",
      "metadata": {
        "id": "kSh5uNkgWKS2"
      },
      "source": [
        "#Selecionando menores de 14 anos que sejam 'Filho(a) do responsável e do cônjuge', ou, 'Filho(a) somente do responsável', ou, 'Enteado(a)'\n",
        "#E colocando valor 1 para elegiveis numa nova variável chamada \"V2005_14\"\n",
        "pnadc.loc[(pnadc[\"V2009\"]<=14) & \\\n",
        "          ((pnadc[\"V2005\"]==4) | \\\n",
        "           (pnadc[\"V2005\"]==5) | \n",
        "           (pnadc[\"V2005\"]==6)),\"V2005_14\"]=1"
      ],
      "execution_count": null,
      "outputs": []
    },
    {
      "cell_type": "code",
      "metadata": {
        "id": "3Y4-KkvwVuBl"
      },
      "source": [
        "#Agregando variavel no banco de dados através da chave de domicilio\n",
        "pnadc=pnadc.join(pnadc.groupby(\"CHAVE.D\")[\"V2005_14\"].sum(),on=\"CHAVE.D\",rsuffix=\"_bin\")\n",
        "\n",
        "#Renomeando a variável agregada para Filho14\n",
        "pnadc.rename(columns={\"V2005_14_bin\":\"FILHO14\"},inplace=True)"
      ],
      "execution_count": null,
      "outputs": []
    },
    {
      "cell_type": "markdown",
      "metadata": {
        "id": "jPTcayDvwnj3"
      },
      "source": [
        "***Regras originais do salário família***"
      ]
    },
    {
      "cell_type": "code",
      "metadata": {
        "id": "wPtgpgC9Z2SD"
      },
      "source": [
        "#Trabalhador domestico ou do setor privado com carteira assinada e dentro da faixa de renda estabelecida pela regra fiscal\n",
        "#Adicionando o valor do salário familia em SALFAM1\n",
        "\n",
        "#Filtrando e obtendo salário familia - 2 faixa\n",
        "pnadc.loc[((pnadc[\"V4012\"]==1) | (pnadc[\"V4012\"]==3)) & (pnadc[\"V4029\"]==1) & \\\n",
        "          (((pnadc[\"V403312\"] - (pnadc[\"FILHO14\"] * 32.80) )>= 907.78) & \\\n",
        "           ((pnadc[\"V403312\"] - (pnadc[\"FILHO14\"] * 32.80))<=1364.43)),\"SALFAM1\"] \\\n",
        "          = pnadc[\"FILHO14\"] * 32.80"
      ],
      "execution_count": null,
      "outputs": []
    },
    {
      "cell_type": "code",
      "metadata": {
        "id": "psdWr6XocAXE"
      },
      "source": [
        "#Filtrando e obtendo salário familia - 1 faixa\n",
        "pnadc.loc[((pnadc[\"V4012\"]==1) | (pnadc[\"V4012\"]==3)) & (pnadc[\"V4029\"]==1)  & \\\n",
        "          ((pnadc[\"V403312\"] - (pnadc[\"FILHO14\"] * 46.54))<=907.77),\"SALFAM1\"]\\\n",
        "           = pnadc[\"FILHO14\"] * 46.54"
      ],
      "execution_count": null,
      "outputs": []
    },
    {
      "cell_type": "code",
      "metadata": {
        "id": "PqUwCynacUgK"
      },
      "source": [
        "#Ajustando salário familia apenas para responsáveis\n",
        "#(Pessoa responsável pelo domicílio, Cônjuge ou companheiro(a) de sexo diferente, Cônjuge ou companheiro(a) do mesmo sexo)\n",
        "pnadc.loc[(pnadc[\"V2005\"]>=4) & (pnadc[\"V2005\"]<=19),\"SALFAM1\"]=0"
      ],
      "execution_count": null,
      "outputs": []
    },
    {
      "cell_type": "code",
      "metadata": {
        "id": "cr52FqX9crps"
      },
      "source": [
        "#SALARIO FAMILIA (TRABALHO SECUNDARIO)"
      ],
      "execution_count": null,
      "outputs": []
    },
    {
      "cell_type": "code",
      "metadata": {
        "id": "9QBRA9DtdJXt"
      },
      "source": [
        "#Trabalhador domestico ou do setor privado com carteira assinada e dentro da faixa de renda estabelecida pela regra fiscal\n",
        "#Adicionando o valor do salário familia em SALFAM2\n",
        "\n",
        "#Filtrando e obtendo salário familia - 2 faixa\n",
        "pnadc.loc[((pnadc[\"V4043\"])==1 | (pnadc[\"V4043\"]==3)) & (pnadc[\"V4048\"]==1)  & \\\n",
        "          (((pnadc[\"V405012\"] - (pnadc[\"FILHO14\"] * 32.80))>=907.78) &\n",
        "           ((pnadc[\"V405012\"] - (pnadc[\"FILHO14\"] * 32.80))<=1364.43)),\"SALFAM2\"]\\\n",
        "          = pnadc[\"FILHO14\"] * 32.80"
      ],
      "execution_count": null,
      "outputs": []
    },
    {
      "cell_type": "code",
      "metadata": {
        "id": "VTDkEj8LdrBq"
      },
      "source": [
        "#Filtrando e obtendo salário familia - 1 faixa\n",
        "pnadc.loc[((pnadc[\"V4043\"]==1) | (pnadc[\"V4043\"]==3)) & (pnadc[\"V4048\"]==1)  & \\\n",
        "          ((pnadc[\"V405012\"] - (pnadc[\"FILHO14\"] * 46.54))<=907.77),\"SALFAM2\"]\\\n",
        "          =pnadc[\"FILHO14\"] * 46.54"
      ],
      "execution_count": null,
      "outputs": []
    },
    {
      "cell_type": "code",
      "metadata": {
        "id": "2D6xg_bhdveg"
      },
      "source": [
        "#Ajustando salário familia apenas para responsáveis\n",
        "#(Pessoa responsável pelo domicílio, Cônjuge ou companheiro(a) de sexo diferente, Cônjuge ou companheiro(a) do mesmo sexo)\n",
        "pnadc.loc[(pnadc[\"V2005\"]>=4) & (pnadc[\"V2005\"]<=19),\"SALFAM2\"]=0"
      ],
      "execution_count": null,
      "outputs": []
    },
    {
      "cell_type": "code",
      "metadata": {
        "id": "1OIejHqodxxE"
      },
      "source": [
        "#SALARIO FAMILIA (APOSENTADOS)"
      ],
      "execution_count": null,
      "outputs": []
    },
    {
      "cell_type": "code",
      "metadata": {
        "id": "1nTa0QJxd2hy"
      },
      "source": [
        "#Filtrando e obtendo salário familia - 2 faixa - Homens aposentados dentro da faixa de renda estabelecida\n",
        "#Adicionando valor do salário familia em SALFAM3\n",
        "pnadc.loc[(pnadc[\"V5004A2\"]>0) & (pnadc[\"V2009\"]>=65) & (pnadc[\"V2007\"]== 1) & \\\n",
        "          (((pnadc[\"V5004A2\"] - (pnadc[\"FILHO14\"] * 32.80))>=907.78) & \\\n",
        "          ((pnadc[\"V5004A2\"] - (pnadc[\"FILHO14\"] * 32.80))<=1364.43)),\"SALFAM3\"] \\\n",
        "          =pnadc[\"FILHO14\"] * 32.80"
      ],
      "execution_count": null,
      "outputs": []
    },
    {
      "cell_type": "code",
      "metadata": {
        "id": "V9dzoASweUGv"
      },
      "source": [
        "#Filtrando e obtendo salário familia - 1 faixa - Homens aposentados dentro da faixa de renda estabelecida\n",
        "pnadc.loc[(pnadc[\"V5004A2\"]>0) & (pnadc[\"V2009\"]>=65) & (pnadc[\"V2007\"]== 1) & \\\n",
        "          ((pnadc[\"V5004A2\"] - (pnadc[\"FILHO14\"] * 46.54))<=907.77),\"SALFAM3\"] \\\n",
        "          =pnadc[\"FILHO14\"] * 46.54"
      ],
      "execution_count": null,
      "outputs": []
    },
    {
      "cell_type": "code",
      "metadata": {
        "id": "HkXd1-E-eYHR"
      },
      "source": [
        "#Filtrando e obtendo salário familia - 2 faixa - Mulheres aposentadas dentro da faixa de renda estabelecida\n",
        "pnadc.loc[(pnadc[\"V5004A2\"]>0) & (pnadc[\"V2009\"]>=60) & (pnadc[\"V2007\"]== 2) & \\\n",
        "          (((pnadc[\"V5004A2\"] - (pnadc[\"FILHO14\"] * 32.80))>=907.78) & \\\n",
        "          ((pnadc[\"V5004A2\"] - (pnadc[\"FILHO14\"] * 32.80))<=1364.43)),\"SALFAM3\"] \\\n",
        "          =pnadc[\"FILHO14\"] * 32.80"
      ],
      "execution_count": null,
      "outputs": []
    },
    {
      "cell_type": "code",
      "metadata": {
        "id": "Td4_hcD4eiKQ"
      },
      "source": [
        "#Filtrando e obtendo salário familia - 1 faixa - Mulheres aposentadas dentro da faixa de renda estabelecida\n",
        "pnadc.loc[(pnadc[\"V5004A2\"]>0) & (pnadc[\"V2009\"]>=60) & (pnadc[\"V2007\"]== 2) & \\\n",
        "          ((pnadc[\"V5004A2\"] - (pnadc[\"FILHO14\"] * 46.54))<=907.77),\"SALFAM3\"] \\\n",
        "          =pnadc[\"FILHO14\"] * 46.54"
      ],
      "execution_count": null,
      "outputs": []
    },
    {
      "cell_type": "code",
      "metadata": {
        "id": "k0ZcFCQremVC"
      },
      "source": [
        "#Ajustando salário familia apenas para responsáveis\n",
        "#(Pessoa responsável pelo domicílio, Cônjuge ou companheiro(a) de sexo diferente, Cônjuge ou companheiro(a) do mesmo sexo)\n",
        "pnadc.loc[(pnadc[\"V2005\"]>=4) & (pnadc[\"V2005\"]<=19),\"SALFAM3\"]=0"
      ],
      "execution_count": null,
      "outputs": []
    },
    {
      "cell_type": "code",
      "metadata": {
        "id": "wela7446e0RD"
      },
      "source": [
        "#SALARIO FAMILIA (TRABALHO PRINCIPAL + SECUNDARIO + APOSENTADOS)"
      ],
      "execution_count": null,
      "outputs": []
    },
    {
      "cell_type": "code",
      "metadata": {
        "id": "dxNDSUqfe3sV"
      },
      "source": [
        "#Colocando 0 em 'missings'\n",
        "pnadc.fillna(0,inplace=True)"
      ],
      "execution_count": null,
      "outputs": []
    },
    {
      "cell_type": "code",
      "metadata": {
        "id": "9HjIe1lUe4Qz"
      },
      "source": [
        "#Conhecendo salário familia total\n",
        "pnadc[\"SALFAM\"]=pnadc[\"SALFAM1\"]+pnadc[\"SALFAM2\"]+pnadc[\"SALFAM3\"]"
      ],
      "execution_count": null,
      "outputs": []
    },
    {
      "cell_type": "code",
      "metadata": {
        "colab": {
          "base_uri": "https://localhost:8080/"
        },
        "id": "pJH331uEe7j-",
        "outputId": "b0df387b-807c-440b-dd85-bebc80d7c938"
      },
      "source": [
        "#Ativando peso e obtendo o gasto total do governo com salário familia\n",
        "print(\"Gasto total do governo com salário familia: \"+str((pnadc[\"SALFAM\"]*pnadc[\"V1032\"]).sum()))"
      ],
      "execution_count": null,
      "outputs": [
        {
          "output_type": "stream",
          "name": "stdout",
          "text": [
            "Gasto total do governo com salário familia: 250619474.5717523\n"
          ]
        }
      ]
    },
    {
      "cell_type": "markdown",
      "metadata": {
        "id": "a95iUa2zvQ5p"
      },
      "source": [
        "***Uniformizando salário familia para 50 reais por dependente*** \n",
        "\n",
        "sufixo _u"
      ]
    },
    {
      "cell_type": "code",
      "metadata": {
        "id": "ss5-X-6wkq0g"
      },
      "source": [
        "#Uniformizando salário familia para 50 reais por dependente"
      ],
      "execution_count": null,
      "outputs": []
    },
    {
      "cell_type": "code",
      "metadata": {
        "id": "kVoqv9D6mgOc"
      },
      "source": [
        "#SALARIO FAMILIA (TRABALHO PRINCIPAL)"
      ],
      "execution_count": null,
      "outputs": []
    },
    {
      "cell_type": "code",
      "metadata": {
        "id": "qIDRwm54oFRG"
      },
      "source": [
        "#Supondo que o salário familia ja foi recebido, checa-se a elegibilidade com os valores originais, porém, o benefício recebido será de 50 por dependente"
      ],
      "execution_count": null,
      "outputs": []
    },
    {
      "cell_type": "code",
      "metadata": {
        "id": "2EWq4MNXn_UF"
      },
      "source": [
        "#Trabalhador domestico ou do setor privado com carteira assinada e dentro da faixa de renda estabelecida pela regra fiscal\n",
        "#Adicionando o valor do salário familia em SALFAM1_u\n",
        "\n",
        "#Filtrando e obtendo salário familia - 2 faixa\n",
        "pnadc.loc[((pnadc[\"V4012\"]==1) | (pnadc[\"V4012\"]==3)) & (pnadc[\"V4029\"]==1) & \\\n",
        "          (((pnadc[\"V403312\"] - (pnadc[\"FILHO14\"] * 32.80))>= 907.78) & \\\n",
        "           ((pnadc[\"V403312\"] - (pnadc[\"FILHO14\"] * 32.80))<=1364.43)),\"SALFAM1_u\"] \\\n",
        "          = pnadc[\"FILHO14\"] * 50"
      ],
      "execution_count": null,
      "outputs": []
    },
    {
      "cell_type": "code",
      "metadata": {
        "id": "jbUbt9HJqdWN"
      },
      "source": [
        "#Filtrando e obtendo salário familia - 1 faixa\n",
        "pnadc.loc[((pnadc[\"V4012\"]==1) | (pnadc[\"V4012\"]==3)) & (pnadc[\"V4029\"]==1)  & \\\n",
        "          ((pnadc[\"V403312\"] - (pnadc[\"FILHO14\"] * 46.54))<=907.77),\"SALFAM1_u\"]\\\n",
        "           = pnadc[\"FILHO14\"] * 50"
      ],
      "execution_count": null,
      "outputs": []
    },
    {
      "cell_type": "code",
      "metadata": {
        "id": "jwGLCmNbqfS0"
      },
      "source": [
        "#Ajustando salário familia apenas para responsáveis\n",
        "#(Pessoa responsável pelo domicílio, Cônjuge ou companheiro(a) de sexo diferente, Cônjuge ou companheiro(a) do mesmo sexo)\n",
        "pnadc.loc[(pnadc[\"V2005\"]>=4) & (pnadc[\"V2005\"]<=19),\"SALFAM1_u\"]=0"
      ],
      "execution_count": null,
      "outputs": []
    },
    {
      "cell_type": "code",
      "metadata": {
        "id": "qcXqwZcZsCKM"
      },
      "source": [
        "#SALARIO FAMILIA (TRABALHO SECUNDARIO)"
      ],
      "execution_count": null,
      "outputs": []
    },
    {
      "cell_type": "code",
      "metadata": {
        "id": "Wp56ZxGcsCYb"
      },
      "source": [
        "#Trabalhador domestico ou do setor privado com carteira assinada e dentro da faixa de renda estabelecida pela regra fiscal\n",
        "#Adicionando o valor do salário familia em SALFAM2_u\n",
        "\n",
        "#Filtrando e obtendo salário familia - 2 faixa\n",
        "pnadc.loc[((pnadc[\"V4043\"]==1) | (pnadc[\"V4043\"]==3)) & (pnadc[\"V4048\"]==1)  & \\\n",
        "          (((pnadc[\"V405012\"] - (pnadc[\"FILHO14\"] * 32.80))>=907.78) &\n",
        "           ((pnadc[\"V405012\"] - (pnadc[\"FILHO14\"] * 32.80))<=1364.43)),\"SALFAM2_u\"]\\\n",
        "          = pnadc[\"FILHO14\"] * 50"
      ],
      "execution_count": null,
      "outputs": []
    },
    {
      "cell_type": "code",
      "metadata": {
        "id": "YqUA-rohsbZZ"
      },
      "source": [
        "#Filtrando e obtendo salário familia - 1 faixa\n",
        "pnadc.loc[((pnadc[\"V4043\"]==1) | (pnadc[\"V4043\"]==3)) & (pnadc[\"V4048\"]==1)  & \\\n",
        "          ((pnadc[\"V405012\"] - (pnadc[\"FILHO14\"] * 46.54))<=907.77),\"SALFAM2_u\"]\\\n",
        "          =pnadc[\"FILHO14\"] * 50"
      ],
      "execution_count": null,
      "outputs": []
    },
    {
      "cell_type": "code",
      "metadata": {
        "id": "n1cYyY0esg48"
      },
      "source": [
        "#Ajustando salário familia apenas para responsáveis\n",
        "#(Pessoa responsável pelo domicílio, Cônjuge ou companheiro(a) de sexo diferente, Cônjuge ou companheiro(a) do mesmo sexo)\n",
        "pnadc.loc[(pnadc[\"V2005\"]>=4) & (pnadc[\"V2005\"]<=19),\"SALFAM2_u\"]=0"
      ],
      "execution_count": null,
      "outputs": []
    },
    {
      "cell_type": "code",
      "metadata": {
        "id": "PdImZZx4snUf"
      },
      "source": [
        "#SALARIO FAMILIA (APOSENTADOS)"
      ],
      "execution_count": null,
      "outputs": []
    },
    {
      "cell_type": "code",
      "metadata": {
        "id": "qJb_mabTsniS"
      },
      "source": [
        "#Filtrando e obtendo salário familia - 2 faixa - Homens aposentados dentro da faixa de renda estabelecida\n",
        "#Adicionando valor do salário familia em SALFAM3_u\n",
        "pnadc.loc[(pnadc[\"V5004A2\"]>0) & (pnadc[\"V2009\"]>=65) & (pnadc[\"V2007\"]== 1) & \\\n",
        "          (((pnadc[\"V5004A2\"] - (pnadc[\"FILHO14\"] * 32.80))>=907.78) & \\\n",
        "          ((pnadc[\"V5004A2\"] - (pnadc[\"FILHO14\"] * 32.80))<=1364.43)),\"SALFAM3_u\"] \\\n",
        "          =pnadc[\"FILHO14\"] * 50"
      ],
      "execution_count": null,
      "outputs": []
    },
    {
      "cell_type": "code",
      "metadata": {
        "id": "W6p6tEzisuXc"
      },
      "source": [
        "#Filtrando e obtendo salário familia - 1 faixa - Homens aposentados dentro da faixa de renda estabelecida\n",
        "pnadc.loc[(pnadc[\"V5004A2\"]>0) & (pnadc[\"V2009\"]>=65) & (pnadc[\"V2007\"]== 1) & \\\n",
        "          ((pnadc[\"V5004A2\"] - (pnadc[\"FILHO14\"] * 46.54))<=907.77),\"SALFAM3_u\"] \\\n",
        "          =pnadc[\"FILHO14\"] * 50"
      ],
      "execution_count": null,
      "outputs": []
    },
    {
      "cell_type": "code",
      "metadata": {
        "id": "aGgUwwsgtBFx"
      },
      "source": [
        "#Filtrando e obtendo salário familia - 2 faixa - Mulheres aposentadas dentro da faixa de renda estabelecida\n",
        "pnadc.loc[(pnadc[\"V5004A2\"]>0) & (pnadc[\"V2009\"]>=60) & (pnadc[\"V2007\"]== 2) & \\\n",
        "          (((pnadc[\"V5004A2\"] - (pnadc[\"FILHO14\"] * 32.80))>=907.78) & \\\n",
        "          ((pnadc[\"V5004A2\"] - (pnadc[\"FILHO14\"] * 32.80))<=1364.43)),\"SALFAM3_u\"] \\\n",
        "          =pnadc[\"FILHO14\"] * 50"
      ],
      "execution_count": null,
      "outputs": []
    },
    {
      "cell_type": "code",
      "metadata": {
        "id": "etdWsjsrtPOy"
      },
      "source": [
        "#Filtrando e obtendo salário familia - 1 faixa - Mulheres aposentadas dentro da faixa de renda estabelecida\n",
        "pnadc.loc[(pnadc[\"V5004A2\"]>0) & (pnadc[\"V2009\"]>=60) & (pnadc[\"V2007\"]== 2) & \\\n",
        "          ((pnadc[\"V5004A2\"] - (pnadc[\"FILHO14\"] * 46.54))<=907.77),\"SALFAM3_u\"] \\\n",
        "          =pnadc[\"FILHO14\"] * 50"
      ],
      "execution_count": null,
      "outputs": []
    },
    {
      "cell_type": "code",
      "metadata": {
        "id": "zaLfwIf4tVPa"
      },
      "source": [
        "#Ajustando salário familia apenas para responsáveis\n",
        "#(Pessoa responsável pelo domicílio, Cônjuge ou companheiro(a) de sexo diferente, Cônjuge ou companheiro(a) do mesmo sexo)\n",
        "pnadc.loc[(pnadc[\"V2005\"]>=4) & (pnadc[\"V2005\"]<=19),\"SALFAM3_u\"]=0"
      ],
      "execution_count": null,
      "outputs": []
    },
    {
      "cell_type": "code",
      "metadata": {
        "id": "AeYp4NkUtg7E"
      },
      "source": [
        "#SALARIO FAMILIA (TRABALHO PRINCIPAL + SECUNDARIO + APOSENTADOS)"
      ],
      "execution_count": null,
      "outputs": []
    },
    {
      "cell_type": "code",
      "metadata": {
        "id": "_anbxlI2thJb"
      },
      "source": [
        "#Colocando 0 em 'missings'\n",
        "pnadc.fillna(0,inplace=True)"
      ],
      "execution_count": null,
      "outputs": []
    },
    {
      "cell_type": "code",
      "metadata": {
        "id": "fS490OiRtmLV"
      },
      "source": [
        "#Conhecendo salário familia total\n",
        "pnadc[\"SALFAM_u\"]=pnadc[\"SALFAM1_u\"]+pnadc[\"SALFAM2_u\"]+pnadc[\"SALFAM3_u\"]"
      ],
      "execution_count": null,
      "outputs": []
    },
    {
      "cell_type": "code",
      "metadata": {
        "colab": {
          "base_uri": "https://localhost:8080/"
        },
        "id": "V9pj4MKrtrfq",
        "outputId": "13e8a532-2c15-4f23-9cbd-15183fc2c3e3"
      },
      "source": [
        "#Ativando peso e obtendo o gasto total do governo com salário familia\n",
        "print(\"Gasto total do governo com salário familia (unificado R$50): \"+str((pnadc[\"SALFAM_u\"]*pnadc[\"V1032\"]).sum()))"
      ],
      "execution_count": null,
      "outputs": [
        {
          "output_type": "stream",
          "name": "stdout",
          "text": [
            "Gasto total do governo com salário familia (unificado R$50): 350597844.70104253\n"
          ]
        }
      ]
    },
    {
      "cell_type": "code",
      "metadata": {
        "colab": {
          "base_uri": "https://localhost:8080/"
        },
        "id": "ZmZ4u0bdt8N2",
        "outputId": "ebac4299-5c87-49f8-dd3a-3e4503b19276"
      },
      "source": [
        "#Gasto extra\n",
        "print(\"Gastro extra do governo se unificar: \"+str(((pnadc[\"SALFAM_u\"]*pnadc[\"V1032\"]).sum()) - ((pnadc[\"SALFAM\"]*pnadc[\"V1032\"]).sum() )))"
      ],
      "execution_count": null,
      "outputs": [
        {
          "output_type": "stream",
          "name": "stdout",
          "text": [
            "Gastro extra do governo se unificar: 99978370.12929022\n"
          ]
        }
      ]
    },
    {
      "cell_type": "markdown",
      "metadata": {
        "id": "H-cCY3lnvIxD"
      },
      "source": [
        "***2 Questão***\n",
        "\n",
        "sufixo _s"
      ]
    },
    {
      "cell_type": "code",
      "metadata": {
        "id": "UmxDNZIKuLH5"
      },
      "source": [
        "#SALARIO FAMILIA (TRABALHO PRINCIPAL)"
      ],
      "execution_count": null,
      "outputs": []
    },
    {
      "cell_type": "code",
      "metadata": {
        "id": "Z_-i2k4GwMD4"
      },
      "source": [
        "#Utilizando as regras originais, consideramos agora funcionários públicos e militáres"
      ],
      "execution_count": null,
      "outputs": []
    },
    {
      "cell_type": "code",
      "metadata": {
        "id": "sGvk3GEKwXl1"
      },
      "source": [
        "#Trabalhador domestico ou do setor privado com carteira assinada e dentro da faixa de renda estabelecida pela regra fiscal\n",
        "#Adicionando o valor do salário familia em SALFAM1_s\n",
        "\n",
        "#Filtrando e obtendo salário familia - 2 faixa\n",
        "pnadc.loc[((pnadc[\"V4012\"]==1) | (pnadc[\"V4012\"]==3)) & (pnadc[\"V4029\"]==1) & \\\n",
        "          (((pnadc[\"V403312\"] - (pnadc[\"FILHO14\"] * 32.80))>= 907.78) & \\\n",
        "           ((pnadc[\"V403312\"] - (pnadc[\"FILHO14\"] * 32.80))<=1364.43)),\"SALFAM1_s\"] \\\n",
        "          = pnadc[\"FILHO14\"] * 32.80\n",
        "\n",
        "#Desconsidera-se a carteira assinada para militares e servidores publicos\n",
        "pnadc.loc[((pnadc[\"V4012\"]==2) | (pnadc[\"V4012\"]==4)) & \\\n",
        "          ((pnadc[\"V403312\"]>= 907.78) & \\\n",
        "           (pnadc[\"V403312\"]<=1364.43)),\"SALFAM1_s\"] \\\n",
        "          = pnadc[\"FILHO14\"] * 32.80"
      ],
      "execution_count": null,
      "outputs": []
    },
    {
      "cell_type": "code",
      "metadata": {
        "id": "tj5jJ1xJxbYX"
      },
      "source": [
        "#Filtrando e obtendo salário familia - 1 faixa\n",
        "pnadc.loc[((pnadc[\"V4012\"]==1) | (pnadc[\"V4012\"]==3)) & (pnadc[\"V4029\"]==1)  & \\\n",
        "          ((pnadc[\"V403312\"] - (pnadc[\"FILHO14\"] * 46.54))<=907.77),\"SALFAM1_s\"]\\\n",
        "           = pnadc[\"FILHO14\"] * 46.54\n",
        "\n",
        "#Desconsidera-se a carteira assinada para militares e servidores publicos\n",
        "pnadc.loc[((pnadc[\"V4012\"]==2) | (pnadc[\"V4012\"]==4)) & \\\n",
        "          (pnadc[\"V403312\"]<=907.77),\"SALFAM1_s\"]\\\n",
        "           = pnadc[\"FILHO14\"] * 46.54"
      ],
      "execution_count": null,
      "outputs": []
    },
    {
      "cell_type": "code",
      "metadata": {
        "id": "dFIr5MQ3xmYt"
      },
      "source": [
        "#Ajustando salário familia apenas para responsáveis\n",
        "#(Pessoa responsável pelo domicílio, Cônjuge ou companheiro(a) de sexo diferente, Cônjuge ou companheiro(a) do mesmo sexo)\n",
        "pnadc.loc[(pnadc[\"V2005\"]>=4) & (pnadc[\"V2005\"]<=19),\"SALFAM1_s\"]=0"
      ],
      "execution_count": null,
      "outputs": []
    },
    {
      "cell_type": "code",
      "metadata": {
        "id": "DZtKOjXnxyug"
      },
      "source": [
        "#SALARIO FAMILIA (TRABALHO SECUNDARIO)"
      ],
      "execution_count": null,
      "outputs": []
    },
    {
      "cell_type": "code",
      "metadata": {
        "id": "AUMmS8FexzAx"
      },
      "source": [
        "#Trabalhador domestico ou do setor privado com carteira assinada e dentro da faixa de renda estabelecida pela regra fiscal\n",
        "#Adicionando o valor do salário familia em SALFAM2_s\n",
        "\n",
        "#Filtrando e obtendo salário familia - 2 faixa\n",
        "pnadc.loc[((pnadc[\"V4043\"]==1) | (pnadc[\"V4043\"]==3)) & (pnadc[\"V4048\"]==1)  & \\\n",
        "          (((pnadc[\"V405012\"] - (pnadc[\"FILHO14\"] * 32.80))>=907.78) &\n",
        "           ((pnadc[\"V405012\"] - (pnadc[\"FILHO14\"] * 32.80))<=1364.43)),\"SALFAM2_s\"]\\\n",
        "          = pnadc[\"FILHO14\"] * 32.80\n",
        "\n",
        "#Desconsidera-se a carteira assinada para militares e servidores publicos\n",
        "pnadc.loc[((pnadc[\"V4043\"]==2) | (pnadc[\"V4043\"]==4)) & \\\n",
        "          ((pnadc[\"V405012\"]>=907.78) &\n",
        "           (pnadc[\"V405012\"]<=1364.43)),\"SALFAM2_s\"]\\\n",
        "          = pnadc[\"FILHO14\"] * 32.80"
      ],
      "execution_count": null,
      "outputs": []
    },
    {
      "cell_type": "code",
      "metadata": {
        "id": "JxG3wbrdyP5w"
      },
      "source": [
        "#Filtrando e obtendo salário familia - 1 faixa\n",
        "pnadc.loc[((pnadc[\"V4043\"]==1) | (pnadc[\"V4043\"]==3)) & (pnadc[\"V4048\"]==1)  & \\\n",
        "          ((pnadc[\"V405012\"] - (pnadc[\"FILHO14\"] * 46.54))<=907.77),\"SALFAM2_s\"]\\\n",
        "          =pnadc[\"FILHO14\"] * 46.54\n",
        "\n",
        "#Desconsidera-se a carteira assinada para militares e servidores publicos\n",
        "pnadc.loc[((pnadc[\"V4043\"]==2) | (pnadc[\"V4043\"])==4) & \\\n",
        "          (pnadc[\"V405012\"]<=907.77),\"SALFAM2_s\"]\\\n",
        "          =pnadc[\"FILHO14\"] * 46.54"
      ],
      "execution_count": null,
      "outputs": []
    },
    {
      "cell_type": "code",
      "metadata": {
        "id": "G5g1WkoSyWJ9"
      },
      "source": [
        "#Ajustando salário familia apenas para responsáveis\n",
        "#(Pessoa responsável pelo domicílio, Cônjuge ou companheiro(a) de sexo diferente, Cônjuge ou companheiro(a) do mesmo sexo)\n",
        "pnadc.loc[(pnadc[\"V2005\"]>=4) & (pnadc[\"V2005\"]<=19),\"SALFAM2_s\"]=0"
      ],
      "execution_count": null,
      "outputs": []
    },
    {
      "cell_type": "code",
      "metadata": {
        "id": "a-HCVQVSyaEH"
      },
      "source": [
        "#SALARIO FAMILIA (APOSENTADOS)"
      ],
      "execution_count": null,
      "outputs": []
    },
    {
      "cell_type": "code",
      "metadata": {
        "id": "4YKQT_JzyaVa"
      },
      "source": [
        "#Filtrando e obtendo salário familia - 2 faixa - Homens aposentados dentro da faixa de renda estabelecida\n",
        "#Adicionando valor do salário familia em SALFAM3\n",
        "pnadc.loc[(pnadc[\"V5004A2\"]>0) & (pnadc[\"V2009\"]>=65) & (pnadc[\"V2007\"]== 1) & \\\n",
        "          (((pnadc[\"V5004A2\"] - (pnadc[\"FILHO14\"] * 32.80))>=907.78) & \\\n",
        "          ((pnadc[\"V5004A2\"] - (pnadc[\"FILHO14\"] * 32.80))<=1364.43)),\"SALFAM3_s\"] \\\n",
        "          =pnadc[\"FILHO14\"] * 32.80"
      ],
      "execution_count": null,
      "outputs": []
    },
    {
      "cell_type": "code",
      "metadata": {
        "id": "ehCnqVHPydoX"
      },
      "source": [
        "#Filtrando e obtendo salário familia - 1 faixa - Homens aposentados dentro da faixa de renda estabelecida\n",
        "pnadc.loc[(pnadc[\"V5004A2\"]>0) & (pnadc[\"V2009\"]>=65) & (pnadc[\"V2007\"]== 1) & \\\n",
        "          ((pnadc[\"V5004A2\"] - (pnadc[\"FILHO14\"] * 46.54))<=907.77),\"SALFAM3_s\"] \\\n",
        "          =pnadc[\"FILHO14\"] * 46.54"
      ],
      "execution_count": null,
      "outputs": []
    },
    {
      "cell_type": "code",
      "metadata": {
        "id": "iO81OoiGy0tg"
      },
      "source": [
        "#Filtrando e obtendo salário familia - 2 faixa - Mulheres aposentadas dentro da faixa de renda estabelecida\n",
        "pnadc.loc[(pnadc[\"V5004A2\"]>0) & (pnadc[\"V2009\"]>=60) & (pnadc[\"V2007\"]== 2) & \\\n",
        "          (((pnadc[\"V5004A2\"] - (pnadc[\"FILHO14\"] * 32.80))>=907.78) & \\\n",
        "          ((pnadc[\"V5004A2\"] - (pnadc[\"FILHO14\"] * 32.80))<=1364.43)),\"SALFAM3_s\"] \\\n",
        "          =pnadc[\"FILHO14\"] * 32.80"
      ],
      "execution_count": null,
      "outputs": []
    },
    {
      "cell_type": "code",
      "metadata": {
        "id": "0_qSTUGsy9IH"
      },
      "source": [
        "#Filtrando e obtendo salário familia - 1 faixa - Mulheres aposentadas dentro da faixa de renda estabelecida\n",
        "pnadc.loc[(pnadc[\"V5004A2\"]>0) & (pnadc[\"V2009\"]>=60) & (pnadc[\"V2007\"]== 2) & \\\n",
        "          ((pnadc[\"V5004A2\"] - (pnadc[\"FILHO14\"] * 46.54))<=907.77),\"SALFAM3_s\"] \\\n",
        "          =pnadc[\"FILHO14\"] * 46.54"
      ],
      "execution_count": null,
      "outputs": []
    },
    {
      "cell_type": "code",
      "metadata": {
        "id": "y8IbMjdFzP3A"
      },
      "source": [
        "#Ajustando salário familia apenas para responsáveis\n",
        "#(Pessoa responsável pelo domicílio, Cônjuge ou companheiro(a) de sexo diferente, Cônjuge ou companheiro(a) do mesmo sexo)\n",
        "pnadc.loc[(pnadc[\"V2005\"]>=4) & (pnadc[\"V2005\"]<=19),\"SALFAM3_s\"]=0"
      ],
      "execution_count": null,
      "outputs": []
    },
    {
      "cell_type": "code",
      "metadata": {
        "id": "IM2nBj7JzTa_"
      },
      "source": [
        "#SALARIO FAMILIA (TRABALHO PRINCIPAL + SECUNDARIO + APOSENTADOS)"
      ],
      "execution_count": null,
      "outputs": []
    },
    {
      "cell_type": "code",
      "metadata": {
        "id": "RWTQnrF6zToB"
      },
      "source": [
        "#Colocando 0 em 'missings'\n",
        "pnadc.fillna(0,inplace=True)"
      ],
      "execution_count": null,
      "outputs": []
    },
    {
      "cell_type": "code",
      "metadata": {
        "id": "HZgvltL3zZOK"
      },
      "source": [
        "#Conhecendo salário familia total\n",
        "pnadc[\"SALFAM_s\"]=pnadc[\"SALFAM1_s\"]+pnadc[\"SALFAM2_s\"]+pnadc[\"SALFAM3_s\"]"
      ],
      "execution_count": null,
      "outputs": []
    },
    {
      "cell_type": "code",
      "metadata": {
        "colab": {
          "base_uri": "https://localhost:8080/"
        },
        "id": "dzf0vbhFzfbL",
        "outputId": "17f75a84-a945-4bfc-94b3-eee390a2f05b"
      },
      "source": [
        "#Ativando peso e obtendo o gasto total do governo com salário familia\n",
        "print(\"Gasto total do governo com salário familia (considerando servidores publicos e militares): \"+str((pnadc[\"SALFAM_s\"]*pnadc[\"V1032\"]).sum()))"
      ],
      "execution_count": null,
      "outputs": [
        {
          "output_type": "stream",
          "name": "stdout",
          "text": [
            "Gasto total do governo com salário familia (considerando servidores publicos e militares): 312573592.39588255\n"
          ]
        }
      ]
    },
    {
      "cell_type": "code",
      "metadata": {
        "colab": {
          "base_uri": "https://localhost:8080/"
        },
        "id": "U1Bq-CV0zqay",
        "outputId": "bcc652a3-0d29-4f51-ed32-c69a43ddce22"
      },
      "source": [
        "#Custo extra\n",
        "print(\"Gasto extra com servidores publicos:\"+str(((pnadc[\"SALFAM_s\"]*pnadc[\"V1032\"]).sum()) - ((pnadc[\"SALFAM\"]*pnadc[\"V1032\"]).sum() )))"
      ],
      "execution_count": null,
      "outputs": [
        {
          "output_type": "stream",
          "name": "stdout",
          "text": [
            "Gasto extra com servidores publicos:61954117.82413024\n"
          ]
        }
      ]
    },
    {
      "cell_type": "markdown",
      "metadata": {
        "id": "WpthxA4pgNHl"
      },
      "source": [
        "***Questão 4***"
      ]
    },
    {
      "cell_type": "markdown",
      "metadata": {
        "id": "jiITkphjghWE"
      },
      "source": [
        ">Programa Renda-Familia\n",
        "\n",
        "Entende e considera-se:\n",
        "\n",
        "RD -> RENDA DOMICLIAR (EXCLUSIVE RENDA MENSAL EM PRODUTOS E MERCADORIAS)\n",
        "\n",
        "NUM_DOM -> 'NÚMERO DE PESSOAS NO DOMICÍLIO' (EXCLUSIVE PENSIONISTA, EMP. DOM E PARENTE EMP. DOM.)\n",
        "\n",
        ">Beneficio\n",
        "\n",
        "- 50 reais por individuo elegivel quando não há RD\n",
        "- 5% sobre a RD para quando esta for maior que 0 para elegiveis\n",
        "\n",
        ">Eligibilidade\n",
        "\n",
        "- Responsável do domicilio\n",
        "- Renda domiciliar per capita abaixo de até 1/5 salario mínimo\n",
        "-  ou, sem renda domiciliar.\n",
        "- Fora do serviço publico e militar\n",
        "- Sem carteira de trabalho assinada\n",
        "- Entre 18 e 60 anos"
      ]
    },
    {
      "cell_type": "code",
      "metadata": {
        "id": "OizIPdJJhxBS"
      },
      "source": [
        "#Calculando Renda per capita domiciliar\n",
        "pnadc[\"RD_PC\"]=(pnadc[\"RD\"]/pnadc[\"NUM_DOM\"])"
      ],
      "execution_count": null,
      "outputs": []
    },
    {
      "cell_type": "code",
      "metadata": {
        "id": "-wHfZB7RrW_C"
      },
      "source": [
        "#Gerando beneficio"
      ],
      "execution_count": null,
      "outputs": []
    },
    {
      "cell_type": "code",
      "metadata": {
        "id": "wMAh8TDNklEw"
      },
      "source": [
        "#Renda domiciliar maior que 0\n",
        "pnadc.loc[ ((pnadc[\"V2009\"]>=18) & (pnadc[\"V2009\"]<=60)) & ( (pnadc[\"RD_PC\"]>0) & (pnadc[\"RD_PC\"]<=(998/5)) ) & \\\n",
        "           ((pnadc[\"V4012\"]!=2) & (pnadc[\"V4012\"]!=4)) & (pnadc[\"V4048\"]!=1), \"RF\"] = pnadc[\"RD_PC\"]*0.05"
      ],
      "execution_count": null,
      "outputs": []
    },
    {
      "cell_type": "code",
      "metadata": {
        "id": "X6zCuDj-rOyg"
      },
      "source": [
        "#Renda domiciliar = 0\n",
        "pnadc.loc[ ((pnadc[\"V2009\"]>=18) & (pnadc[\"V2009\"]<=60)) & (pnadc[\"RD_PC\"]==0) & ( (pnadc[\"V4012\"]!=2) & \\\n",
        "            (pnadc[\"V4012\"]!=4)) & (pnadc[\"V4048\"]!=1), \"RF\"] = 50"
      ],
      "execution_count": null,
      "outputs": []
    },
    {
      "cell_type": "code",
      "metadata": {
        "id": "Jy9VKRUwrmIE"
      },
      "source": [
        "#Trabalho secundário"
      ],
      "execution_count": null,
      "outputs": []
    },
    {
      "cell_type": "code",
      "metadata": {
        "id": "nFPlf8sgsG9I"
      },
      "source": [
        "#Renda domiciliar maior que 0\n",
        "pnadc.loc[ ((pnadc[\"V2009\"]>=18) & (pnadc[\"V2009\"]<=60)) & ( (pnadc[\"RD_PC\"]>0) & (pnadc[\"RD_PC\"]<=(998/5)) ) & \\\n",
        "           ((pnadc[\"V4043\"]!=2) & (pnadc[\"V4043\"]!=4)) & (pnadc[\"V4048\"]!=1), \"RF\"] = pnadc[\"RD_PC\"]*0.05"
      ],
      "execution_count": null,
      "outputs": []
    },
    {
      "cell_type": "code",
      "metadata": {
        "id": "XmK8NUUhsIzB"
      },
      "source": [
        "#Renda domiciliar = 0\n",
        "pnadc.loc[ ((pnadc[\"V2009\"]>=18) & (pnadc[\"V2009\"]<=60)) & (pnadc[\"RD_PC\"]==0) & ( (pnadc[\"V4043\"]!=2) & \\\n",
        "              (pnadc[\"V4043\"]!=4)) & (pnadc[\"V4048\"]!=1), \"RF\"] = 50"
      ],
      "execution_count": null,
      "outputs": []
    },
    {
      "cell_type": "code",
      "metadata": {
        "id": "Htnw_lAPsWv6"
      },
      "source": [
        "#Substituindo missings por 0\n",
        "pnadc.fillna(0,inplace=True)"
      ],
      "execution_count": null,
      "outputs": []
    },
    {
      "cell_type": "code",
      "metadata": {
        "colab": {
          "base_uri": "https://localhost:8080/"
        },
        "id": "0OfJCsuXsdT4",
        "outputId": "422110c7-df95-4224-9d60-cb28484d3e0c"
      },
      "source": [
        "print(\"O gasto do governo com esse programa será de:\"+ str((pnadc[\"RF\"]*pnadc[\"V1032\"]).sum()))"
      ],
      "execution_count": null,
      "outputs": [
        {
          "output_type": "stream",
          "name": "stdout",
          "text": [
            "O gasto do governo com esse programa será de:3770648181.2773833\n"
          ]
        }
      ]
    },
    {
      "cell_type": "markdown",
      "metadata": {
        "id": "DmkdDN6YTqeJ"
      },
      "source": [
        "***Questão 3***"
      ]
    },
    {
      "cell_type": "markdown",
      "metadata": {
        "id": "ai4tYPh0dq4X"
      },
      "source": [
        "Observando que na variável 'V403312 - Qual era o rendimento bruto/retirada mensal que ... recebia/fazia normalmente nesse trabalho ? (valor em dinheiro)' há missings para não trabalhadores, podemos substitui-los por 0"
      ]
    },
    {
      "cell_type": "code",
      "metadata": {
        "id": "LhZkAIsG6MBS"
      },
      "source": [
        "#Substituindo missings por 0\n",
        "pnadc.fillna(value={\"V403312\":0},inplace=True)"
      ],
      "execution_count": null,
      "outputs": []
    },
    {
      "cell_type": "markdown",
      "metadata": {
        "id": "XAk16E9rkYsu"
      },
      "source": [
        "Observando que na variável 'V405112 - Valor em dinheiro do rendimento mensal que recebeu nesse trabalho secundário no mês de referência' não há informações de rendimento para trabalhos secundarios não aplicaveis, podemos substitui-los por 0"
      ]
    },
    {
      "cell_type": "code",
      "metadata": {
        "id": "1rYOT-nsIc9z"
      },
      "source": [
        "pnadc.loc[(pnadc[\"V4048\"].isna()==True) & (pnadc[\"V405112\"].isna()==True), \"V405112\"] = 0"
      ],
      "execution_count": null,
      "outputs": []
    },
    {
      "cell_type": "markdown",
      "metadata": {
        "id": "V_N_J4C70deV"
      },
      "source": [
        "Tentei buscar outro missing como o do salário minimo apresentado em aula, mas esse banco disponibilizado ja está tratado.\n",
        "\n",
        "Resolveria da seguinte forma: \n",
        "Se o trabalhador tiver carteira assinada e a renda recebida desse trabalho é um missing, podemos estabelecer o salário minimo vigente."
      ]
    },
    {
      "cell_type": "code",
      "metadata": {
        "id": "5sU2nJIF1-SM"
      },
      "source": [
        "pnadc.loc[(pnadc[\"V4029\"]==1) & (pnadc[\"V403312\"].isna()==True), \"V403312\"] = 998"
      ],
      "execution_count": null,
      "outputs": []
    },
    {
      "cell_type": "code",
      "metadata": {
        "id": "pxshadOB2NjL"
      },
      "source": [
        ""
      ],
      "execution_count": null,
      "outputs": []
    }
  ]
}
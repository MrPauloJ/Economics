{
  "nbformat": 4,
  "nbformat_minor": 0,
  "metadata": {
    "colab": {
      "name": "IMC_Prova_2_Paulo.ipynb",
      "provenance": [],
      "collapsed_sections": []
    },
    "kernelspec": {
      "name": "python3",
      "display_name": "Python 3"
    },
    "language_info": {
      "name": "python"
    }
  },
  "cells": [
    {
      "cell_type": "code",
      "execution_count": null,
      "metadata": {
        "id": "VJmChTAvspTb"
      },
      "outputs": [],
      "source": [
        "# Universidade Federal de Pernambuco\n",
        "# Disciplina: Introdução à Microssimulação\n",
        "# Professor: José Ricardo Nogueira\n",
        "# Aluno: Paulo Francisco da Silva Junior"
      ]
    },
    {
      "cell_type": "code",
      "source": [
        "# Importação de bibliotecas\n",
        "import pandas as pd\n",
        "import matplotlib.pyplot as plt\n",
        "import numpy as np"
      ],
      "metadata": {
        "id": "JpUJ4mdgs_KQ"
      },
      "execution_count": null,
      "outputs": []
    },
    {
      "cell_type": "code",
      "source": [
        "# Importando banco\n",
        "pnadc = pd.read_csv(\"/content/drive/MyDrive/Microsimulação/PNADC_2017.csv\",sep=\";\",na_values=\" \", dtype=\"float\", decimal=\",\")\n",
        "pnadc.fillna(0,inplace=True)"
      ],
      "metadata": {
        "id": "N7CZ00JutZrm"
      },
      "execution_count": null,
      "outputs": []
    },
    {
      "cell_type": "markdown",
      "source": [
        "Considere o seguinte contexto:\n",
        "\n",
        "O Brasil é um país caracterizado por um sistema de tributos e de\n",
        "transferências governamentais altamente complexo e ineficiente. \n",
        "Simplificar esse sistema é um objetivo crucial.\n",
        "\n",
        "Dado esse contexto, uma economista sugeriu a seguinte estratégia:\n",
        "\n",
        "(i) Substituir todos os tributos diretos por um tributo sobre a renda com\n",
        "alíquota única de 20%.\n",
        "\n",
        "(ii) Substituir todas as transferências monetárias governamentais por uma\n",
        "renda básica universal no valor mensal de R$400,00 a ser paga a todos os\n",
        "indivíduos, incondicionalmente."
      ],
      "metadata": {
        "id": "s5ns5b3ctNE-"
      }
    },
    {
      "cell_type": "markdown",
      "source": [
        "Em relação à implementação desse novo sistema de tributos e benefícios\n",
        "sociais:\n",
        "\n",
        "1) Desenvolva um algoritmo computacional que permita simular esse novo\n",
        "esquema."
      ],
      "metadata": {
        "id": "1kT6qtL1tVnr"
      }
    },
    {
      "cell_type": "code",
      "source": [
        "# Renda inicial = Renda sem tributos e benefícios\n",
        "# Renda Bruta = Renda + Benefícios\n",
        "# Renda Disponível = Renda + Benefícios - Impostos Diretos\n",
        "# Renda Final = Renda + Benefícios - Impostos Diretos e Indiretos"
      ],
      "metadata": {
        "id": "55lZS7-23kH8"
      },
      "execution_count": null,
      "outputs": []
    },
    {
      "cell_type": "code",
      "source": [
        "# Criando benefício de renda básica universal\n",
        "pnadc[\"RBU\"] = 400"
      ],
      "metadata": {
        "id": "0sx8iu8UzeLK"
      },
      "execution_count": null,
      "outputs": []
    },
    {
      "cell_type": "code",
      "source": [
        "# Utilizando a renda inicial disponível per capita no banco (renda antes da adição de benefícios ou impostos)\n",
        "# Supondo que o governo taxe em 20% todos os grupos que tenham renda"
      ],
      "metadata": {
        "id": "TRbk38MwtCFv"
      },
      "execution_count": null,
      "outputs": []
    },
    {
      "cell_type": "code",
      "source": [
        "##################################################################\n",
        "# A tributação incide apenas sobre a renda inicial, porém \n",
        "# a renda básica poderia entrar na renda tributável em um esquema mais\n",
        "# complexo que envolveria a criação de um limite de isenção para o tributo.\n",
        "##################################################################"
      ],
      "metadata": {
        "id": "hHt-aCA9nehj"
      },
      "execution_count": null,
      "outputs": []
    },
    {
      "cell_type": "code",
      "source": [
        "# Calculando o valor do imposto para quem tem renda\n",
        "pnadc[\"TRIB\"] = 0.2*(pnadc[\"RDIPC\"]+pnadc[\"RBU\"]) # Renda Bruta\n",
        "pnadc.fillna(value={\"TRIB\":0},inplace=True)"
      ],
      "metadata": {
        "id": "U4NQmgvqy-dk"
      },
      "execution_count": null,
      "outputs": []
    },
    {
      "cell_type": "code",
      "source": [
        "# Calculando nova renda, subtraindo imposto devido e somando Renda Básica Universal\n",
        "pnadc[\"REND_DISP_PC\"] = pnadc[\"RDIPC\"]+pnadc[\"RBU\"]-pnadc[\"TRIB\"]"
      ],
      "metadata": {
        "id": "-26FCFBZzexp"
      },
      "execution_count": null,
      "outputs": []
    },
    {
      "cell_type": "markdown",
      "source": [
        "2) Simule o novo esquema e calcule o valor total anual a ser arrecadado pelo\n",
        "governo com o novo tributo e o valor total do gasto com a introdução da\n",
        "renda básica universal."
      ],
      "metadata": {
        "id": "COM6VrEmJCrM"
      }
    },
    {
      "cell_type": "code",
      "source": [
        "# Valor anual arrecadado pelo governo\n",
        "((pnadc[\"PESO\"]*pnadc[\"TRIB\"]).sum())*12"
      ],
      "metadata": {
        "colab": {
          "base_uri": "https://localhost:8080/"
        },
        "id": "IHmTDPKZIz9p",
        "outputId": "d8b95b6e-a90d-4c6d-82a1-faf2f27efe89"
      },
      "execution_count": null,
      "outputs": [
        {
          "output_type": "execute_result",
          "data": {
            "text/plain": [
              "712685483140.7173"
            ]
          },
          "metadata": {},
          "execution_count": 9
        }
      ]
    },
    {
      "cell_type": "code",
      "source": [
        "# Valor anual gasto pelo governo\n",
        "((pnadc[\"PESO\"]*pnadc[\"RBU\"]).sum())*12"
      ],
      "metadata": {
        "colab": {
          "base_uri": "https://localhost:8080/"
        },
        "id": "9NWyVRoEI0ZM",
        "outputId": "1ceefd55-17ef-419e-dc89-9c1e743159a1"
      },
      "execution_count": null,
      "outputs": [
        {
          "output_type": "execute_result",
          "data": {
            "text/plain": [
              "994014624000.0"
            ]
          },
          "metadata": {},
          "execution_count": 10
        }
      ]
    },
    {
      "cell_type": "code",
      "source": [
        "# Calculando a diferença entre T - G\n",
        "((pnadc[\"PESO\"]*pnadc[\"TRIB\"]).sum())*12 - ((pnadc[\"PESO\"]*pnadc[\"RBU\"]).sum())*12"
      ],
      "metadata": {
        "colab": {
          "base_uri": "https://localhost:8080/"
        },
        "id": "CuTbZTXFJ75X",
        "outputId": "1a45c7ea-a023-4076-c15d-8b1b549852b4"
      },
      "execution_count": null,
      "outputs": [
        {
          "output_type": "execute_result",
          "data": {
            "text/plain": [
              "-281329140859.2827"
            ]
          },
          "metadata": {},
          "execution_count": 11
        }
      ]
    },
    {
      "cell_type": "markdown",
      "source": [
        "3) Após a introdução do novo sistema, qual é o número de pobres na\n",
        "população?"
      ],
      "metadata": {
        "id": "iU_EkmKlKxG5"
      }
    },
    {
      "cell_type": "code",
      "source": [
        "# Utilizando uma medida per capita e considerando,\n",
        "# LINHA DE POBREZA = 406,00/mês (correspondente a US$5,50/dia (BANCO MUNDIAL)),\n",
        "# e renda disponível, pois esta simula ambos efeitos sobre a pobreza:\n",
        "# Efeito do Novo Tributo e Efeito da Renda Básica Universal"
      ],
      "metadata": {
        "id": "zJCZLLp9KDD7"
      },
      "execution_count": null,
      "outputs": []
    },
    {
      "cell_type": "code",
      "source": [
        "# Filtrando pobres antigo sistema (Renda Domiciliar Disponível per capita)\n",
        "pnadc.loc[pnadc[\"RDDPC\"]<=406, \"POBRE_ATG\"] = 1\n",
        "pnadc.fillna(value={\"POBRE_ATG\":0},inplace=True)"
      ],
      "metadata": {
        "id": "1Fh0_Z0VK8QE"
      },
      "execution_count": null,
      "outputs": []
    },
    {
      "cell_type": "code",
      "source": [
        "# Filtrando pobres no novo sistema (com Renda Básica Universal) - per capita\n",
        "pnadc.loc[pnadc[\"REND_DISP_PC\"]<=406.00, \"POBRE_RBU\"] = 1\n",
        "pnadc.fillna(value={\"POBRE_RBU\":0},inplace=True)"
      ],
      "metadata": {
        "id": "XlZ8gB7cLkwg"
      },
      "execution_count": null,
      "outputs": []
    },
    {
      "cell_type": "code",
      "source": [
        "# Calculando número de pobres no novo sistema\n",
        "(pnadc[\"PESO\"]*pnadc[\"POBRE_RBU\"]).sum()"
      ],
      "metadata": {
        "colab": {
          "base_uri": "https://localhost:8080/"
        },
        "id": "YXAORIF2Q8_S",
        "outputId": "cd270eef-d1f0-466d-b8b4-7d44fa1f76df"
      },
      "execution_count": null,
      "outputs": [
        {
          "output_type": "execute_result",
          "data": {
            "text/plain": [
              "39137936.0"
            ]
          },
          "metadata": {},
          "execution_count": 15
        }
      ]
    },
    {
      "cell_type": "code",
      "source": [
        "# Calculando número de pobres no antigo sistema\n",
        "(pnadc[\"PESO\"]*pnadc[\"POBRE_ATG\"]).sum()"
      ],
      "metadata": {
        "colab": {
          "base_uri": "https://localhost:8080/"
        },
        "id": "INAjrOp4-QN1",
        "outputId": "97bb5d1c-6881-4f92-c07d-b3bb1f4cd855"
      },
      "execution_count": null,
      "outputs": [
        {
          "output_type": "execute_result",
          "data": {
            "text/plain": [
              "48796226.0"
            ]
          },
          "metadata": {},
          "execution_count": 16
        }
      ]
    },
    {
      "cell_type": "code",
      "source": [
        "# Calculando a variação do número de pobres entre os sistemas\n",
        "(pnadc[\"PESO\"]*pnadc[\"POBRE_RBU\"]).sum() - (pnadc[\"PESO\"]*pnadc[\"POBRE_ATG\"]).sum()"
      ],
      "metadata": {
        "id": "c7Qh06v2LzXS",
        "colab": {
          "base_uri": "https://localhost:8080/"
        },
        "outputId": "faded510-8e6d-4a2e-f9c6-badccefada74"
      },
      "execution_count": null,
      "outputs": [
        {
          "output_type": "execute_result",
          "data": {
            "text/plain": [
              "-9658290.0"
            ]
          },
          "metadata": {},
          "execution_count": 17
        }
      ]
    },
    {
      "cell_type": "markdown",
      "source": [
        "4) Qual é o índice de Gini na nova situação?"
      ],
      "metadata": {
        "id": "cBoOX2fHScs7"
      }
    },
    {
      "cell_type": "code",
      "source": [
        "# Utilizando sufixo _N para nova simulação\n",
        "# Utilizando sufixo _A para antiga simulação"
      ],
      "metadata": {
        "id": "ztAPqwc30z-l"
      },
      "execution_count": null,
      "outputs": []
    },
    {
      "cell_type": "code",
      "source": [
        "###################\n",
        "# Nova simulação\n",
        "###################"
      ],
      "metadata": {
        "id": "g-dtcDx53yCm"
      },
      "execution_count": null,
      "outputs": []
    },
    {
      "cell_type": "code",
      "source": [
        "# Ordenando valores e rearranjando index \n",
        "pnadc.sort_values(by=\"REND_DISP_PC\",ascending=True,inplace=True)\n",
        "pnadc.reset_index(drop=True,inplace=True)"
      ],
      "metadata": {
        "id": "MgmVzsC9zRF7"
      },
      "execution_count": null,
      "outputs": []
    },
    {
      "cell_type": "code",
      "source": [
        "# Calculando renda de acordo com os pesos\n",
        "pnadc[\"renda_N\"] = (pnadc[\"REND_DISP_PC\"])*pnadc[\"PESO\"]"
      ],
      "metadata": {
        "id": "gPnPweJsy9BS"
      },
      "execution_count": null,
      "outputs": []
    },
    {
      "cell_type": "code",
      "source": [
        "# Proporção acumulada da renda\n",
        "pnadc[\"PropAcumRenda_N\"] = (pnadc[\"renda_N\"].cumsum())/(pnadc[\"renda_N\"]).sum()\n",
        "PARN=pnadc[\"PropAcumRenda_N\"]"
      ],
      "metadata": {
        "id": "EqwPwtr7zUWr"
      },
      "execution_count": null,
      "outputs": []
    },
    {
      "cell_type": "code",
      "source": [
        "# Proporção acumulada das pessoas\n",
        "pnadc[\"PropAcumPessoas_N\"] = (pnadc[\"PESO\"].cumsum())/(pnadc[\"PESO\"].sum())\n",
        "PAPN=pnadc[\"PropAcumPessoas_N\"]"
      ],
      "metadata": {
        "id": "0QxWSThlzcGh"
      },
      "execution_count": null,
      "outputs": []
    },
    {
      "cell_type": "code",
      "source": [
        "# Calculando Gini (A/(A+B))\n",
        "# A + B = 0.5\n",
        "# A = 0.5 - B"
      ],
      "metadata": {
        "id": "PrshYvhwzq_S"
      },
      "execution_count": null,
      "outputs": []
    },
    {
      "cell_type": "code",
      "source": [
        "# Gini nova simulação\n",
        "# np.trapz calcula área abaixo da curva\n",
        "# np.trapz(y,x)\n",
        "GINI_N=(0.5 - np.trapz(pnadc[\"PropAcumRenda_N\"],pnadc[\"PropAcumPessoas_N\"]))/0.5"
      ],
      "metadata": {
        "id": "sg4wwPryztM0"
      },
      "execution_count": null,
      "outputs": []
    },
    {
      "cell_type": "code",
      "source": [
        "# Valor do GINI (Nova simulação)\n",
        "GINI_N"
      ],
      "metadata": {
        "colab": {
          "base_uri": "https://localhost:8080/"
        },
        "id": "ma2-iXZVUxIk",
        "outputId": "2ca51a38-59ef-4060-b899-37b3213c3c44"
      },
      "execution_count": null,
      "outputs": [
        {
          "output_type": "execute_result",
          "data": {
            "text/plain": [
              "0.44817294111291994"
            ]
          },
          "metadata": {},
          "execution_count": 26
        }
      ]
    },
    {
      "cell_type": "code",
      "source": [
        "# Plotando gráfico\n",
        "plt.plot([0,1],[0,1], label=\"Curva 45 graus\")\n",
        "plt.plot(pnadc[\"PropAcumPessoas_N\"],pnadc[\"PropAcumRenda_N\"], label = \"Curva de Lorenz - Nova\")\n",
        "plt.xlabel=\"Proporção da População Acumulada\"\n",
        "plt.ylabel=\"Proporção da Renda Acumulada\"\n",
        "plt.legend()\n",
        "plt.show()"
      ],
      "metadata": {
        "colab": {
          "base_uri": "https://localhost:8080/",
          "height": 265
        },
        "id": "qX4z3KKrzjMF",
        "outputId": "724a9ab9-c3a6-42f8-c34f-121456f6bce8"
      },
      "execution_count": null,
      "outputs": [
        {
          "output_type": "display_data",
          "data": {
            "image/png": "[encoded data removed]",
            "text/plain": [
              "<Figure size 432x288 with 1 Axes>"
            ]
          },
          "metadata": {
            "needs_background": "light"
          }
        }
      ]
    },
    {
      "cell_type": "code",
      "source": [
        "###################\n",
        "# Antiga simulação\n",
        "###################"
      ],
      "metadata": {
        "id": "3HiiB6uu0vjN"
      },
      "execution_count": null,
      "outputs": []
    },
    {
      "cell_type": "code",
      "source": [
        "# Ordenando valores e rearranjando index \n",
        "pnadc.sort_values(by=\"RDDPC\",ascending=True,inplace=True)\n",
        "pnadc.reset_index(drop=True,inplace=True)"
      ],
      "metadata": {
        "id": "YO9EEbfS4JMS"
      },
      "execution_count": null,
      "outputs": []
    },
    {
      "cell_type": "code",
      "source": [
        "# Calculando renda de acordo com os pesos\n",
        "pnadc[\"renda_A\"] = (pnadc[\"RDDPC\"])*pnadc[\"PESO\"]"
      ],
      "metadata": {
        "id": "94sTGPCN33X2"
      },
      "execution_count": null,
      "outputs": []
    },
    {
      "cell_type": "code",
      "source": [
        "# Proporção acumulada da renda\n",
        "pnadc[\"PropAcumRenda_A\"] = pnadc[\"renda_A\"].cumsum()/pnadc[\"renda_A\"].sum()\n",
        "PARA=pnadc[\"PropAcumRenda_A\"]"
      ],
      "metadata": {
        "id": "fSf-Y9OS4JLb"
      },
      "execution_count": null,
      "outputs": []
    },
    {
      "cell_type": "code",
      "source": [
        "# Proporção acumulada das pessoas\n",
        "pnadc[\"PropAcumPessoas_A\"] = pnadc[\"PESO\"].cumsum()/pnadc[\"PESO\"].sum()\n",
        "PAPA=pnadc[\"PropAcumPessoas_A\"]"
      ],
      "metadata": {
        "id": "ZSyubgmH4R08"
      },
      "execution_count": null,
      "outputs": []
    },
    {
      "cell_type": "code",
      "source": [
        "# Gini antiga simulação\n",
        "# np.trapz calcula área abaixo da curva\n",
        "# np.trapz(y,x)\n",
        "GINI_A = (0.5 - np.trapz(pnadc[\"PropAcumRenda_A\"],pnadc[\"PropAcumPessoas_A\"]))/0.5"
      ],
      "metadata": {
        "id": "nODUhQ_k4Yia"
      },
      "execution_count": null,
      "outputs": []
    },
    {
      "cell_type": "code",
      "source": [
        "# Valor do GINI (Antiga simulação)\n",
        "GINI_A"
      ],
      "metadata": {
        "colab": {
          "base_uri": "https://localhost:8080/"
        },
        "id": "TdD3JTyTVJ3M",
        "outputId": "09a76f89-1729-4890-b583-9416809aba0b"
      },
      "execution_count": null,
      "outputs": [
        {
          "output_type": "execute_result",
          "data": {
            "text/plain": [
              "0.5064842885097249"
            ]
          },
          "metadata": {},
          "execution_count": 34
        }
      ]
    },
    {
      "cell_type": "code",
      "source": [
        "# Plotando gráfico\n",
        "plt.plot([0,1],[0,1], label=\"Curva 45 graus\")\n",
        "plt.plot(pnadc[\"PropAcumPessoas_A\"],pnadc[\"PropAcumRenda_A\"], label = \"Curva de Lorenz - Antiga\")\n",
        "plt.xlabel=\"Proporção da População Acumulada\"\n",
        "plt.ylabel=\"Proporção da Renda Acumulada\"\n",
        "plt.legend()\n",
        "plt.show()"
      ],
      "metadata": {
        "colab": {
          "base_uri": "https://localhost:8080/",
          "height": 265
        },
        "id": "WDoMxNeu4emv",
        "outputId": "16345755-2c6d-4c93-918e-3bbf7a32c3aa"
      },
      "execution_count": null,
      "outputs": [
        {
          "output_type": "display_data",
          "data": {
            "image/png": "[encoded data removed]",
            "text/plain": [
              "<Figure size 432x288 with 1 Axes>"
            ]
          },
          "metadata": {
            "needs_background": "light"
          }
        }
      ]
    },
    {
      "cell_type": "code",
      "source": [
        "# Comparando ambas curva de Lorenz - Gráfico\n",
        "pnadc.reset_index(drop=True,inplace=True)\n",
        "plt.plot([0,1],[0,1], label=\"Curva 45 graus\")\n",
        "plt.plot(PAPA,PARA, label = \"Curva de Lorenz - Antiga\")\n",
        "plt.plot(PAPN,PARN, label = \"Curva de Lorenz - Nova\")\n",
        "plt.xlabel=\"Proporção da População Acumulada\"\n",
        "plt.ylabel=\"Proporção da Renda Acumulada\"\n",
        "plt.legend()\n",
        "plt.show()"
      ],
      "metadata": {
        "colab": {
          "base_uri": "https://localhost:8080/",
          "height": 265
        },
        "id": "uCYQsXfE5tIh",
        "outputId": "f4d1c4ab-998a-4934-bf9d-d66a7fb6f984"
      },
      "execution_count": null,
      "outputs": [
        {
          "output_type": "display_data",
          "data": {
            "image/png": "[encoded data removed]",
            "text/plain": [
              "<Figure size 432x288 with 1 Axes>"
            ]
          },
          "metadata": {
            "needs_background": "light"
          }
        }
      ]
    },
    {
      "cell_type": "code",
      "source": [
        "# Variação do GINI\n",
        "(GINI_N - GINI_A)"
      ],
      "metadata": {
        "id": "_zCDeVL66u2-",
        "colab": {
          "base_uri": "https://localhost:8080/"
        },
        "outputId": "f9ae19f0-3e3f-40d0-db1f-d9711dcd77c0"
      },
      "execution_count": null,
      "outputs": [
        {
          "output_type": "execute_result",
          "data": {
            "text/plain": [
              "-0.05831134739680499"
            ]
          },
          "metadata": {},
          "execution_count": 37
        }
      ]
    }
  ]
}
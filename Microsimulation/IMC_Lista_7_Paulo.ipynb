{
  "nbformat": 4,
  "nbformat_minor": 0,
  "metadata": {
    "colab": {
      "name": "IMC - Lista 7 - Paulo Francisco.ipynb",
      "provenance": [],
      "collapsed_sections": []
    },
    "kernelspec": {
      "name": "python3",
      "display_name": "Python 3"
    },
    "language_info": {
      "name": "python"
    }
  },
  "cells": [
    {
      "cell_type": "code",
      "metadata": {
        "id": "_21T6BHldHxv"
      },
      "source": [
        "#Universidade Federal de Pernambuco\n",
        "#Disciplina: Introdução a Microssimulação\n",
        "#Professor: Jose Ricardo Nogueira\n",
        "#Aluno: Paulo Francisco da Silva Junior"
      ],
      "execution_count": null,
      "outputs": []
    },
    {
      "cell_type": "code",
      "metadata": {
        "id": "9Py8FjoVdMKY"
      },
      "source": [
        "#importações\n",
        "import pandas as pd"
      ],
      "execution_count": null,
      "outputs": []
    },
    {
      "cell_type": "markdown",
      "metadata": {
        "id": "Qv5s8nA3dQtk"
      },
      "source": [
        "Simulando Imposto de Renda Pessoa Física (IRPF) 2020 (Ano base 2019 - PNADC - 2019)"
      ]
    },
    {
      "cell_type": "code",
      "metadata": {
        "id": "NstKwi5bdOru"
      },
      "source": [
        "#Importando banco\n",
        "pnadc = pd.read_csv(\"/content/drive/MyDrive/Microsimulação/PNADC_2019_S_C.csv\",sep=\";\",decimal=\".\",dtype=float,na_values=\" \")"
      ],
      "execution_count": null,
      "outputs": []
    },
    {
      "cell_type": "code",
      "metadata": {
        "id": "xMRhTXVfdaac"
      },
      "source": [
        "#OBS: SIMULAÇÃO APENAS DO IRPF SOBRE O SALÁRIO"
      ],
      "execution_count": null,
      "outputs": []
    },
    {
      "cell_type": "code",
      "metadata": {
        "id": "_YT-l-zyd68t"
      },
      "source": [
        "#PARCELA ISENTA DE APOSENTADORIA (>65 ANOS)\n",
        "pnadc.loc[( (pnadc[\"V2009\"]>= 65) & ( pnadc[\"V5004A2\"] >= 1903.98)), \"PISENT65\"]= 1903.98\n",
        "pnadc.loc[( (pnadc[\"V2009\"]>= 65) & ( pnadc[\"V5004A2\"] <  1903.98)),  \"PISENT65\"]= pnadc[\"V5004A2\"]\n",
        "pnadc.fillna(value={\"PISENT65\":0},inplace=True)"
      ],
      "execution_count": null,
      "outputs": []
    },
    {
      "cell_type": "code",
      "metadata": {
        "id": "DQNf2G6Md67p"
      },
      "source": [
        "#PARCELA ISENTA DE ABONO ANUAL (>65 ANOS)\n",
        "#Divide-se o valor da faixa de isencao por 12, pois o abono e concedido apenas 1 vez no ano e ja se encontra mensalizado.\n",
        "#Alternativamente, pode-se mensalizar o proprio calculo deste beneficio"
      ],
      "execution_count": null,
      "outputs": []
    },
    {
      "cell_type": "code",
      "metadata": {
        "id": "Kyv1ITC5d64h"
      },
      "source": [
        "pnadc.loc[( (pnadc[\"V2009\"] >= 65) & (pnadc[\"ABONOA\"] >= (1903.98/12) )), \"PIABONOA\"] = 1903.98\n",
        "pnadc.loc[( (pnadc[\"V2009\"] >= 65) & (pnadc[\"ABONOA\"] <  (1903.98/12) )), \"PIABONOA\"] = pnadc[\"ABONOA\"]\n",
        "pnadc.fillna(value={\"PIABONOA\":0},inplace=True)"
      ],
      "execution_count": null,
      "outputs": []
    },
    {
      "cell_type": "code",
      "metadata": {
        "id": "Xr9LN2Tld6sk"
      },
      "source": [
        "#CALCULO DOS RENDIMENTOS TRIBUTÁVEIS\n",
        "pnadc[\"RTB\"] = (pnadc[\"V403312\"] + pnadc[\"V405012\"] + \\\n",
        "                pnadc[\"V405812\"] + pnadc[\"V5004A2\"] + \\\n",
        "                pnadc[\"V5006A2\"] + pnadc[\"V5007A2\"] + \\\n",
        "                pnadc[\"AFERIAS\"] + pnadc[\"ABOSAL\"] - pnadc[\"PISENT65\"])\n",
        "\n",
        "pnadc.fillna(value={\"RTB\":0},inplace=True)"
      ],
      "execution_count": null,
      "outputs": []
    },
    {
      "cell_type": "code",
      "metadata": {
        "id": "3LfG4-utkD0g"
      },
      "source": [
        "# NUMERO DE DEPENDENTES"
      ],
      "execution_count": null,
      "outputs": []
    },
    {
      "cell_type": "code",
      "metadata": {
        "id": "17RECpC8kT50"
      },
      "source": [
        "pnadc.loc[(((pnadc[\"V2005\"]==2) | (pnadc[\"V2005\"]==3)) & (pnadc[\"RTB\"]<=1903.98)) | \\\n",
        "          (((pnadc[\"V2005\"]==4) | (pnadc[\"V2005\"]==5) | (pnadc[\"V2005\"]==6)) & (pnadc[\"V2009\"]<=21) & (pnadc[\"RTB\"]<=1903.98)) | \\\n",
        "          (((pnadc[\"V2005\"]==4) | (pnadc[\"V2005\"]==5) | (pnadc[\"V2005\"]==6)) & (pnadc[\"V2009\"]<=24) & ((pnadc[\"V3003A\"]==8) | (pnadc[\"V3003A\"]==9) | (pnadc[\"V3003A\"]==10) | (pnadc[\"V3003A\"]==11)) & (pnadc[\"RTB\"]<=1903.98)) | \\\n",
        "          (((pnadc[\"V2005\"]==8) | (pnadc[\"V2005\"]==13)) & (pnadc[\"RTB\"]<= 1903.98)) | \\\n",
        "          (((pnadc[\"V2005\"]==10) | (pnadc[\"V2005\"]==11) | (pnadc[\"V2005\"]==12)) & (pnadc[\"V2009\"]<=24) & ((pnadc[\"V3003A\"]==8) | (pnadc[\"V3003A\"]==9) | (pnadc[\"V3003A\"]==10) | (pnadc[\"V3003A\"]==11)) & (pnadc[\"RTB\"]<=1903.98)), \"DEP\"]=1"
      ],
      "execution_count": null,
      "outputs": []
    },
    {
      "cell_type": "code",
      "metadata": {
        "id": "EayE93bfH3-8"
      },
      "source": [
        "pnadc.loc[(pnadc[\"V3002A\"]==1) & ( (((pnadc[\"V2005\"]==2) | (pnadc[\"V2005\"]==3)) & (pnadc[\"RTB\"]<= 1903.98)) \n",
        "          | (((pnadc[\"V2005\"]==4) | (pnadc[\"V2005\"]==5) | (pnadc[\"V2005\"]==6)) & (pnadc[\"V2009\"]<=21) & (pnadc[\"RTB\"]<= 1903.98))\n",
        "          | (((pnadc[\"V2005\"]==4) | (pnadc[\"V2005\"]==5) | (pnadc[\"V2005\"]==6)) & (pnadc[\"V2009\"]<=24) & ((pnadc[\"V3003A\"]==8) | (pnadc[\"V3003A\"]==9) | (pnadc[\"V3003A\"]==10) | (pnadc[\"V3003A\"]==11)) & (pnadc[\"RTB\"]<=1903.98))\n",
        "          | (((pnadc[\"V2005\"]==1) | (pnadc[\"V2005\"]==11) | (pnadc[\"V2005\"]==12)) & (pnadc[\"V2009\"]<=24) & ((pnadc[\"V3003A\"]==8) | (pnadc[\"V3003A\"]==9) | (pnadc[\"V3003A\"]==10) | (pnadc[\"V3003A\"]==11)) & (pnadc[\"RTB\"]<=1903.98))),\"DEPINST\"]=1"
      ],
      "execution_count": null,
      "outputs": []
    },
    {
      "cell_type": "code",
      "metadata": {
        "id": "Ce2h2BQ7KdWR"
      },
      "source": [
        "pnadc.loc[(((pnadc[\"V2005\"]==2) | (pnadc[\"V2005\"]==3)) & (pnadc[\"RTB\"]<= 1903.98)) | \\\n",
        "          (((pnadc[\"V2005\"]==4) | (pnadc[\"V2005\"]==5) | (pnadc[\"V2005\"]==6)) & (pnadc[\"V2009\"]<=21) & (pnadc[\"RTB\"]<= 1903.98)) | \\\n",
        "          (((pnadc[\"V2005\"]==4) | (pnadc[\"V2005\"]==5) | (pnadc[\"V2005\"]==6)) & (pnadc[\"V2009\"]<=24) & ((pnadc[\"V3003A\"]==8) | (pnadc[\"V3003A\"]==9) | (pnadc[\"V3003A\"]==10) | (pnadc[\"V3003A\"]==11)) & (pnadc[\"RTB\"]<= 1903.98)) | \\\n",
        "          (((pnadc[\"V2005\"]==8) | (pnadc[\"V2005\"]==13)) & (pnadc[\"RTB\"]<= 1903.98)) | \\\n",
        "          (((pnadc[\"V2005\"]==10) | (pnadc[\"V2005\"]==11) | (pnadc[\"V2005\"]==12)) & (pnadc[\"V2009\"]<=24) & ((pnadc[\"V3003A\"]==8) | (pnadc[\"V3003A\"]==9) | (pnadc[\"V3003A\"]==10) | (pnadc[\"V3003A\"]==11))) & \\\n",
        "            (pnadc[\"RTB\"]<=1903.98), \"RTBD\"] = pnadc[\"RTB\"]"
      ],
      "execution_count": null,
      "outputs": []
    },
    {
      "cell_type": "code",
      "metadata": {
        "id": "glBBuq3FNXEI"
      },
      "source": [
        "#Juntando e renomeando tabelas\n",
        "pnadc.fillna(value={\"DEP\":0, \"DEPINST\":0, \"RTBD\":0},inplace=True)\n",
        "pnadc=pnadc.join(pnadc.groupby('CHAVE.D')[\"DEP\",\"DEPINST\",\"RTBD\"].sum(), on='CHAVE.D',rsuffix=\"_post\")\n",
        "pnadc.rename(columns={\"DEP_post\":\"NDEP\", \"DEPINST_post\":\"NDEPINST\", \"RTBD_post\":\"RTBDEP\"},inplace=True)\n",
        "pnadc.fillna(value={\"NDEP\":0, \"NDEPINST\":0, \"RTBDEP\":0},inplace=True)"
      ],
      "execution_count": null,
      "outputs": []
    },
    {
      "cell_type": "code",
      "metadata": {
        "id": "6I_gBMKIPKGV"
      },
      "source": [
        "#RENDIMENTOS TRIBUTAVEIS DA PESSOA DE REFERÊNCIA (INCLUINDO OS DOS DEPENDENTES)\n",
        "pnadc.loc[pnadc[\"V2005\"]!=1,[\"RTBDEP\", \"NDEP\"]]=0\n",
        "pnadc.loc[pnadc[\"DEP\"]==1,\"RTB\"]=0\n",
        "pnadc[\"RENDTRIB\"] = round((pnadc[\"RTB\"] + pnadc[\"RTBDEP\"]),2)"
      ],
      "execution_count": null,
      "outputs": []
    },
    {
      "cell_type": "code",
      "metadata": {
        "id": "B7LsvosKQwr8"
      },
      "source": [
        "#DEDUCOES"
      ],
      "execution_count": null,
      "outputs": []
    },
    {
      "cell_type": "code",
      "metadata": {
        "id": "gkT9GGyaRYLV"
      },
      "source": [
        "#DEDUCAO COM DEPENDENTES\n",
        "pnadc.loc[pnadc[\"V2005\"]==1,\"DEDDEP\"]= 189.59 * pnadc[\"NDEP\"]\n",
        "pnadc.fillna(value={\"DEDDEP\":0},inplace=True)"
      ],
      "execution_count": null,
      "outputs": []
    },
    {
      "cell_type": "code",
      "metadata": {
        "id": "0mwGrswORrOd"
      },
      "source": [
        "#DEDUCAO COM INSTRUCAO\n",
        "#Assume-se que todos tenham direito ao valor maximo da deducao com instrucao\n",
        "\n",
        "pnadc.loc[(pnadc[\"V2005\"]==1) & (pnadc[\"RTB\"]>1903.98), \"DEDINST\"] = 296.79 * pnadc[\"NDEPINST\"]\n",
        "pnadc.loc[(pnadc[\"V2005\"]==1) & (pnadc[\"V3002A\"]==1) & (pnadc[\"RENDTRIB\"]> 1903.98),\"DEDINST\"] = 296.79 + pnadc[\"DEDINST\"]\n",
        "pnadc.loc[(pnadc[\"V2005\"]!=1) & (pnadc[\"DEPINST\"]!=1) & (pnadc[\"V3002A\"]==1) & (pnadc[\"RENDTRIB\"] > 1903.98), \"DEDINST\"] = 296.79\n",
        "pnadc.loc[pnadc[\"RD\"]==0, \"DEDINST\"] = 0"
      ],
      "execution_count": null,
      "outputs": []
    },
    {
      "cell_type": "code",
      "metadata": {
        "id": "dL6WUen-S6_q"
      },
      "source": [
        "#DEDUCAO COM SAUDE\n",
        "#O calculo da deducao com despesas medicas e realizado a partir da imputacao na PNAD dos valores medios de despesas medicas, por faixa de rendimento tributavel, reportadas pela Receita Federal\n",
        "#As informacoes sao obtidas a partir da Tabela 7 do documento \"Grandes Numeros IRPF - Ano calendario 2019, Exercicio 2020\".\n",
        "#São criadas faixas de renda tirbutavel iguais as da tabela da Receita Federal, e, para cada faixa, e atribudo o valior medio mensal da despesa medica reportado na referida tabela."
      ],
      "execution_count": null,
      "outputs": []
    },
    {
      "cell_type": "code",
      "metadata": {
        "id": "FIQ_LdrrSvW7"
      },
      "source": [
        "pnadc.loc[(pnadc[\"RENDTRIB\"]>=0) & (pnadc[\"RENDTRIB\"]<=400), \"FRENDTRIB\"] = 1\n",
        "pnadc.loc[(pnadc[\"RENDTRIB\"]>=400.01) & (pnadc[\"RENDTRIB\"]<=880), \"FRENDTRIB\"] = 2\n",
        "pnadc.loc[(pnadc[\"RENDTRIB\"]>=880.01) & (pnadc[\"RENDTRIB\"]<=1760), \"FRENDTRIB\"] = 3\n",
        "pnadc.loc[(pnadc[\"RENDTRIB\"]>=1760.01) & (pnadc[\"RENDTRIB\"]<=2640), \"FRENDTRIB\"] = 4\n",
        "pnadc.loc[(pnadc[\"RENDTRIB\"]>=2640.01) & (pnadc[\"RENDTRIB\"]<=4400), \"FRENDTRIB\"] = 5\n",
        "pnadc.loc[(pnadc[\"RENDTRIB\"]>=4400.01) & (pnadc[\"RENDTRIB\"]<=6160), \"FRENDTRIB\"] = 6\n",
        "pnadc.loc[(pnadc[\"RENDTRIB\"]>=6160.01) & (pnadc[\"RENDTRIB\"]<=8800), \"FRENDTRIB\"] = 7\n",
        "pnadc.loc[(pnadc[\"RENDTRIB\"]>=8800.01) & (pnadc[\"RENDTRIB\"]<=13200), \"FRENDTRIB\"] = 8\n",
        "pnadc.loc[(pnadc[\"RENDTRIB\"]>=13200.01) & (pnadc[\"RENDTRIB\"]<=17600), \"FRENDTRIB\"] = 9 \n",
        "pnadc.loc[(pnadc[\"RENDTRIB\"]>=17600.01) & (pnadc[\"RENDTRIB\"]<=26400), \"FRENDTRIB\"] = 10 \n",
        "pnadc.loc[(pnadc[\"RENDTRIB\"]>=26400.01) & (pnadc[\"RENDTRIB\"]<=35200), \"FRENDTRIB\"] = 11\n",
        "pnadc.loc[(pnadc[\"RENDTRIB\"]>=35200.01) & (pnadc[\"RENDTRIB\"]<=52800), \"FRENDTRIB\"] = 12\n",
        "pnadc.loc[(pnadc[\"RENDTRIB\"]>=52800.01) & (pnadc[\"RENDTRIB\"]<=70400), \"FRENDTRIB\"] = 13\n",
        "pnadc.loc[(pnadc[\"RENDTRIB\"]>=70400.01) & (pnadc[\"RENDTRIB\"]<=140800), \"FRENDTRIB\"] = 14\n",
        "pnadc.loc[(pnadc[\"RENDTRIB\"]>=140800.01) & (pnadc[\"RENDTRIB\"]<=211200), \"FRENDTRIB\"] = 15\n",
        "pnadc.loc[(pnadc[\"RENDTRIB\"]>=211200.01) & (pnadc[\"RENDTRIB\"]<=281600), \"FRENDTRIB\"] = 16\n",
        "pnadc.loc[(pnadc[\"RENDTRIB\"]>281600), \"FRENDTRIB\"] =  17"
      ],
      "execution_count": null,
      "outputs": []
    },
    {
      "cell_type": "code",
      "metadata": {
        "id": "WhHrdjrrXMTx"
      },
      "source": [
        "pnadc.loc[pnadc[\"FRENDTRIB\"]==1, \"DM_IRPF\"] = 59.42\n",
        "pnadc.loc[pnadc[\"FRENDTRIB\"]==2, \"DM_IRPF\"] = 38.76\n",
        "pnadc.loc[pnadc[\"FRENDTRIB\"]==3, \"DM_IRPF\"] = 50.71\n",
        "pnadc.loc[pnadc[\"FRENDTRIB\"]==4, \"DM_IRPF\"] = 57.03\n",
        "pnadc.loc[pnadc[\"FRENDTRIB\"]==5, \"DM_IRPF\"] = 166.16\n",
        "pnadc.loc[pnadc[\"FRENDTRIB\"]==6, \"DM_IRPF\"] = 285.85\n",
        "pnadc.loc[pnadc[\"FRENDTRIB\"]==7, \"DM_IRPF\"] = 401.84\n",
        "pnadc.loc[pnadc[\"FRENDTRIB\"]==8, \"DM_IRPF\"] = 604.72\n",
        "pnadc.loc[pnadc[\"FRENDTRIB\"]==9, \"DM_IRPF\"] = 828.84 \n",
        "pnadc.loc[pnadc[\"FRENDTRIB\"]==10, \"DM_IRPF\"] = 1069.89\n",
        "pnadc.loc[pnadc[\"FRENDTRIB\"]==11, \"DM_IRPF\"] = 1371.84\n",
        "pnadc.loc[pnadc[\"FRENDTRIB\"]==12, \"DM_IRPF\"] = 1357.14\n",
        "pnadc.loc[pnadc[\"FRENDTRIB\"]==13, \"DM_IRPF\"] = 1361.84\n",
        "pnadc.loc[pnadc[\"FRENDTRIB\"]==14, \"DM_IRPF\"] = 1576.34\n",
        "pnadc.loc[pnadc[\"FRENDTRIB\"]==15, \"DM_IRPF\"] = 1833.50\n",
        "pnadc.loc[pnadc[\"FRENDTRIB\"]==16, \"DM_IRPF\"] = 1859.10\n",
        "pnadc.loc[pnadc[\"FRENDTRIB\"]==17, \"DM_IRPF\"] = 2515.63\n",
        "\n",
        "pnadc.loc[pnadc[\"RTB\"]>1903.98, \"DEDSAUDE\"] = pnadc[\"DM_IRPF\"]\n",
        "pnadc.loc[pnadc[\"RD\"]==0,\"DEDSAUDE\"] = 0\n",
        "\n",
        "pnadc.fillna(value={\"DEDSAUDE\":0},inplace=True)"
      ],
      "execution_count": null,
      "outputs": []
    },
    {
      "cell_type": "code",
      "metadata": {
        "id": "1oMr6ozkYeRT"
      },
      "source": [
        "#CALCULO DO IMPOSTO (DECLARACAO COMPLETA)"
      ],
      "execution_count": null,
      "outputs": []
    },
    {
      "cell_type": "code",
      "metadata": {
        "id": "g8IViLLnYBUW"
      },
      "source": [
        "#Total de Contribuicoes\n",
        "pnadc[\"CONT\"] = pnadc[\"CONTE\"] + pnadc[\"CONTED\"] + pnadc[\"CONTIND\"] + pnadc[\"CONTFED\"] + pnadc[\"CONTEST\"] + pnadc[\"CONTMIL\"] + pnadc[\"CONTMUN\"] + pnadc[\"CONTAPOSENT\"]"
      ],
      "execution_count": null,
      "outputs": []
    },
    {
      "cell_type": "code",
      "metadata": {
        "id": "I8-fPgU6YcIb"
      },
      "source": [
        "#Base de Calculo da Declaracao Completa\n",
        "pnadc[\"BASECAL1\"] = pnadc[\"RENDTRIB\"] - pnadc[\"CONT\"] - pnadc[\"DEDDEP\"] - pnadc[\"DEDINST\"] - pnadc[\"DEDSAUDE\"]\n",
        "pnadc.fillna(value={\"BASECAL1\":0},inplace=True)"
      ],
      "execution_count": null,
      "outputs": []
    },
    {
      "cell_type": "code",
      "metadata": {
        "id": "koV_x9BAY3Kv"
      },
      "source": [
        "#CALCULO DO IMPOSTO - SALARIO\n",
        "pnadc.loc[(pnadc[\"BASECAL1\"] <= 1903.98), \"IIRPF\"] = 0\n",
        "pnadc.loc[(pnadc[\"BASECAL1\"] > 1903.98) & (pnadc[\"BASECAL1\"] <= 2826.65), \"IRPF\"] = 0.075*(pnadc[\"BASECAL1\"] - 1903.98)\n",
        "pnadc.loc[(pnadc[\"BASECAL1\"] > 2826.65) & (pnadc[\"BASECAL1\"] <= 3751.05), \"IRPF\"] = 0.075 * 922.67+ 0.15 * (pnadc[\"BASECAL1\"] - 2826.65)\n",
        "pnadc.loc[(pnadc[\"BASECAL1\"] > 3751.05) & (pnadc[\"BASECAL1\"] <= 4664.68), \"IRPF\"] = 0.075 * 922.67 + 0.15 * 924.39 + 0.225 * (pnadc[\"BASECAL1\"] - 3751.05)\n",
        "pnadc.loc[(pnadc[\"BASECAL1\"] > 4664.68), \"IRPF\"] = 0.075 * 922.67 + 0.15 * 924.39 + 0.225 * 913.62 + 0.275 * (pnadc[\"BASECAL1\"] - 4664.68)"
      ],
      "execution_count": null,
      "outputs": []
    },
    {
      "cell_type": "markdown",
      "metadata": {
        "id": "8gANvnuedZqg"
      },
      "source": [
        "Depois de realizar a simulação, calcule o valor total arrecadado com o\n",
        "imposto de renda pessoa física.\n"
      ]
    },
    {
      "cell_type": "code",
      "metadata": {
        "id": "EtQyzbZpQYxQ"
      },
      "source": [
        "#Calculo não anualizado\n",
        "(pnadc[\"IRPF\"]*pnadc[\"V1032\"]).sum()"
      ],
      "execution_count": null,
      "outputs": []
    },
    {
      "cell_type": "markdown",
      "metadata": {
        "id": "1S6lXwnJdbm4"
      },
      "source": [
        "Suponha que o IRPF seja substituído por um imposto de alíquotas única\n",
        "(flat rate tax). Modifique a sintaxe do imposto sobre a renda e calcule o\n",
        "total arrecadado com o novo imposto. [utilize uma alíquota única de 20%].\n",
        "\n",
        "Utilizarei o sufixo _u para esta operação"
      ]
    },
    {
      "cell_type": "code",
      "metadata": {
        "id": "_xC6-wSHf7fg"
      },
      "source": [
        "#Com alicota unica podemos simplificar e juntar as faixas de amplitude e realizar o novo cálculo"
      ],
      "execution_count": null,
      "outputs": []
    },
    {
      "cell_type": "code",
      "metadata": {
        "id": "LyWJmQN2dd6c"
      },
      "source": [
        "#CALCULO DO IMPOSTO - SALARIO\n",
        "pnadc.loc[(pnadc[\"BASECAL1\"] <= 1903.98), \"IIRPF_u\"] = 0\n",
        "pnadc.loc[(pnadc[\"BASECAL1\"] > 1903.98) & (pnadc[\"BASECAL1\"] <= 2826.65), \"IRPF_u\"] = 0.2*(pnadc[\"BASECAL1\"] - 1903.98)\n",
        "pnadc.loc[(pnadc[\"BASECAL1\"] > 2826.65) & (pnadc[\"BASECAL1\"] <= 3751.05), \"IRPF_u\"] = 0.2 * 922.67 + 0.2 * (pnadc[\"BASECAL1\"] - 2826.65)\n",
        "pnadc.loc[(pnadc[\"BASECAL1\"] > 3751.05) & (pnadc[\"BASECAL1\"] <= 4664.68), \"IRPF_u\"] = 0.2 * (922.67 + 924.39) + 0.2 * (pnadc[\"BASECAL1\"] - 3751.05)\n",
        "pnadc.loc[(pnadc[\"BASECAL1\"] > 4664.68), \"IRPF_u\"] = 0.2 * (922.67 + 924.39 + 913.62) + 0.2 * (pnadc[\"BASECAL1\"] - 4664.68)"
      ],
      "execution_count": null,
      "outputs": []
    },
    {
      "cell_type": "code",
      "metadata": {
        "id": "FB2YeJt-ce_M"
      },
      "source": [
        "#Calculo não anualizado\n",
        "(pnadc[\"IRPF_u\"]*pnadc[\"V1032\"]).sum()"
      ],
      "execution_count": null,
      "outputs": []
    },
    {
      "cell_type": "code",
      "metadata": {
        "id": "CBR26rvnfs59"
      },
      "source": [
        ""
      ],
      "execution_count": null,
      "outputs": []
    }
  ]
}

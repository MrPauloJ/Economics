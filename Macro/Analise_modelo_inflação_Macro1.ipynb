{
 "cells": [
  {
   "cell_type": "code",
   "execution_count": null,
   "outputs": [],
   "id": "e24ce3f1-5ba9-4f28-b188-5aabde0cbfaa",
   "metadata": {},
   "source": [
    "#Universidade Federal de Pernambuco\n",
    "#Disciplina: Macro 1\n",
    "#Professor: Marcelo Silva\n",
    "#Aluno: Paulo Francisco da Silva Junior"
   ]
  },
  {
   "cell_type": "code",
   "execution_count": 57,
   "id": "3a9da41b-1fd9-44d4-bf87-e0df95640f4a",
   "metadata": {},
   "outputs": [],
   "source": [
    "#Importação de bibliotecas\n",
    "import pandas as pd\n",
    "import matplotlib.pyplot as plt\n",
    "import matplotlib.pyplot as figure\n",
    "import numpy as np"
   ]
  },
  {
   "cell_type": "markdown",
   "execution_count": null,
   "id": "7c0f751a-0585-44ef-815c-e4107ce2a4d4",
   "metadata": {},
   "outputs": [],
   "source": [
    "Letra B) Considere agora a seguinte curva de Phillips: <br>",
    "π(t) = πe(t) + 0,1 − 2(ut − un) <br>",
    "onde ut é a taxa de desemprego e π_bar = 2%. Suponha que ut = 5%, θ = 0,5 e un = 4%. Calcule a taxa de inflação para 10 períodos à frente. ",
    "Mostre numa tabela seus resultados."
   ]
  },
  {
   "cell_type": "code",
   "execution_count": 61,
   "id": "7bb84f2f-9407-4e62-9bf6-be4509467755",
   "metadata": {},
   "outputs": [],
   "source": [
    "#Lista do resultado do modelo de inflação dado\n",
    "inflacaoModelB=list()"
   ]
  },
  {
   "cell_type": "code",
   "execution_count": 62,
   "id": "570c1857-efd4-4757-a94e-1c09630b8f81",
   "metadata": {},
   "outputs": [],
   "source": [
    "#Interação do calculo\n",
    "#inflacaoModelB=(1-O)*pd+O*p[t-1] +0.1 - 2* (Ut-Un)\n",
    "#inflacaoModelB=(1-0.5)*0.02 + 0.5*inflacaoModelB[t-1] + 0.1 - 2 (0.05-0.04)\n",
    "#inflacaoModelC= 0.11 + 0.5* inflacaoModelC[t-1] - 2 * (0.01)\n",
    "#inflacaoModelB=0.09 + 0.5* inflacaoModelB[t-1]\n",
    "\n",
    "#Começando em 0, o primeiro dado será 0.09\n",
    "inflacaoModelB.append(0.09)\n",
    "\n",
    "#Elaborando a inflação em 10 periodos\n",
    "for t in range(1,11):\n",
    "    inflacaoModelB.append(0.09 + 0.5 * inflacaoModelB[t-1])"
   ]
  },
  {
   "cell_type": "code",
   "execution_count": 63,
   "id": "b48cfa70-dff2-4037-997e-f11d74e2917f",
   "metadata": {},
   "outputs": [],
   "source": [
    "#Montando a tabela\n",
    "tabelaB=pd.DataFrame(inflacaoModelB,columns=[\"Inflação no período\"])"
   ]
  },
  {
   "cell_type": "code",
   "execution_count": 64,
   "id": "9b5aef6f-1861-4e70-a720-eb55880654a7",
   "metadata": {},
   "outputs": [
    {
     "data": {
      "text/html": [
       "<div>\n",
       "<style scoped>\n",
       "    .dataframe tbody tr th:only-of-type {\n",
       "        vertical-align: middle;\n",
       "    }\n",
       "\n",
       "    .dataframe tbody tr th {\n",
       "        vertical-align: top;\n",
       "    }\n",
       "\n",
       "    .dataframe thead th {\n",
       "        text-align: right;\n",
       "    }\n",
       "</style>\n",
       "<table border=\"1\" class=\"dataframe\">\n",
       "  <thead>\n",
       "    <tr style=\"text-align: right;\">\n",
       "      <th></th>\n",
       "      <th>Inflação no período</th>\n",
       "    </tr>\n",
       "  </thead>\n",
       "  <tbody>\n",
       "    <tr>\n",
       "      <th>0</th>\n",
       "      <td>0.090000</td>\n",
       "    </tr>\n",
       "    <tr>\n",
       "      <th>1</th>\n",
       "      <td>0.135000</td>\n",
       "    </tr>\n",
       "    <tr>\n",
       "      <th>2</th>\n",
       "      <td>0.157500</td>\n",
       "    </tr>\n",
       "    <tr>\n",
       "      <th>3</th>\n",
       "      <td>0.168750</td>\n",
       "    </tr>\n",
       "    <tr>\n",
       "      <th>4</th>\n",
       "      <td>0.174375</td>\n",
       "    </tr>\n",
       "    <tr>\n",
       "      <th>5</th>\n",
       "      <td>0.177187</td>\n",
       "    </tr>\n",
       "    <tr>\n",
       "      <th>6</th>\n",
       "      <td>0.178594</td>\n",
       "    </tr>\n",
       "    <tr>\n",
       "      <th>7</th>\n",
       "      <td>0.179297</td>\n",
       "    </tr>\n",
       "    <tr>\n",
       "      <th>8</th>\n",
       "      <td>0.179648</td>\n",
       "    </tr>\n",
       "    <tr>\n",
       "      <th>9</th>\n",
       "      <td>0.179824</td>\n",
       "    </tr>\n",
       "    <tr>\n",
       "      <th>10</th>\n",
       "      <td>0.179912</td>\n",
       "    </tr>\n",
       "  </tbody>\n",
       "</table>\n",
       "</div>"
      ],
      "text/plain": [
       "    Inflação no período\n",
       "0              0.090000\n",
       "1              0.135000\n",
       "2              0.157500\n",
       "3              0.168750\n",
       "4              0.174375\n",
       "5              0.177187\n",
       "6              0.178594\n",
       "7              0.179297\n",
       "8              0.179648\n",
       "9              0.179824\n",
       "10             0.179912"
      ]
     },
     "execution_count": 64,
     "metadata": {},
     "output_type": "execute_result"
    }
   ],
   "source": [
    "#Printando a tabela\n",
    "tabelaB"
   ]
  },
  {
   "cell_type": "markdown",
   "execution_count": 65,
   "id": "010c0e8d-2c1c-4102-a1c7-a46dac59aae4",
   "metadata": {},
   "outputs": [],
   "source": [
    "Letra C) Considere agora que o BC quer manter uma taxa de desemprego de 3% para todo o ",
    "período. Calcule a taxa de inflação para 10 períodos à frente neste cenário. Mostre ",
    "numa tabela seus resultados. Construa um gráfico com as taxas de inflação obtidas e ",
    "assuma que o BC mantém a mesma meta de inflação. Como essas taxas se comparam à meta de inflação?"
   ]
  },
  {
   "cell_type": "code",
   "execution_count": 66,
   "id": "daac9d3f-f120-44c1-b312-2bc704c22a67",
   "metadata": {},
   "outputs": [],
   "source": [
    "#Lista do resultado do modelo de inflação dado\n",
    "inflacaoModelC=list()"
   ]
  },
  {
   "cell_type": "code",
   "execution_count": 67,
   "id": "dbfa84e4-39e7-4f68-8671-a21e095c7bec",
   "metadata": {},
   "outputs": [],
   "source": [
    "#Interação do calculo\n",
    "#inflacaoModelC=(1-O)*pd+O*p[t-1] +0.1 - 2* (Ut-Un)\n",
    "#inflacaoModelC=(1-0.5)*0.02 + 0.5*p[t-1] + 0.1 - 2 * (0.03-0.04)\n",
    "#inflacaoModelC= 0.11 + 0.5* inflacaoModelC[t-1] - 2 * (-0.01)\n",
    "#inflacaoModelC=0.13 + 0.5* inflacaoModelC[t-1]\n",
    "\n",
    "#Começando em 0, o primeiro dado será 0.13\n",
    "inflacaoModelC.append(0.13)\n",
    "\n",
    "#Elaborando a inflação em 10 periodos\n",
    "for t in range(1,11):\n",
    "    inflacaoModelC.append(0.13 + 0.5 * inflacaoModelC[t-1])"
   ]
  },
  {
   "cell_type": "code",
   "execution_count": 68,
   "id": "3c42054f-0234-44b1-a05c-916a2b7718bc",
   "metadata": {},
   "outputs": [],
   "source": [
    "#Montando a tabela\n",
    "tabelaC=pd.DataFrame(inflacaoModelC,columns=[\"Inflação no período\"])"
   ]
  },
  {
   "cell_type": "code",
   "execution_count": 69,
   "id": "b241508f-4ff2-4d96-88c0-12a85fa35bba",
   "metadata": {},
   "outputs": [
    {
     "data": {
      "text/html": [
       "<div>\n",
       "<style scoped>\n",
       "    .dataframe tbody tr th:only-of-type {\n",
       "        vertical-align: middle;\n",
       "    }\n",
       "\n",
       "    .dataframe tbody tr th {\n",
       "        vertical-align: top;\n",
       "    }\n",
       "\n",
       "    .dataframe thead th {\n",
       "        text-align: right;\n",
       "    }\n",
       "</style>\n",
       "<table border=\"1\" class=\"dataframe\">\n",
       "  <thead>\n",
       "    <tr style=\"text-align: right;\">\n",
       "      <th></th>\n",
       "      <th>Inflação no período</th>\n",
       "    </tr>\n",
       "  </thead>\n",
       "  <tbody>\n",
       "    <tr>\n",
       "      <th>0</th>\n",
       "      <td>0.130000</td>\n",
       "    </tr>\n",
       "    <tr>\n",
       "      <th>1</th>\n",
       "      <td>0.195000</td>\n",
       "    </tr>\n",
       "    <tr>\n",
       "      <th>2</th>\n",
       "      <td>0.227500</td>\n",
       "    </tr>\n",
       "    <tr>\n",
       "      <th>3</th>\n",
       "      <td>0.243750</td>\n",
       "    </tr>\n",
       "    <tr>\n",
       "      <th>4</th>\n",
       "      <td>0.251875</td>\n",
       "    </tr>\n",
       "    <tr>\n",
       "      <th>5</th>\n",
       "      <td>0.255938</td>\n",
       "    </tr>\n",
       "    <tr>\n",
       "      <th>6</th>\n",
       "      <td>0.257969</td>\n",
       "    </tr>\n",
       "    <tr>\n",
       "      <th>7</th>\n",
       "      <td>0.258984</td>\n",
       "    </tr>\n",
       "    <tr>\n",
       "      <th>8</th>\n",
       "      <td>0.259492</td>\n",
       "    </tr>\n",
       "    <tr>\n",
       "      <th>9</th>\n",
       "      <td>0.259746</td>\n",
       "    </tr>\n",
       "    <tr>\n",
       "      <th>10</th>\n",
       "      <td>0.259873</td>\n",
       "    </tr>\n",
       "  </tbody>\n",
       "</table>\n",
       "</div>"
      ],
      "text/plain": [
       "    Inflação no período\n",
       "0              0.130000\n",
       "1              0.195000\n",
       "2              0.227500\n",
       "3              0.243750\n",
       "4              0.251875\n",
       "5              0.255938\n",
       "6              0.257969\n",
       "7              0.258984\n",
       "8              0.259492\n",
       "9              0.259746\n",
       "10             0.259873"
      ]
     },
     "execution_count": 69,
     "metadata": {},
     "output_type": "execute_result"
    }
   ],
   "source": [
    "#Printando a tabela\n",
    "tabelaC"
   ]
  },
  {
   "cell_type": "code",
   "execution_count": null,
   "id": "28a1e2a6-5491-447b-9db6-fe09f37a883a",
   "metadata": {},
   "outputs": [],
   "source": []
  },
  {
   "cell_type": "code",
   "execution_count": 70,
   "id": "e9cc32ca-011a-467a-ace6-7dffca51e08a",
   "metadata": {},
   "outputs": [],
   "source": [
    "Questão 2) Utilizando os dados para o Brasil (ver abaixo), a seguinte curva de phillips foi estimada: <br>",
    "π(t) = −4,59 + 2,026πe(t) + 0, 34(ut − un) <br>",
    "onde πt é a inflação acumulada em 12 meses, πt é a inflação esperada, ut é a taxa de",
    "desemprego, un é a média aritmética de ut no período cobrindo março de 2012 a abril de",
    "2021. Defina ainda a inflação acumulada efetiva usando a fórmula: <br>",
    "πefetiva(t) ≡ ( (Pt/P(t−12)) − 1) ∗ 100 <br>",
    "onde P(t) é o número índice do IPCA no mês e P(t−12) é o índice no mesmo mês do ano anterior.",
    "De posse do modelo conforme descrito acima e das variáveis, simule a inflação πt de acordo ",
    "com o modelo para todo o período considerado e compare com πefetiva(t). Faça um gráfico com ",
    "as duas variáveis: π(t) e πefetiva(t). Discuta quão razoável é o modelo para prever a inflação. <br>",
    "Para responder essa questão siga os seguintes passos: <br>",
    "- i. O primeiro passo é obter no ipeadata http://www.ipeadata.gov.br/Default.aspx o seguinte conjunto de dados: <br>",
    "- • Pt ≡ Preços - IPCA - geral - índice (dez. 1993 = 100) - - - Instituto Brasileiro de Geografia e Estatística, ",
    "Sistema Nacional de Índices de Preços ao Consumidor (IBGE/SNIPC). <br>",
    "• ut ≡ Taxa de desocupação - (%) - Instituto Brasileiro de Geografia e Estatística, ",
    "Pesquisa Nacional por Amostra de Domicílios Contínua (IBGE/PNAD Contínua) <br>",
    "• πe(t) ≡ Expectativa média de Inflação - IPCA - taxa acumulada para os próximos doze meses - ",
    "(% a.a.) - Banco Central do Brasil, Boletim, Seção Atividade Econômica (Bacen / Boletim / Ativ. Ec.)",
    "- ii. De posse dos dados calcule πefetiva(t) usando a fórmula acima.",
    "- iii. Organize os dados para o período de tempo da análise.",
    "- iv. Use o programa de sua preferência para calcular a inflação como dada pelo modelo.",
    "- v. Construa um gráfico com as duas séries ao longo do tempo.",
    "- vi. Analise os resultados.
   ]
  },
  {
   "cell_type": "code",
   "execution_count": null,
   "id": "8b378fa6-58b0-4960-967a-1d37dd892961",
   "metadata": {},
   "outputs": [],
   "source": []
  },
  {
   "cell_type": "code",
   "execution_count": 109,
   "id": "d3416738-6f84-4b51-867f-b0514ab28b89",
   "metadata": {},
   "outputs": [],
   "source": [
    "#Importando tabelas\n",
    "ipcaGeral=pd.read_excel(\"ipca_geral.xls\")\n",
    "taxaDesocupacao=pd.read_excel(\"Taxa de desocupacao.xls\")\n",
    "ipcaExpectativa=pd.read_excel(\"exp_media_inflacao_ipca_acumulado12meses.xls\")"
   ]
  },
  {
   "cell_type": "code",
   "execution_count": 110,
   "id": "e11ff32c-77fb-41a4-90b1-520165ff7f46",
   "metadata": {},
   "outputs": [],
   "source": [
    "#Normalizando tempo para 2012.03 até 2021.04\n",
    "#ipcaGeral começa em 2011.03\n",
    "ipcaGeral=ipcaGeral.query(\"Data>=2011.03 & Data<=2021.04\").reset_index(drop=True)\n",
    "#ipcaExpectativa começa em 2012.03\n",
    "ipcaExpectativa=ipcaExpectativa.query(\"Data>=2012.03 & Data<=2021.04\").reset_index(drop=True)\n",
    "#Taxa de desocupação começa em 2012.03\n",
    "taxaDesocupacao=taxaDesocupacao.query(\"Data>=2012.03 & Data<=2021.04\").reset_index(drop=True)"
   ]
  },
  {
   "cell_type": "code",
   "execution_count": 111,
   "id": "e43e544a-6c94-4bbf-947d-9219a3d7c568",
   "metadata": {},
   "outputs": [],
   "source": [
    "#Lista do resultado da inflação efetiva, por mês\n",
    "inflacaoEfetiva=list()"
   ]
  },
  {
   "cell_type": "code",
   "execution_count": 112,
   "id": "5e0ca38d-6292-42a1-98cd-fdb2cc4b14c9",
   "metadata": {},
   "outputs": [
    {
     "name": "stdout",
     "output_type": "stream",
     "text": [
      "110 110 110\n"
     ]
    }
   ],
   "source": [
    "print(len(ipcaGeral)-12,len(ipcaExpectativa),len(taxaDesocupacao))"
   ]
  },
  {
   "cell_type": "code",
   "execution_count": 113,
   "id": "d51a395a-20cf-4d78-9bd6-9bb7e5a9041a",
   "metadata": {},
   "outputs": [
    {
     "data": {
      "text/plain": [
       "110"
      ]
     },
     "execution_count": 113,
     "metadata": {},
     "output_type": "execute_result"
    }
   ],
   "source": [
    "#O tamanho será 122, logo para ajustar o tempo e normalizar para 2012.03 fazemos:\n",
    "len(ipcaGeral)-12"
   ]
  },
  {
   "cell_type": "code",
   "execution_count": 114,
   "id": "57ed0092-21a1-4257-af56-0dc30ecfe916",
   "metadata": {},
   "outputs": [],
   "source": [
    "#Interação for para calcular a inflação efetiva\n",
    "#Note que começamos de 12 pois, representamos o mês 03 de 2012\n",
    "#Logo i-12, representa mês 03 de 2011\n",
    "#OBS: Em programação começamos a contar do 0\n",
    "#122 pois range considera 12 meses do ano de 2011\n",
    "#iloc[linha,coluna]\n",
    "# t equivale ao tempo em meses\n",
    "for t in range(12,122):\n",
    "    inflacaoEfetiva.append(((ipcaGeral.iloc[t,1])/(ipcaGeral.iloc[t-12,1]-1)*100))"
   ]
  },
  {
   "cell_type": "code",
   "execution_count": 115,
   "id": "4caaf1c9-02ea-45c7-91d1-aba6b25e9ee1",
   "metadata": {},
   "outputs": [],
   "source": [
    "#Notar que a inflação efetiva ja foi calculada e já está dentro da lista"
   ]
  },
  {
   "cell_type": "code",
   "execution_count": 116,
   "id": "5182bddf-6fe8-4542-b7e3-e7586f7cab32",
   "metadata": {},
   "outputs": [],
   "source": [
    "#Calculando Un\n",
    "Un=taxaDesocupacao.iloc[:,1].mean()"
   ]
  },
  {
   "cell_type": "code",
   "execution_count": 119,
   "id": "0aa472b7-a7c3-4e9d-b1c1-f2069dcdec39",
   "metadata": {},
   "outputs": [],
   "source": [
    "#Lista do resultado da inflação com o modelo dado, por mês\n",
    "inflacaoModelo=list()"
   ]
  },
  {
   "cell_type": "code",
   "execution_count": 120,
   "id": "80d2647a-5190-4c46-a1d2-fa2f7f2f37d7",
   "metadata": {},
   "outputs": [
    {
     "name": "stdout",
     "output_type": "stream",
     "text": [
      "110 110\n"
     ]
    }
   ],
   "source": [
    "#Note que esses ja estão normalizados\n",
    "print(len(taxaDesocupacao),len(ipcaExpectativa))"
   ]
  },
  {
   "cell_type": "code",
   "execution_count": 121,
   "id": "3f6f6288-ee32-4046-8749-f0582f121e91",
   "metadata": {},
   "outputs": [],
   "source": [
    "#Calculando inflacao com o modelo\n",
    "for t in range(0,110):\n",
    "    inflacaoModelo.append(-4.59+2.026*ipcaExpectativa.iloc[t,1]+0.34*(taxaDesocupacao.iloc[t,1]-Un))"
   ]
  },
  {
   "cell_type": "code",
   "execution_count": 122,
   "id": "048f9007-5265-4433-8c09-b59256be5db2",
   "metadata": {},
   "outputs": [],
   "source": [
    "#Normalizando ela para ficar de acordo com a inflação efetiva\n",
    "inflacaoModelo=np.array(inflacaoModelo)+100"
   ]
  },
  {
   "cell_type": "code",
   "execution_count": 132,
   "id": "df888c46-827a-43a6-9d11-d66fb6ed609c",
   "metadata": {},
   "outputs": [
    {
     "data": {
      "image/png": "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\n",
      "text/plain": [
       "<Figure size 800x400 with 1 Axes>"
      ]
     },
     "metadata": {
      "needs_background": "light"
     },
     "output_type": "display_data"
    }
   ],
   "source": [
    "#Plotando gráficos\n",
    "mes=np.arange(len(ipcaExpectativa['Data']))\n",
    "plt.figure(figsize=(8, 4), dpi=100)\n",
    "plt.scatter(mes,inflacaoModelo,color='r',label='Inflação do modelo')\n",
    "plt.scatter(mes,inflacaoEfetiva,color='b', label='Inflação Efetiva')\n",
    "plt.title('Inflação efetiva VS Inflação modelada')\n",
    "plt.xlabel('Meses a partir de 03/2012')\n",
    "plt.ylabel('Inflação, (%)')\n",
    "plt.xticks(np.arange(min(mes),max(mes),10))\n",
    "plt.grid()\n",
    "plt.legend()\n",
    "plt.show()"
   ]
  },
  {
   "cell_type": "markdown",
   "id": "7cfae6b3-64cc-4dba-8d9a-d51df1827597",
   "metadata": {},
   "source": [
    "O modelo em geral segiu bem a realidade, embora em alguns periodos nota-se uma certa distância da inflação efetiva, por exemplo ao redor dos mes 40."
   ]
  },
  {
   "cell_type": "code",
   "execution_count": null,
   "id": "06af6b52-c924-4cf4-8e2c-18091d259991",
   "metadata": {},
   "outputs": [],
   "source": []
  },
  {
   "cell_type": "code",
   "execution_count": null,
   "id": "05525181-8e3d-4f7f-988f-f1fb94ce24bf",
   "metadata": {},
   "outputs": [],
   "source": []
  }
 ],
 "metadata": {
  "kernelspec": {
   "display_name": "Python 3",
   "language": "python",
   "name": "python3"
  },
  "language_info": {
   "codemirror_mode": {
    "name": "ipython",
    "version": 3
   },
   "file_extension": ".py",
   "mimetype": "text/x-python",
   "name": "python",
   "nbconvert_exporter": "python",
   "pygments_lexer": "ipython3",
   "version": "3.8.8"
  }
 },
 "nbformat": 4,
 "nbformat_minor": 5
}

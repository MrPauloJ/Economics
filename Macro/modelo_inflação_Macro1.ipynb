{
 "cells": [
  {
   "attachments": {},
   "cell_type": "markdown",
   "id": "f792fbcc",
   "metadata": {},
   "source": [
    "Universidade Federal de Pernambuco <br>\n",
    "Disciplina: Macroeconomia 1 <br>\n",
    "Professor: Marcelo Silva <br>\n",
    "Aluno: Paulo Francisco da Silva Junior <br>"
   ]
  },
  {
   "cell_type": "code",
   "execution_count": 1,
   "id": "3a9da41b-1fd9-44d4-bf87-e0df95640f4a",
   "metadata": {},
   "outputs": [],
   "source": [
    "#Importação de bibliotecas\n",
    "import pandas as pd\n",
    "import matplotlib.pyplot as plt\n",
    "import matplotlib.pyplot as figure\n",
    "import numpy as np"
   ]
  },
  {
   "attachments": {},
   "cell_type": "markdown",
   "id": "a052a06b",
   "metadata": {},
   "source": [
    "No capítulo 8 do Blanchard (2017, 7ª Edição) há um exemplo de formação de expectativas dada por: $\\pi^{e}_t = (1 − \\theta)\\bar{\\pi}+ \\theta\\pi_{t−1}$, onde $0 \\leq \\theta \\leq 1$ dá a importância da inflação passada na formação das expectativas dos agentes na economia e $\\bar{\\pi}$ é a meta de inflação do Banco Central.\n",
    "\n",
    "Letra a) Discuta a formação de expectativas nos cenários quando $\\theta=0$, $\\theta=1$ e $0 < \\theta < 1$. Qual hipótese você considera mais razoável? <br>\n",
    "Resposta:<br>\n",
    "Quando $\\theta=0$ a expectativa dos agentes é ajustada por completo pela meta do Banco Central.<br>\n",
    "Quando $\\theta=1$ as expectativas podem ser adaptativas, onde apenas a inflação passada é relevante e o BC não influência, em outro caso, pode ainda ser reflexo da inflação inercial.<br>\n",
    "A hipótese mais razoável é quando $0<\\theta<1$, onde tanto a meta do BC quanto a inflação passada importa."
   ]
  },
  {
   "attachments": {},
   "cell_type": "markdown",
   "id": "7c0f751a-0585-44ef-815c-e4107ce2a4d4",
   "metadata": {},
   "source": [
    "Letra B) Considere agora a seguinte curva de Phillips: $\\pi_t=\\pi^e_t+0,1-2(u_t-u_n)$. <br>\n",
    "onde $u_t$ é a taxa de desemprego e $\\bar{\\pi}=2\\%$. Suponha que $u_t = 5\\%$, $\\theta = 0,5$ e $u_n = 4\\%$. Calcule a taxa de inflação para 10 períodos à frente. Mostre numa tabela seus resultados."
   ]
  },
  {
   "cell_type": "code",
   "execution_count": 7,
   "id": "7bb84f2f-9407-4e62-9bf6-be4509467755",
   "metadata": {},
   "outputs": [],
   "source": [
    "# Lista do resultado do modelo de inflação dado\n",
    "inflacaoModelB = list()"
   ]
  },
  {
   "cell_type": "code",
   "execution_count": 8,
   "id": "570c1857-efd4-4757-a94e-1c09630b8f81",
   "metadata": {},
   "outputs": [],
   "source": [
    "# Interação do calculo; pi=inflacaoModelB;\n",
    "# inflacaoModelB = (1-theta)*pi_bar+theta*pi[t-1] + 0.1 - 2* (ut-un)\n",
    "# inflacaoModelB = (1-0.5)*0.02 + 0.5*inflacaoModelB[t-1] + 0.1 - 2 (0.05-0.04)\n",
    "# inflacaoModelB = 0.11 + 0.5* inflacaoModelB[t-1] - 2 * (0.01)\n",
    "# inflacaoModelB = 0.09 + 0.5* inflacaoModelB[t-1]\n",
    "\n",
    "# Iniciando em t=0, o primeiro dado será 0.09\n",
    "inflacaoModelB.append(0.09)\n",
    "\n",
    "# Elaborando a inflação em 10 periodos a frente, ceteris paribus\n",
    "for t in range(1,11):\n",
    "    inflacaoModelB.append(0.09 + 0.5 * inflacaoModelB[t-1])"
   ]
  },
  {
   "cell_type": "code",
   "execution_count": 11,
   "id": "b48cfa70-dff2-4037-997e-f11d74e2917f",
   "metadata": {},
   "outputs": [],
   "source": [
    "# Montando a tabela\n",
    "tabelaB = pd.DataFrame(inflacaoModelB,columns=[\"Inflação - Modelo B\"])"
   ]
  },
  {
   "cell_type": "code",
   "execution_count": 12,
   "id": "9b5aef6f-1861-4e70-a720-eb55880654a7",
   "metadata": {},
   "outputs": [
    {
     "data": {
      "text/html": [
       "<div>\n",
       "<style scoped>\n",
       "    .dataframe tbody tr th:only-of-type {\n",
       "        vertical-align: middle;\n",
       "    }\n",
       "\n",
       "    .dataframe tbody tr th {\n",
       "        vertical-align: top;\n",
       "    }\n",
       "\n",
       "    .dataframe thead th {\n",
       "        text-align: right;\n",
       "    }\n",
       "</style>\n",
       "<table border=\"1\" class=\"dataframe\">\n",
       "  <thead>\n",
       "    <tr style=\"text-align: right;\">\n",
       "      <th></th>\n",
       "      <th>Inflação - Modelo B</th>\n",
       "    </tr>\n",
       "  </thead>\n",
       "  <tbody>\n",
       "    <tr>\n",
       "      <th>0</th>\n",
       "      <td>0.090000</td>\n",
       "    </tr>\n",
       "    <tr>\n",
       "      <th>1</th>\n",
       "      <td>0.135000</td>\n",
       "    </tr>\n",
       "    <tr>\n",
       "      <th>2</th>\n",
       "      <td>0.157500</td>\n",
       "    </tr>\n",
       "    <tr>\n",
       "      <th>3</th>\n",
       "      <td>0.168750</td>\n",
       "    </tr>\n",
       "    <tr>\n",
       "      <th>4</th>\n",
       "      <td>0.174375</td>\n",
       "    </tr>\n",
       "    <tr>\n",
       "      <th>5</th>\n",
       "      <td>0.177187</td>\n",
       "    </tr>\n",
       "    <tr>\n",
       "      <th>6</th>\n",
       "      <td>0.178594</td>\n",
       "    </tr>\n",
       "    <tr>\n",
       "      <th>7</th>\n",
       "      <td>0.179297</td>\n",
       "    </tr>\n",
       "    <tr>\n",
       "      <th>8</th>\n",
       "      <td>0.179648</td>\n",
       "    </tr>\n",
       "    <tr>\n",
       "      <th>9</th>\n",
       "      <td>0.179824</td>\n",
       "    </tr>\n",
       "    <tr>\n",
       "      <th>10</th>\n",
       "      <td>0.179912</td>\n",
       "    </tr>\n",
       "  </tbody>\n",
       "</table>\n",
       "</div>"
      ],
      "text/plain": [
       "    Inflação - Modelo B\n",
       "0              0.090000\n",
       "1              0.135000\n",
       "2              0.157500\n",
       "3              0.168750\n",
       "4              0.174375\n",
       "5              0.177187\n",
       "6              0.178594\n",
       "7              0.179297\n",
       "8              0.179648\n",
       "9              0.179824\n",
       "10             0.179912"
      ]
     },
     "execution_count": 12,
     "metadata": {},
     "output_type": "execute_result"
    }
   ],
   "source": [
    "# Printando a tabela\n",
    "tabelaB"
   ]
  },
  {
   "cell_type": "markdown",
   "id": "010c0e8d-2c1c-4102-a1c7-a46dac59aae4",
   "metadata": {},
   "source": [
    "Letra C) Considere agora que o BC quer manter uma taxa de desemprego de 3% para todo o \n",
    "período. Calcule a taxa de inflação para 10 períodos à frente neste cenário. Mostre \n",
    "numa tabela seus resultados. Construa um gráfico com as taxas de inflação obtidas e \n",
    "assuma que o BC mantém a mesma meta de inflação. Como essas taxas se comparam à meta de inflação?"
   ]
  },
  {
   "cell_type": "code",
   "execution_count": 15,
   "id": "daac9d3f-f120-44c1-b312-2bc704c22a67",
   "metadata": {},
   "outputs": [],
   "source": [
    "# Lista do resultado do modelo de inflação dado\n",
    "inflacaoModelC=list()"
   ]
  },
  {
   "cell_type": "code",
   "execution_count": 16,
   "id": "dbfa84e4-39e7-4f68-8671-a21e095c7bec",
   "metadata": {},
   "outputs": [],
   "source": [
    "# Interação do calculo\n",
    "# inflacaoModelC = (1-theta)*pi_bar + theta*pi[t-1] + 0.1 - 2*(ut-un)\n",
    "# inflacaoModelC = (1-0.5)*0.02 + 0.5*inflacaoModelC[t-1] + 0.1 - 2*(0.03-0.04)\n",
    "# inflacaoModelC = 0.11 + 0.5*inflacaoModelC[t-1] - 2*(-0.01)\n",
    "# inflacaoModelC = 0.13 + 0.5*inflacaoModelC[t-1]\n",
    "\n",
    "# Começando em t=0, o primeiro dado será 0.13\n",
    "inflacaoModelC.append(0.13)\n",
    "\n",
    "# Elaborando a inflação em 10 periodos\n",
    "for t in range(1,11):\n",
    "    inflacaoModelC.append(0.13 + 0.5 * inflacaoModelC[t-1])"
   ]
  },
  {
   "cell_type": "code",
   "execution_count": 17,
   "id": "3c42054f-0234-44b1-a05c-916a2b7718bc",
   "metadata": {},
   "outputs": [],
   "source": [
    "# Montando a tabela\n",
    "tabelaC=pd.DataFrame(inflacaoModelC,columns=[\"Inflação - Modelo C\"])"
   ]
  },
  {
   "cell_type": "code",
   "execution_count": 18,
   "id": "b241508f-4ff2-4d96-88c0-12a85fa35bba",
   "metadata": {},
   "outputs": [
    {
     "data": {
      "text/html": [
       "<div>\n",
       "<style scoped>\n",
       "    .dataframe tbody tr th:only-of-type {\n",
       "        vertical-align: middle;\n",
       "    }\n",
       "\n",
       "    .dataframe tbody tr th {\n",
       "        vertical-align: top;\n",
       "    }\n",
       "\n",
       "    .dataframe thead th {\n",
       "        text-align: right;\n",
       "    }\n",
       "</style>\n",
       "<table border=\"1\" class=\"dataframe\">\n",
       "  <thead>\n",
       "    <tr style=\"text-align: right;\">\n",
       "      <th></th>\n",
       "      <th>Inflação - Modelo C</th>\n",
       "    </tr>\n",
       "  </thead>\n",
       "  <tbody>\n",
       "    <tr>\n",
       "      <th>0</th>\n",
       "      <td>0.130000</td>\n",
       "    </tr>\n",
       "    <tr>\n",
       "      <th>1</th>\n",
       "      <td>0.195000</td>\n",
       "    </tr>\n",
       "    <tr>\n",
       "      <th>2</th>\n",
       "      <td>0.227500</td>\n",
       "    </tr>\n",
       "    <tr>\n",
       "      <th>3</th>\n",
       "      <td>0.243750</td>\n",
       "    </tr>\n",
       "    <tr>\n",
       "      <th>4</th>\n",
       "      <td>0.251875</td>\n",
       "    </tr>\n",
       "    <tr>\n",
       "      <th>5</th>\n",
       "      <td>0.255938</td>\n",
       "    </tr>\n",
       "    <tr>\n",
       "      <th>6</th>\n",
       "      <td>0.257969</td>\n",
       "    </tr>\n",
       "    <tr>\n",
       "      <th>7</th>\n",
       "      <td>0.258984</td>\n",
       "    </tr>\n",
       "    <tr>\n",
       "      <th>8</th>\n",
       "      <td>0.259492</td>\n",
       "    </tr>\n",
       "    <tr>\n",
       "      <th>9</th>\n",
       "      <td>0.259746</td>\n",
       "    </tr>\n",
       "    <tr>\n",
       "      <th>10</th>\n",
       "      <td>0.259873</td>\n",
       "    </tr>\n",
       "  </tbody>\n",
       "</table>\n",
       "</div>"
      ],
      "text/plain": [
       "    Inflação - Modelo C\n",
       "0              0.130000\n",
       "1              0.195000\n",
       "2              0.227500\n",
       "3              0.243750\n",
       "4              0.251875\n",
       "5              0.255938\n",
       "6              0.257969\n",
       "7              0.258984\n",
       "8              0.259492\n",
       "9              0.259746\n",
       "10             0.259873"
      ]
     },
     "execution_count": 18,
     "metadata": {},
     "output_type": "execute_result"
    }
   ],
   "source": [
    "# Printando a tabela\n",
    "tabelaC"
   ]
  },
  {
   "cell_type": "code",
   "execution_count": 20,
   "id": "ef537ab3",
   "metadata": {},
   "outputs": [],
   "source": [
    "# Juntando tabelas\n",
    "tabelaB = tabelaB.join(tabelaC)"
   ]
  },
  {
   "cell_type": "code",
   "execution_count": 21,
   "id": "28a1e2a6-5491-447b-9db6-fe09f37a883a",
   "metadata": {},
   "outputs": [
    {
     "data": {
      "text/html": [
       "<div>\n",
       "<style scoped>\n",
       "    .dataframe tbody tr th:only-of-type {\n",
       "        vertical-align: middle;\n",
       "    }\n",
       "\n",
       "    .dataframe tbody tr th {\n",
       "        vertical-align: top;\n",
       "    }\n",
       "\n",
       "    .dataframe thead th {\n",
       "        text-align: right;\n",
       "    }\n",
       "</style>\n",
       "<table border=\"1\" class=\"dataframe\">\n",
       "  <thead>\n",
       "    <tr style=\"text-align: right;\">\n",
       "      <th></th>\n",
       "      <th>Inflação - Modelo B</th>\n",
       "      <th>Inflação - Modelo C</th>\n",
       "    </tr>\n",
       "  </thead>\n",
       "  <tbody>\n",
       "    <tr>\n",
       "      <th>0</th>\n",
       "      <td>0.090000</td>\n",
       "      <td>0.130000</td>\n",
       "    </tr>\n",
       "    <tr>\n",
       "      <th>1</th>\n",
       "      <td>0.135000</td>\n",
       "      <td>0.195000</td>\n",
       "    </tr>\n",
       "    <tr>\n",
       "      <th>2</th>\n",
       "      <td>0.157500</td>\n",
       "      <td>0.227500</td>\n",
       "    </tr>\n",
       "    <tr>\n",
       "      <th>3</th>\n",
       "      <td>0.168750</td>\n",
       "      <td>0.243750</td>\n",
       "    </tr>\n",
       "    <tr>\n",
       "      <th>4</th>\n",
       "      <td>0.174375</td>\n",
       "      <td>0.251875</td>\n",
       "    </tr>\n",
       "    <tr>\n",
       "      <th>5</th>\n",
       "      <td>0.177187</td>\n",
       "      <td>0.255938</td>\n",
       "    </tr>\n",
       "    <tr>\n",
       "      <th>6</th>\n",
       "      <td>0.178594</td>\n",
       "      <td>0.257969</td>\n",
       "    </tr>\n",
       "    <tr>\n",
       "      <th>7</th>\n",
       "      <td>0.179297</td>\n",
       "      <td>0.258984</td>\n",
       "    </tr>\n",
       "    <tr>\n",
       "      <th>8</th>\n",
       "      <td>0.179648</td>\n",
       "      <td>0.259492</td>\n",
       "    </tr>\n",
       "    <tr>\n",
       "      <th>9</th>\n",
       "      <td>0.179824</td>\n",
       "      <td>0.259746</td>\n",
       "    </tr>\n",
       "    <tr>\n",
       "      <th>10</th>\n",
       "      <td>0.179912</td>\n",
       "      <td>0.259873</td>\n",
       "    </tr>\n",
       "  </tbody>\n",
       "</table>\n",
       "</div>"
      ],
      "text/plain": [
       "    Inflação - Modelo B  Inflação - Modelo C\n",
       "0              0.090000             0.130000\n",
       "1              0.135000             0.195000\n",
       "2              0.157500             0.227500\n",
       "3              0.168750             0.243750\n",
       "4              0.174375             0.251875\n",
       "5              0.177187             0.255938\n",
       "6              0.178594             0.257969\n",
       "7              0.179297             0.258984\n",
       "8              0.179648             0.259492\n",
       "9              0.179824             0.259746\n",
       "10             0.179912             0.259873"
      ]
     },
     "execution_count": 21,
     "metadata": {},
     "output_type": "execute_result"
    }
   ],
   "source": [
    "# Printando tabela\n",
    "tabelaB"
   ]
  },
  {
   "cell_type": "code",
   "execution_count": 24,
   "id": "9688688e",
   "metadata": {},
   "outputs": [
    {
     "data": {
      "image/png": "[encoded data removed]",
      "text/plain": [
       "<Figure size 800x400 with 1 Axes>"
      ]
     },
     "metadata": {
      "needs_background": "light"
     },
     "output_type": "display_data"
    }
   ],
   "source": [
    "# Plotando gráfico\n",
    "plt.figure(figsize=(8, 4), dpi=100)\n",
    "plt.plot(tabelaB.index,tabelaB[\"Inflação - Modelo B\"],color='r',label='Inflação - modelo B')\n",
    "plt.plot(tabelaB.index,tabelaB[\"Inflação - Modelo C\"],color='b', label='Inflação - modelo C')\n",
    "plt.plot(tabelaB.index,len(tabelaB)*[0.02])\n",
    "plt.title('Inflações')\n",
    "plt.xlabel('Tempo')\n",
    "plt.ylabel('Inflação')\n",
    "#plt.xticks(np.arange(min(mes),max(mes),10))\n",
    "plt.grid()\n",
    "plt.legend()\n",
    "plt.show()"
   ]
  },
  {
   "attachments": {},
   "cell_type": "markdown",
   "id": "a1afe9d2",
   "metadata": {},
   "source": [
    "Ambos modelos B e C evidenciam inflações acima da meta definida pelo BC (2%), porém, quando o BC decide manter o nível de desemprego maior do que o desemprego natural (modelo C), a inflação claramente tende a ser maior quando comparada ao caso oposto (modelo B)."
   ]
  },
  {
   "cell_type": "code",
   "execution_count": null,
   "id": "96899899",
   "metadata": {},
   "outputs": [],
   "source": []
  },
  {
   "attachments": {},
   "cell_type": "markdown",
   "id": "e9cc32ca-011a-467a-ace6-7dffca51e08a",
   "metadata": {},
   "source": [
    "Questão 2) Utilizando os dados para o Brasil (ver abaixo), a seguinte curva de phillips foi estimada: $\\pi_t=-4,59+2,026*\\pi^e_t+0,34(u_t-u_n)$. <br>\n",
    "onde $\\pi_t$ é a inflação acumulada em 12 meses, $\\pi^e_t$ é a inflação esperada, $u_t$ é a taxa de\n",
    "desemprego, $u_t$ é a média aritmética de $u_t$ no período cobrindo março de 2012 a abril de 2021.<br>\n",
    "Defina ainda a inflação acumulada efetiva usando a fórmula: $\\pi^{efetiva}_t = ( \\frac{P_t}{P_{t−12}} − 1) ∗ 100$. <br>\n",
    "onde $P_t$ é o número índice do IPCA no mês e $P_{t−12}$ é o índice no mesmo mês do ano anterior.<br>\n",
    "De posse do modelo conforme descrito acima e das variáveis, simule a inflação $\\pi_t$ de acordo \n",
    "com o modelo para todo o período considerado e compare com $\\pi^{efetiva}_t$. Faça um gráfico com \n",
    "as duas variáveis: $\\pi_t$ e $\\pi^{efetiva}_t$. Discuta quão razoável é o modelo para prever a inflação. <br>\n",
    "Para responder essa questão siga os seguintes passos: <br>\n",
    "i. O primeiro passo é obter no ipeadata http://www.ipeadata.gov.br/Default.aspx o seguinte conjunto de dados: <br>\n",
    "• $P_t$ = Preços - IPCA - geral - índice (dez. 1993 = 100) - - - Instituto Brasileiro de Geografia e Estatística, \n",
    "Sistema Nacional de Índices de Preços ao Consumidor (IBGE/SNIPC). <br>\n",
    "• $u_t$ = Taxa de desocupação - (%) - Instituto Brasileiro de Geografia e Estatística, \n",
    "Pesquisa Nacional por Amostra de Domicílios Contínua (IBGE/PNAD Contínua) <br>\n",
    "• $\\pi^e_t$ = Expectativa média de Inflação - IPCA - taxa acumulada para os próximos doze meses - \n",
    "(% a.a.) - Banco Central do Brasil, Boletim, Seção Atividade Econômica (Bacen / Boletim / Ativ. Ec.)\n",
    "<br> ii. De posse dos dados calcule $\\pi^{efetiva}_t$ usando a fórmula acima.\n",
    "<br> iii. Organize os dados para o período de tempo da análise.\n",
    "<br> iv. Use o programa de sua preferência para calcular a inflação como dada pelo modelo.\n",
    "<br> v. Construa um gráfico com as duas séries ao longo do tempo.\n",
    "<br> vi. Analise os resultados."
   ]
  },
  {
   "cell_type": "code",
   "execution_count": null,
   "id": "8b378fa6-58b0-4960-967a-1d37dd892961",
   "metadata": {},
   "outputs": [],
   "source": []
  },
  {
   "cell_type": "code",
   "execution_count": 109,
   "id": "d3416738-6f84-4b51-867f-b0514ab28b89",
   "metadata": {},
   "outputs": [],
   "source": [
    "# Importando tabelas\n",
    "ipcaGeral=pd.read_excel(\"ipca_geral.xls\")\n",
    "taxaDesocupacao=pd.read_excel(\"Taxa de desocupacao.xls\")\n",
    "ipcaExpectativa=pd.read_excel(\"exp_media_inflacao_ipca_acumulado12meses.xls\")"
   ]
  },
  {
   "cell_type": "code",
   "execution_count": 110,
   "id": "e11ff32c-77fb-41a4-90b1-520165ff7f46",
   "metadata": {},
   "outputs": [],
   "source": [
    "# Normalizando tempo para 2012.03 até 2021.04\n",
    "# ipcaGeral começa em 2011.03\n",
    "ipcaGeral=ipcaGeral.query(\"Data>=2011.03 & Data<=2021.04\").reset_index(drop=True)\n",
    "# ipcaExpectativa começa em 2012.03\n",
    "ipcaExpectativa=ipcaExpectativa.query(\"Data>=2012.03 & Data<=2021.04\").reset_index(drop=True)\n",
    "# Taxa de desocupação começa em 2012.03\n",
    "taxaDesocupacao=taxaDesocupacao.query(\"Data>=2012.03 & Data<=2021.04\").reset_index(drop=True)"
   ]
  },
  {
   "cell_type": "code",
   "execution_count": 111,
   "id": "e43e544a-6c94-4bbf-947d-9219a3d7c568",
   "metadata": {},
   "outputs": [],
   "source": [
    "# Lista do resultado da inflação efetiva, por mês\n",
    "inflacaoEfetiva=list()"
   ]
  },
  {
   "cell_type": "code",
   "execution_count": 112,
   "id": "5e0ca38d-6292-42a1-98cd-fdb2cc4b14c9",
   "metadata": {},
   "outputs": [
    {
     "name": "stdout",
     "output_type": "stream",
     "text": [
      "110 110 110\n"
     ]
    }
   ],
   "source": [
    "# Checando tamanhos\n",
    "print(len(ipcaGeral)-12,len(ipcaExpectativa),len(taxaDesocupacao))"
   ]
  },
  {
   "cell_type": "code",
   "execution_count": 113,
   "id": "d51a395a-20cf-4d78-9bd6-9bb7e5a9041a",
   "metadata": {},
   "outputs": [
    {
     "data": {
      "text/plain": [
       "110"
      ]
     },
     "execution_count": 113,
     "metadata": {},
     "output_type": "execute_result"
    }
   ],
   "source": [
    "# O tamanho será 122, logo para ajustar o tempo e normalizar para 2012.03 fazemos:\n",
    "len(ipcaGeral)-12"
   ]
  },
  {
   "cell_type": "code",
   "execution_count": 114,
   "id": "57ed0092-21a1-4257-af56-0dc30ecfe916",
   "metadata": {},
   "outputs": [],
   "source": [
    "# Interação do tipo for para calcular a inflação efetiva\n",
    "# Note que começamos de 12 pois, representamos o mês 03 de 2012\n",
    "# Logo i-12, representa mês 03 de 2011\n",
    "# OBS: Em programação começamos a contar do 0\n",
    "# 122 pois range considera 12 meses do ano de 2011\n",
    "# iloc[linha,coluna]\n",
    "# t equivale ao tempo em meses\n",
    "# Inflação efetiva é calculada abaixo\n",
    "for t in range(12,122):\n",
    "    inflacaoEfetiva.append(((ipcaGeral.iloc[t,1])/(ipcaGeral.iloc[t-12,1]-1)*100))"
   ]
  },
  {
   "cell_type": "code",
   "execution_count": 116,
   "id": "5182bddf-6fe8-4542-b7e3-e7586f7cab32",
   "metadata": {},
   "outputs": [],
   "source": [
    "# Calculando Un, desemprego natural\n",
    "Un=taxaDesocupacao.iloc[:,1].mean()"
   ]
  },
  {
   "cell_type": "code",
   "execution_count": 119,
   "id": "0aa472b7-a7c3-4e9d-b1c1-f2069dcdec39",
   "metadata": {},
   "outputs": [],
   "source": [
    "# Lista do resultado da inflação com o modelo dado, por mês\n",
    "inflacaoModelo=list()"
   ]
  },
  {
   "cell_type": "code",
   "execution_count": 120,
   "id": "80d2647a-5190-4c46-a1d2-fa2f7f2f37d7",
   "metadata": {},
   "outputs": [
    {
     "name": "stdout",
     "output_type": "stream",
     "text": [
      "110 110\n"
     ]
    }
   ],
   "source": [
    "# Note que esses ja estão normalizados\n",
    "print(len(taxaDesocupacao),len(ipcaExpectativa))"
   ]
  },
  {
   "cell_type": "code",
   "execution_count": 121,
   "id": "3f6f6288-ee32-4046-8749-f0582f121e91",
   "metadata": {},
   "outputs": [],
   "source": [
    "# Calculando inflacao com o modelo\n",
    "for t in range(0,110):\n",
    "    inflacaoModelo.append(-4.59+2.026*ipcaExpectativa.iloc[t,1]+0.34*(taxaDesocupacao.iloc[t,1]-Un))"
   ]
  },
  {
   "cell_type": "code",
   "execution_count": 122,
   "id": "048f9007-5265-4433-8c09-b59256be5db2",
   "metadata": {},
   "outputs": [],
   "source": [
    "# Normalizando ela para ficar de acordo com a inflação efetiva\n",
    "inflacaoModelo=np.array(inflacaoModelo)+100"
   ]
  },
  {
   "cell_type": "code",
   "execution_count": 132,
   "id": "df888c46-827a-43a6-9d11-d66fb6ed609c",
   "metadata": {},
   "outputs": [
    {
     "data": {
      "image/png": "[encoded data removed]",
      "text/plain": [
       "<Figure size 800x400 with 1 Axes>"
      ]
     },
     "metadata": {
      "needs_background": "light"
     },
     "output_type": "display_data"
    }
   ],
   "source": [
    "# Plotando gráficos\n",
    "mes=np.arange(len(ipcaExpectativa['Data']))\n",
    "plt.figure(figsize=(8, 4), dpi=100)\n",
    "plt.scatter(mes,inflacaoModelo,color='r',label='Inflação do modelo')\n",
    "plt.scatter(mes,inflacaoEfetiva,color='b', label='Inflação Efetiva')\n",
    "plt.title('Inflação efetiva VS Inflação modelada')\n",
    "plt.xlabel('Meses a partir de 03/2012')\n",
    "plt.ylabel('Inflação, (%)')\n",
    "plt.xticks(np.arange(min(mes),max(mes),10))\n",
    "plt.grid()\n",
    "plt.legend()\n",
    "plt.show()"
   ]
  },
  {
   "attachments": {},
   "cell_type": "markdown",
   "id": "7cfae6b3-64cc-4dba-8d9a-d51df1827597",
   "metadata": {},
   "source": [
    "O modelo em geral segiu bem a realidade, embora em alguns periodos nota-se uma certa distância da inflação efetiva, por exemplo ao redor do mes 40."
   ]
  }
 ],
 "metadata": {
  "kernelspec": {
   "display_name": "Python 3",
   "language": "python",
   "name": "python3"
  },
  "language_info": {
   "codemirror_mode": {
    "name": "ipython",
    "version": 3
   },
   "file_extension": ".py",
   "mimetype": "text/x-python",
   "name": "python",
   "nbconvert_exporter": "python",
   "pygments_lexer": "ipython3",
   "version": "3.8.8"
  }
 },
 "nbformat": 4,
 "nbformat_minor": 5
}

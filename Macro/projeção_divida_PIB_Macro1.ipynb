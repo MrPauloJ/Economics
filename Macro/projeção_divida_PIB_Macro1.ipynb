{
  "nbformat": 4,
  "nbformat_minor": 0,
  "metadata": {
    "colab": {
      "name": "Macro1.ipynb",
      "provenance": [],
      "collapsed_sections": []
    },
    "kernelspec": {
      "name": "python3",
      "display_name": "Python 3"
    },
    "language_info": {
      "name": "python"
    }
  },
  "cells": [
    {
      "cell_type": "code",
      "metadata": {
        "id": "gs6X8qSbEMcH"
      },
      "source": [
        "#Universidade Federal de Pernambuco\n",
        "#Disciplina: Macro 1\n",
        "#Professor: Marcelo\n",
        "#Aluno: Paulo Francisco da Silva Junior"
      ],
      "execution_count": 11,
      "outputs": []
    },
    {
      "cell_type": "code",
      "metadata": {
        "id": "o_wuGDv3EOVw"
      },
      "source": [
        "#Importações de biliotecas\n",
        "import matplotlib.pyplot as plt\n",
        "import pandas as pd\n",
        "import numpy as np"
      ],
      "execution_count": 12,
      "outputs": []
    },
    {
      "cell_type": "code",
      "metadata": {
        "id": "TKpAXcggEuhw"
      },
      "source": [
        "#Dados a partir de 2018 até 2039\n",
        "r=[0.091, 0.056, 0.045, 0.036, 0.043, 0.039, 0.044, 0.044, 0.044, 0.044, 0.044, 0.044, 0.044, 0.044, 0.044, 0.044, 0.044, 0.044, 0.044, 0.044, 0.044, 0.044]\n",
        "g=[0.011, 0.008, 0.024, 0.024, 0.022, 0.022, 0.022, 0.022, 0.022, 0.022, 0.022, 0.022, 0.022, 0.022, 0.022, 0.022, 0.022, 0.022, 0.022, 0.022, 0.022, 0.022]\n",
        "\n",
        "#Cenário básico\n",
        "d=[0.017, 0.019, 0.013, 0.007, 0.001, -0.004, -0.009, 0.027, 0.027, 0.027, 0.027, 0.027, 0.027, 0.027, 0.027, 0.027, 0.027, 0.027, 0.027, 0.027, 0.027, 0.027]\n",
        "\n",
        "#Cenário venezuela\n",
        "da=[0.017, 0.025, 0.025, 0.04, 0.05, 0.05, 0.05, 0.05, 0.05, 0.05, 0.05, 0.05, 0.05, 0.05, 0.05, 0.05, 0.05, 0.05, 0.05, 0.05, 0.05, 0.05]\n",
        "\n",
        "#Cenário reformista\n",
        "db=[0.017, 0.018, 0, -0.01, -0.02, -0.02, -0.02, -0.02, -0.02, -0.02, -0.02, -0.02, -0.02, -0.02, -0.02, -0.02, -0.02, -0.02, -0.02, -0.02, -0.02, -0.02]"
      ],
      "execution_count": 13,
      "outputs": []
    },
    {
      "cell_type": "code",
      "metadata": {
        "id": "Jy9TDcJ6HTf6"
      },
      "source": [
        "dados={\n",
        "    \"Taxa de juros real\":r,\n",
        "    \"Crescimento PIB real\":g,\n",
        "    \"Déficit Cenário Básico\":d,\n",
        "    \"Déficit Cenário Venezuela\":da,\n",
        "    \"Déficit Cenário Reformista\":db\n",
        "}\n",
        "dados = pd.DataFrame(dados)\n",
        "dados.index=[np.arange(2018,2040,1)]"
      ],
      "execution_count": 14,
      "outputs": []
    },
    {
      "cell_type": "code",
      "metadata": {
        "id": "0KLyad3-WYry"
      },
      "source": [
        "#Montando projeção divida-pib\n",
        "#b(t) = ( 1 + r - g ) * b(t-1) + d(t)"
      ],
      "execution_count": 15,
      "outputs": []
    },
    {
      "cell_type": "code",
      "metadata": {
        "id": "40t9Z8mScyvZ"
      },
      "source": [
        "#lista da divida no cenário básico\n",
        "divida_cen_basic=[0.879]\n",
        "\n",
        "for t in range(1,22):\n",
        "  divida_cen_basic.append( ( 1 + dados.iloc[t,0] - dados.iloc[t,1] ) * divida_cen_basic[t-1] + dados.iloc[t,2])"
      ],
      "execution_count": 16,
      "outputs": []
    },
    {
      "cell_type": "code",
      "metadata": {
        "id": "5Dwtdd58dneC"
      },
      "source": [
        "#lista da divida no cenário venezuela\n",
        "divida_cen_venezuela=[0.879]\n",
        "\n",
        "for t in range(1,22):\n",
        "  divida_cen_venezuela.append( ( 1 + dados.iloc[t,0] - dados.iloc[t,1] ) * divida_cen_venezuela[t-1] + dados.iloc[t,3])"
      ],
      "execution_count": 17,
      "outputs": []
    },
    {
      "cell_type": "code",
      "metadata": {
        "id": "whmDkasWd0h9"
      },
      "source": [
        "#lista da divida no cenário reformista\n",
        "divida_cen_reformista=[0.879]\n",
        "\n",
        "for t in range(1,22):\n",
        "  divida_cen_reformista.append( ( 1 + dados.iloc[t,0] - dados.iloc[t,1] ) * divida_cen_reformista[t-1] + dados.iloc[t,4])"
      ],
      "execution_count": 18,
      "outputs": []
    },
    {
      "cell_type": "code",
      "metadata": {
        "id": "KHzG2chtd23t"
      },
      "source": [
        "divida = {\n",
        "    \"Divida Cenário básico\": divida_cen_basic,\n",
        "    \"Divida Cenário Venezuela\": divida_cen_venezuela,\n",
        "    \"Divida Cenário reformista\": divida_cen_reformista\n",
        "}\n",
        "divida =pd.DataFrame(divida)\n",
        "divida.index=[np.arange(2018,2040,1)]\n",
        "dados_gerais=divida.join(dados)"
      ],
      "execution_count": 19,
      "outputs": []
    },
    {
      "cell_type": "code",
      "metadata": {
        "colab": {
          "base_uri": "https://localhost:8080/",
          "height": 413
        },
        "id": "BWXN6lRJePGy",
        "outputId": "d0846e8c-a7af-4181-c2bd-4c0d9d03d8c9"
      },
      "source": [
        "#plotando gráfico da divida\n",
        "anos=np.arange(2018,2040,1)\n",
        "plt.figure(figsize=(8, 4), dpi=100)\n",
        "plt.plot(anos,divida_cen_basic, label=\"Cenário Básico\")\n",
        "plt.plot(anos,divida_cen_venezuela, label=\"Cenário Venezuela\")\n",
        "plt.plot(anos,divida_cen_reformista, label=\"Cenário Reformista\")\n",
        "plt.title=\"Divida-PIB - Cenários\"\n",
        "plt.xlabel=\"Ano\"\n",
        "plt.ylabel=\"Divida-PIB (%)\"\n",
        "plt.legend()\n",
        "plt.grid()\n",
        "plt.show()\n",
        "print(\"Divida-PIB (2039) - cenário básico: 191.55 %\")\n",
        "print(\"Divida-PIB (2039) - cenário venezuela: 262.34 %\")\n",
        "print(\"Divida-PIB (2039) - cenário reformista: 97.68 %\")"
      ],
      "execution_count": 20,
      "outputs": [
        {
          "output_type": "display_data",
          "data": {
            "image/png": "[encoded data removed]",
            "text/plain": [
              "<Figure size 800x400 with 1 Axes>"
            ]
          },
          "metadata": {
            "needs_background": "light"
          }
        },
        {
          "output_type": "stream",
          "text": [
            "Divida-PIB (2039) - cenário básico: 191.55 %\n",
            "Divida-PIB (2039) - cenário venezuela: 262.34 %\n",
            "Divida-PIB (2039) - cenário reformista: 97.68 %\n"
          ],
          "name": "stdout"
        }
      ]
    },
    {
      "cell_type": "code",
      "metadata": {
        "id": "wFgEfo3Mhyhv"
      },
      "source": [
        ""
      ],
      "execution_count": null,
      "outputs": []
    },
    {
      "cell_type": "code",
      "metadata": {
        "id": "j9UuPlx4OWsD"
      },
      "source": [
        "#Montando variação da divida-pib\n",
        "#b(t)-b(t-1) = (r-g)*b(t-1)+d(t)\n",
        "\n",
        "#lista da variação da divida no cenário básico\n",
        "variacao_divida_cen_basic=[0.879]\n",
        "\n",
        "for t in range(1,22):\n",
        "  variacao_divida_cen_basic.append( ( dados.iloc[t,0] - dados.iloc[t,1] ) * variacao_divida_cen_basic[t-1] + dados.iloc[t,2])"
      ],
      "execution_count": null,
      "outputs": []
    },
    {
      "cell_type": "code",
      "metadata": {
        "id": "IMCdGnLYR_7l"
      },
      "source": [
        "#lista da variação da divida no cenário venezuela\n",
        "variacao_divida_cen_venezuela=[0.879]\n",
        "\n",
        "for t in range(1,22):\n",
        "  variacao_divida_cen_venezuela.append( ( dados.iloc[t,0] - dados.iloc[t,1] ) * variacao_divida_cen_venezuela[t-1] + dados.iloc[t,3])"
      ],
      "execution_count": null,
      "outputs": []
    },
    {
      "cell_type": "code",
      "metadata": {
        "id": "RUUlcGPaTVVI"
      },
      "source": [
        "#lista da variação da divida no cenário reformista\n",
        "variacao_divida_cen_reformista=[0.879]\n",
        "\n",
        "for t in range(1,22):\n",
        "  variacao_divida_cen_reformista.append( ( dados.iloc[t,0] - dados.iloc[t,1] ) * variacao_divida_cen_reformista[t-1] + dados.iloc[t,4])"
      ],
      "execution_count": null,
      "outputs": []
    },
    {
      "cell_type": "code",
      "metadata": {
        "id": "-nHcX-SET_6s"
      },
      "source": [
        "variacoes = {\n",
        "    \"Variação Cenário básico\": variacao_divida_cen_basic[1:],\n",
        "    \"Variação Cenário Venezuela\":variacao_divida_cen_venezuela[1:],\n",
        "    \"Variação Cenário reformista\" :variacao_divida_cen_reformista[1:]\n",
        "}\n",
        "variacoes=pd.DataFrame(variacoes)\n",
        "variacoes.index=[np.arange(2019,2040,1)]"
      ],
      "execution_count": null,
      "outputs": []
    },
    {
      "cell_type": "code",
      "metadata": {
        "id": "NqimL5IZUefI",
        "colab": {
          "base_uri": "https://localhost:8080/",
          "height": 696
        },
        "outputId": "ddd6f5bb-f74d-4321-9789-f1a98b8c57b8"
      },
      "source": [
        "variacoes"
      ],
      "execution_count": null,
      "outputs": [
        {
          "output_type": "execute_result",
          "data": {
            "text/html": [
              "<div>\n",
              "<style scoped>\n",
              "    .dataframe tbody tr th:only-of-type {\n",
              "        vertical-align: middle;\n",
              "    }\n",
              "\n",
              "    .dataframe tbody tr th {\n",
              "        vertical-align: top;\n",
              "    }\n",
              "\n",
              "    .dataframe thead th {\n",
              "        text-align: right;\n",
              "    }\n",
              "</style>\n",
              "<table border=\"1\" class=\"dataframe\">\n",
              "  <thead>\n",
              "    <tr style=\"text-align: right;\">\n",
              "      <th></th>\n",
              "      <th>Variação Cenário básico</th>\n",
              "      <th>Variação Cenário Venezuela</th>\n",
              "      <th>Variação Cenário reformista</th>\n",
              "    </tr>\n",
              "  </thead>\n",
              "  <tbody>\n",
              "    <tr>\n",
              "      <th>2019</th>\n",
              "      <td>0.061192</td>\n",
              "      <td>0.067192</td>\n",
              "      <td>0.060192</td>\n",
              "    </tr>\n",
              "    <tr>\n",
              "      <th>2020</th>\n",
              "      <td>0.014285</td>\n",
              "      <td>0.026411</td>\n",
              "      <td>0.001264</td>\n",
              "    </tr>\n",
              "    <tr>\n",
              "      <th>2021</th>\n",
              "      <td>0.007171</td>\n",
              "      <td>0.040317</td>\n",
              "      <td>-0.009985</td>\n",
              "    </tr>\n",
              "    <tr>\n",
              "      <th>2022</th>\n",
              "      <td>0.001151</td>\n",
              "      <td>0.050847</td>\n",
              "      <td>-0.020210</td>\n",
              "    </tr>\n",
              "    <tr>\n",
              "      <th>2023</th>\n",
              "      <td>-0.003980</td>\n",
              "      <td>0.050864</td>\n",
              "      <td>-0.020344</td>\n",
              "    </tr>\n",
              "    <tr>\n",
              "      <th>2024</th>\n",
              "      <td>-0.009088</td>\n",
              "      <td>0.051119</td>\n",
              "      <td>-0.020448</td>\n",
              "    </tr>\n",
              "    <tr>\n",
              "      <th>2025</th>\n",
              "      <td>0.026800</td>\n",
              "      <td>0.051125</td>\n",
              "      <td>-0.020450</td>\n",
              "    </tr>\n",
              "    <tr>\n",
              "      <th>2026</th>\n",
              "      <td>0.027590</td>\n",
              "      <td>0.051125</td>\n",
              "      <td>-0.020450</td>\n",
              "    </tr>\n",
              "    <tr>\n",
              "      <th>2027</th>\n",
              "      <td>0.027607</td>\n",
              "      <td>0.051125</td>\n",
              "      <td>-0.020450</td>\n",
              "    </tr>\n",
              "    <tr>\n",
              "      <th>2028</th>\n",
              "      <td>0.027607</td>\n",
              "      <td>0.051125</td>\n",
              "      <td>-0.020450</td>\n",
              "    </tr>\n",
              "    <tr>\n",
              "      <th>2029</th>\n",
              "      <td>0.027607</td>\n",
              "      <td>0.051125</td>\n",
              "      <td>-0.020450</td>\n",
              "    </tr>\n",
              "    <tr>\n",
              "      <th>2030</th>\n",
              "      <td>0.027607</td>\n",
              "      <td>0.051125</td>\n",
              "      <td>-0.020450</td>\n",
              "    </tr>\n",
              "    <tr>\n",
              "      <th>2031</th>\n",
              "      <td>0.027607</td>\n",
              "      <td>0.051125</td>\n",
              "      <td>-0.020450</td>\n",
              "    </tr>\n",
              "    <tr>\n",
              "      <th>2032</th>\n",
              "      <td>0.027607</td>\n",
              "      <td>0.051125</td>\n",
              "      <td>-0.020450</td>\n",
              "    </tr>\n",
              "    <tr>\n",
              "      <th>2033</th>\n",
              "      <td>0.027607</td>\n",
              "      <td>0.051125</td>\n",
              "      <td>-0.020450</td>\n",
              "    </tr>\n",
              "    <tr>\n",
              "      <th>2034</th>\n",
              "      <td>0.027607</td>\n",
              "      <td>0.051125</td>\n",
              "      <td>-0.020450</td>\n",
              "    </tr>\n",
              "    <tr>\n",
              "      <th>2035</th>\n",
              "      <td>0.027607</td>\n",
              "      <td>0.051125</td>\n",
              "      <td>-0.020450</td>\n",
              "    </tr>\n",
              "    <tr>\n",
              "      <th>2036</th>\n",
              "      <td>0.027607</td>\n",
              "      <td>0.051125</td>\n",
              "      <td>-0.020450</td>\n",
              "    </tr>\n",
              "    <tr>\n",
              "      <th>2037</th>\n",
              "      <td>0.027607</td>\n",
              "      <td>0.051125</td>\n",
              "      <td>-0.020450</td>\n",
              "    </tr>\n",
              "    <tr>\n",
              "      <th>2038</th>\n",
              "      <td>0.027607</td>\n",
              "      <td>0.051125</td>\n",
              "      <td>-0.020450</td>\n",
              "    </tr>\n",
              "    <tr>\n",
              "      <th>2039</th>\n",
              "      <td>0.027607</td>\n",
              "      <td>0.051125</td>\n",
              "      <td>-0.020450</td>\n",
              "    </tr>\n",
              "  </tbody>\n",
              "</table>\n",
              "</div>"
            ],
            "text/plain": [
              "      Variação Cenário básico  ...  Variação Cenário reformista\n",
              "2019                 0.061192  ...                     0.060192\n",
              "2020                 0.014285  ...                     0.001264\n",
              "2021                 0.007171  ...                    -0.009985\n",
              "2022                 0.001151  ...                    -0.020210\n",
              "2023                -0.003980  ...                    -0.020344\n",
              "2024                -0.009088  ...                    -0.020448\n",
              "2025                 0.026800  ...                    -0.020450\n",
              "2026                 0.027590  ...                    -0.020450\n",
              "2027                 0.027607  ...                    -0.020450\n",
              "2028                 0.027607  ...                    -0.020450\n",
              "2029                 0.027607  ...                    -0.020450\n",
              "2030                 0.027607  ...                    -0.020450\n",
              "2031                 0.027607  ...                    -0.020450\n",
              "2032                 0.027607  ...                    -0.020450\n",
              "2033                 0.027607  ...                    -0.020450\n",
              "2034                 0.027607  ...                    -0.020450\n",
              "2035                 0.027607  ...                    -0.020450\n",
              "2036                 0.027607  ...                    -0.020450\n",
              "2037                 0.027607  ...                    -0.020450\n",
              "2038                 0.027607  ...                    -0.020450\n",
              "2039                 0.027607  ...                    -0.020450\n",
              "\n",
              "[21 rows x 3 columns]"
            ]
          },
          "metadata": {},
          "execution_count": 72
        }
      ]
    },
    {
      "cell_type": "code",
      "metadata": {
        "id": "9n7N-7tBUfNx",
        "colab": {
          "base_uri": "https://localhost:8080/",
          "height": 362
        },
        "outputId": "30e885b0-7faa-4c72-cd57-9bafe79d092e"
      },
      "source": [
        "#plotando gráfico\n",
        "anos=np.arange(2019,2040,1)\n",
        "plt.figure(figsize=(8, 4), dpi=100)\n",
        "plt.plot(anos,variacao_divida_cen_basic[1:], label=\"Básico\")\n",
        "plt.plot(anos,variacao_divida_cen_venezuela[1:], label=\"Venezuela\")\n",
        "plt.plot(anos,variacao_divida_cen_reformista[1:], label=\"Reformista\")\n",
        "plt.xlabel=\"Ano\"\n",
        "plt.ylabel=\"Variação divida-PIB\"\n",
        "plt.title=\"Divida-PIB - Cenários\"\n",
        "plt.legend(loc=\"upper right\",)\n",
        "plt.grid()\n",
        "plt.show()"
      ],
      "execution_count": null,
      "outputs": [
        {
          "output_type": "display_data",
          "data": {
            "image/png": "[encoded data removed]",
            "text/plain": [
              "<Figure size 800x400 with 1 Axes>"
            ]
          },
          "metadata": {
            "needs_background": "light"
          }
        }
      ]
    },
    {
      "cell_type": "code",
      "metadata": {
        "id": "KJeKSiX2q7U5"
      },
      "source": [
        ""
      ],
      "execution_count": null,
      "outputs": []
    }
  ]
}
